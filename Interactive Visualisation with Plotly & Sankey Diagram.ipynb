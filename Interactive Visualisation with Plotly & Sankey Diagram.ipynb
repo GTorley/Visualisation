{
 "cells": [
  {
   "cell_type": "markdown",
   "metadata": {},
   "source": [
    "# VISUALISATION WITH PLOTLY"
   ]
  },
  {
   "cell_type": "code",
   "execution_count": 170,
   "metadata": {},
   "outputs": [
    {
     "data": {
      "text/html": [
       "        <script type=\"text/javascript\">\n",
       "        window.PlotlyConfig = {MathJaxConfig: 'local'};\n",
       "        if (window.MathJax) {MathJax.Hub.Config({SVG: {font: \"STIX-Web\"}});}\n",
       "        if (typeof require !== 'undefined') {\n",
       "        require.undef(\"plotly\");\n",
       "        requirejs.config({\n",
       "            paths: {\n",
       "                'plotly': ['https://cdn.plot.ly/plotly-latest.min']\n",
       "            }\n",
       "        });\n",
       "        require(['plotly'], function(Plotly) {\n",
       "            window._Plotly = Plotly;\n",
       "        });\n",
       "        }\n",
       "        </script>\n",
       "        "
      ]
     },
     "metadata": {},
     "output_type": "display_data"
    }
   ],
   "source": [
    "import pandas as pd\n",
    "import numpy as np\n",
    "import plotly\n",
    "plotly.offline.init_notebook_mode(connected=True) # need this!!!\n",
    "import plotly.express as px\n",
    "import plotly.graph_objects as go\n",
    "import matplotlib.pyplot as plt\n",
    "import seaborn as sns\n"
   ]
  },
  {
   "cell_type": "code",
   "execution_count": 23,
   "metadata": {},
   "outputs": [],
   "source": [
    "path = \"c:\\\\datasets\\\\kaggle\\\\datasets_23752_30346_countries of the world.csv\";\n"
   ]
  },
  {
   "cell_type": "markdown",
   "metadata": {},
   "source": [
    "## the file use commas as decimal separator!!!!"
   ]
  },
  {
   "cell_type": "code",
   "execution_count": 93,
   "metadata": {},
   "outputs": [],
   "source": [
    "countries = pd.read_csv(path, decimal=\",\")"
   ]
  },
  {
   "cell_type": "code",
   "execution_count": 94,
   "metadata": {},
   "outputs": [
    {
     "data": {
      "text/html": [
       "<div>\n",
       "<style scoped>\n",
       "    .dataframe tbody tr th:only-of-type {\n",
       "        vertical-align: middle;\n",
       "    }\n",
       "\n",
       "    .dataframe tbody tr th {\n",
       "        vertical-align: top;\n",
       "    }\n",
       "\n",
       "    .dataframe thead th {\n",
       "        text-align: right;\n",
       "    }\n",
       "</style>\n",
       "<table border=\"1\" class=\"dataframe\">\n",
       "  <thead>\n",
       "    <tr style=\"text-align: right;\">\n",
       "      <th></th>\n",
       "      <th>Country</th>\n",
       "      <th>Region</th>\n",
       "      <th>Population</th>\n",
       "      <th>Area (sq. mi.)</th>\n",
       "      <th>Pop. Density (per sq. mi.)</th>\n",
       "      <th>Coastline (coast/area ratio)</th>\n",
       "      <th>Net migration</th>\n",
       "      <th>Infant mortality (per 1000 births)</th>\n",
       "      <th>GDP ($ per capita)</th>\n",
       "      <th>Literacy (%)</th>\n",
       "      <th>Phones (per 1000)</th>\n",
       "      <th>Arable (%)</th>\n",
       "      <th>Crops (%)</th>\n",
       "      <th>Other (%)</th>\n",
       "      <th>Climate</th>\n",
       "      <th>Birthrate</th>\n",
       "      <th>Deathrate</th>\n",
       "      <th>Agriculture</th>\n",
       "      <th>Industry</th>\n",
       "      <th>Service</th>\n",
       "    </tr>\n",
       "  </thead>\n",
       "  <tbody>\n",
       "    <tr>\n",
       "      <th>0</th>\n",
       "      <td>Afghanistan</td>\n",
       "      <td>ASIA (EX. NEAR EAST)</td>\n",
       "      <td>31056997</td>\n",
       "      <td>647500</td>\n",
       "      <td>48.0</td>\n",
       "      <td>0.00</td>\n",
       "      <td>23.06</td>\n",
       "      <td>163.07</td>\n",
       "      <td>700.0</td>\n",
       "      <td>36.0</td>\n",
       "      <td>3.2</td>\n",
       "      <td>12.13</td>\n",
       "      <td>0.22</td>\n",
       "      <td>87.65</td>\n",
       "      <td>1.0</td>\n",
       "      <td>46.60</td>\n",
       "      <td>20.34</td>\n",
       "      <td>0.380</td>\n",
       "      <td>0.240</td>\n",
       "      <td>0.380</td>\n",
       "    </tr>\n",
       "    <tr>\n",
       "      <th>1</th>\n",
       "      <td>Albania</td>\n",
       "      <td>EASTERN EUROPE</td>\n",
       "      <td>3581655</td>\n",
       "      <td>28748</td>\n",
       "      <td>124.6</td>\n",
       "      <td>1.26</td>\n",
       "      <td>-4.93</td>\n",
       "      <td>21.52</td>\n",
       "      <td>4500.0</td>\n",
       "      <td>86.5</td>\n",
       "      <td>71.2</td>\n",
       "      <td>21.09</td>\n",
       "      <td>4.42</td>\n",
       "      <td>74.49</td>\n",
       "      <td>3.0</td>\n",
       "      <td>15.11</td>\n",
       "      <td>5.22</td>\n",
       "      <td>0.232</td>\n",
       "      <td>0.188</td>\n",
       "      <td>0.579</td>\n",
       "    </tr>\n",
       "    <tr>\n",
       "      <th>2</th>\n",
       "      <td>Algeria</td>\n",
       "      <td>NORTHERN AFRICA</td>\n",
       "      <td>32930091</td>\n",
       "      <td>2381740</td>\n",
       "      <td>13.8</td>\n",
       "      <td>0.04</td>\n",
       "      <td>-0.39</td>\n",
       "      <td>31.00</td>\n",
       "      <td>6000.0</td>\n",
       "      <td>70.0</td>\n",
       "      <td>78.1</td>\n",
       "      <td>3.22</td>\n",
       "      <td>0.25</td>\n",
       "      <td>96.53</td>\n",
       "      <td>1.0</td>\n",
       "      <td>17.14</td>\n",
       "      <td>4.61</td>\n",
       "      <td>0.101</td>\n",
       "      <td>0.600</td>\n",
       "      <td>0.298</td>\n",
       "    </tr>\n",
       "    <tr>\n",
       "      <th>3</th>\n",
       "      <td>American Samoa</td>\n",
       "      <td>OCEANIA</td>\n",
       "      <td>57794</td>\n",
       "      <td>199</td>\n",
       "      <td>290.4</td>\n",
       "      <td>58.29</td>\n",
       "      <td>-20.71</td>\n",
       "      <td>9.27</td>\n",
       "      <td>8000.0</td>\n",
       "      <td>97.0</td>\n",
       "      <td>259.5</td>\n",
       "      <td>10.00</td>\n",
       "      <td>15.00</td>\n",
       "      <td>75.00</td>\n",
       "      <td>2.0</td>\n",
       "      <td>22.46</td>\n",
       "      <td>3.27</td>\n",
       "      <td>NaN</td>\n",
       "      <td>NaN</td>\n",
       "      <td>NaN</td>\n",
       "    </tr>\n",
       "    <tr>\n",
       "      <th>4</th>\n",
       "      <td>Andorra</td>\n",
       "      <td>WESTERN EUROPE</td>\n",
       "      <td>71201</td>\n",
       "      <td>468</td>\n",
       "      <td>152.1</td>\n",
       "      <td>0.00</td>\n",
       "      <td>6.60</td>\n",
       "      <td>4.05</td>\n",
       "      <td>19000.0</td>\n",
       "      <td>100.0</td>\n",
       "      <td>497.2</td>\n",
       "      <td>2.22</td>\n",
       "      <td>0.00</td>\n",
       "      <td>97.78</td>\n",
       "      <td>3.0</td>\n",
       "      <td>8.71</td>\n",
       "      <td>6.25</td>\n",
       "      <td>NaN</td>\n",
       "      <td>NaN</td>\n",
       "      <td>NaN</td>\n",
       "    </tr>\n",
       "  </tbody>\n",
       "</table>\n",
       "</div>"
      ],
      "text/plain": [
       "           Country                               Region  Population  \\\n",
       "0     Afghanistan         ASIA (EX. NEAR EAST)             31056997   \n",
       "1         Albania   EASTERN EUROPE                          3581655   \n",
       "2         Algeria   NORTHERN AFRICA                        32930091   \n",
       "3  American Samoa   OCEANIA                                   57794   \n",
       "4         Andorra   WESTERN EUROPE                            71201   \n",
       "\n",
       "   Area (sq. mi.)  Pop. Density (per sq. mi.)  Coastline (coast/area ratio)  \\\n",
       "0          647500                        48.0                          0.00   \n",
       "1           28748                       124.6                          1.26   \n",
       "2         2381740                        13.8                          0.04   \n",
       "3             199                       290.4                         58.29   \n",
       "4             468                       152.1                          0.00   \n",
       "\n",
       "   Net migration  Infant mortality (per 1000 births)  GDP ($ per capita)  \\\n",
       "0          23.06                              163.07               700.0   \n",
       "1          -4.93                               21.52              4500.0   \n",
       "2          -0.39                               31.00              6000.0   \n",
       "3         -20.71                                9.27              8000.0   \n",
       "4           6.60                                4.05             19000.0   \n",
       "\n",
       "   Literacy (%)  Phones (per 1000)  Arable (%)  Crops (%)  Other (%)  Climate  \\\n",
       "0          36.0                3.2       12.13       0.22      87.65      1.0   \n",
       "1          86.5               71.2       21.09       4.42      74.49      3.0   \n",
       "2          70.0               78.1        3.22       0.25      96.53      1.0   \n",
       "3          97.0              259.5       10.00      15.00      75.00      2.0   \n",
       "4         100.0              497.2        2.22       0.00      97.78      3.0   \n",
       "\n",
       "   Birthrate  Deathrate  Agriculture  Industry  Service  \n",
       "0      46.60      20.34        0.380     0.240    0.380  \n",
       "1      15.11       5.22        0.232     0.188    0.579  \n",
       "2      17.14       4.61        0.101     0.600    0.298  \n",
       "3      22.46       3.27          NaN       NaN      NaN  \n",
       "4       8.71       6.25          NaN       NaN      NaN  "
      ]
     },
     "execution_count": 94,
     "metadata": {},
     "output_type": "execute_result"
    }
   ],
   "source": [
    "countries.head()"
   ]
  },
  {
   "cell_type": "code",
   "execution_count": 95,
   "metadata": {},
   "outputs": [
    {
     "data": {
      "text/plain": [
       "(227, 20)"
      ]
     },
     "execution_count": 95,
     "metadata": {},
     "output_type": "execute_result"
    }
   ],
   "source": [
    "countries.shape"
   ]
  },
  {
   "cell_type": "code",
   "execution_count": 96,
   "metadata": {
    "scrolled": true
   },
   "outputs": [
    {
     "name": "stdout",
     "output_type": "stream",
     "text": [
      "<class 'pandas.core.frame.DataFrame'>\n",
      "RangeIndex: 227 entries, 0 to 226\n",
      "Data columns (total 20 columns):\n",
      " #   Column                              Non-Null Count  Dtype  \n",
      "---  ------                              --------------  -----  \n",
      " 0   Country                             227 non-null    object \n",
      " 1   Region                              227 non-null    object \n",
      " 2   Population                          227 non-null    int64  \n",
      " 3   Area (sq. mi.)                      227 non-null    int64  \n",
      " 4   Pop. Density (per sq. mi.)          227 non-null    float64\n",
      " 5   Coastline (coast/area ratio)        227 non-null    float64\n",
      " 6   Net migration                       224 non-null    float64\n",
      " 7   Infant mortality (per 1000 births)  224 non-null    float64\n",
      " 8   GDP ($ per capita)                  226 non-null    float64\n",
      " 9   Literacy (%)                        209 non-null    float64\n",
      " 10  Phones (per 1000)                   223 non-null    float64\n",
      " 11  Arable (%)                          225 non-null    float64\n",
      " 12  Crops (%)                           225 non-null    float64\n",
      " 13  Other (%)                           225 non-null    float64\n",
      " 14  Climate                             205 non-null    float64\n",
      " 15  Birthrate                           224 non-null    float64\n",
      " 16  Deathrate                           223 non-null    float64\n",
      " 17  Agriculture                         212 non-null    float64\n",
      " 18  Industry                            211 non-null    float64\n",
      " 19  Service                             212 non-null    float64\n",
      "dtypes: float64(16), int64(2), object(2)\n",
      "memory usage: 35.6+ KB\n"
     ]
    }
   ],
   "source": [
    "countries.info()"
   ]
  },
  {
   "cell_type": "code",
   "execution_count": 98,
   "metadata": {},
   "outputs": [],
   "source": [
    "med_birthrate = countries.Birthrate.median()\n",
    "countries.Birthrate = countries.Birthrate.fillna(med_birthrate)"
   ]
  },
  {
   "cell_type": "code",
   "execution_count": null,
   "metadata": {},
   "outputs": [],
   "source": []
  },
  {
   "cell_type": "code",
   "execution_count": 58,
   "metadata": {},
   "outputs": [],
   "source": [
    "countries = countries.sort_values(by=['Population'], ascending=False)"
   ]
  },
  {
   "cell_type": "code",
   "execution_count": 59,
   "metadata": {},
   "outputs": [
    {
     "data": {
      "application/vnd.plotly.v1+json": {
       "config": {
        "plotlyServerURL": "https://plot.ly"
       },
       "data": [
        {
         "alignmentgroup": "True",
         "hovertemplate": "Country=%{x}<br>Population=%{marker.color}<extra></extra>",
         "legendgroup": "",
         "marker": {
          "color": [
           1313973713,
           1095351995,
           298444215,
           245452739,
           188078227,
           165803560,
           147365352,
           142893540,
           131859731,
           127463611,
           107449525,
           89468677,
           84402966,
           82422299,
           78887007,
           74777981,
           70413958,
           68688433,
           64631595,
           62660551,
           60876136,
           60609153,
           58133509,
           48846823,
           47382633,
           46710816,
           44187637,
           43593035,
           41236378,
           40397842,
           39921833,
           38536869,
           37445392,
           34707817,
           33241259,
           33098932,
           32930091,
           31056997,
           28302603,
           28287147,
           28195754,
           27307134,
           27019731,
           26783383,
           25730435,
           24385858,
           23113019,
           23036087,
           22409572,
           22303552,
           21456188,
           20264082,
           20222240,
           19686505,
           18881361,
           18595469,
           17654843,
           17340702,
           16491461,
           16134219,
           15233244,
           13902972,
           13881427,
           13547510,
           13013926,
           12525094,
           12293545,
           12236805,
           12127071,
           11987121,
           11716829,
           11502010,
           11382820,
           10688058,
           10605870,
           10379067,
           10293011,
           10235455,
           10175014,
           9981334,
           9944201,
           9690222,
           9396411,
           9183984,
           9016596,
           8989046,
           8863338,
           8648248,
           8308504,
           8192880,
           8090068,
           7961619,
           7862944,
           7523934,
           7385367,
           7326496,
           7320815,
           6940432,
           6822378,
           6506464,
           6368481,
           6352117,
           6005250,
           5906760,
           5900754,
           5670544,
           5570129,
           5548702,
           5450661,
           5439448,
           5231372,
           5213898,
           5042920,
           4786994,
           4661473,
           4610820,
           4498976,
           4494749,
           4492150,
           4466706,
           4303356,
           4076140,
           4075261,
           4062235,
           3927188,
           3874050,
           3702314,
           3585906,
           3581655,
           3431932,
           3191319,
           3177388,
           3102229,
           3042004,
           2976372,
           2832224,
           2758124,
           2602713,
           2460492,
           2418393,
           2279723,
           2274735,
           2050554,
           2044147,
           2022331,
           2010347,
           1641564,
           1639833,
           1442029,
           1428757,
           1424906,
           1324333,
           1240827,
           1136334,
           1065842,
           1062777,
           905949,
           885359,
           787584,
           784301,
           767245,
           698585,
           690948,
           552438,
           540109,
           486530,
           474413,
           453125,
           452776,
           439117,
           436131,
           420979,
           400214,
           379444,
           359008,
           303770,
           299388,
           287730,
           279912,
           274578,
           273008,
           221736,
           219246,
           208869,
           201234,
           199509,
           193413,
           176908,
           171019,
           168458,
           117848,
           114689,
           108605,
           108004,
           105432,
           91084,
           89703,
           82459,
           81541,
           75441,
           71891,
           71201,
           69108,
           68910,
           65773,
           65409,
           60422,
           57794,
           56361,
           47246,
           45436,
           39129,
           33987,
           32543,
           29251,
           27928,
           23098,
           21388,
           21152,
           20579,
           16025,
           13477,
           13287,
           11810,
           9439,
           7502,
           7026
          ],
          "coloraxis": "coloraxis"
         },
         "name": "",
         "offsetgroup": "",
         "orientation": "v",
         "showlegend": false,
         "textposition": "auto",
         "type": "bar",
         "x": [
          "China ",
          "India ",
          "United States ",
          "Indonesia ",
          "Brazil ",
          "Pakistan ",
          "Bangladesh ",
          "Russia ",
          "Nigeria ",
          "Japan ",
          "Mexico ",
          "Philippines ",
          "Vietnam ",
          "Germany ",
          "Egypt ",
          "Ethiopia ",
          "Turkey ",
          "Iran ",
          "Thailand ",
          "Congo, Dem. Rep. ",
          "France ",
          "United Kingdom ",
          "Italy ",
          "Korea, South ",
          "Burma ",
          "Ukraine ",
          "South Africa ",
          "Colombia ",
          "Sudan ",
          "Spain ",
          "Argentina ",
          "Poland ",
          "Tanzania ",
          "Kenya ",
          "Morocco ",
          "Canada ",
          "Algeria ",
          "Afghanistan ",
          "Peru ",
          "Nepal ",
          "Uganda ",
          "Uzbekistan ",
          "Saudi Arabia ",
          "Iraq ",
          "Venezuela ",
          "Malaysia ",
          "Korea, North ",
          "Taiwan ",
          "Ghana ",
          "Romania ",
          "Yemen ",
          "Australia ",
          "Sri Lanka ",
          "Mozambique ",
          "Syria ",
          "Madagascar ",
          "Cote d'Ivoire ",
          "Cameroon ",
          "Netherlands ",
          "Chile ",
          "Kazakhstan ",
          "Burkina Faso ",
          "Cambodia ",
          "Ecuador ",
          "Malawi ",
          "Niger ",
          "Guatemala ",
          "Zimbabwe ",
          "Angola ",
          "Senegal ",
          "Mali ",
          "Zambia ",
          "Cuba ",
          "Greece ",
          "Portugal ",
          "Belgium ",
          "Belarus ",
          "Czech Republic ",
          "Tunisia ",
          "Hungary ",
          "Chad ",
          "Guinea ",
          "Serbia ",
          "Dominican Republic ",
          "Sweden ",
          "Bolivia ",
          "Somalia ",
          "Rwanda ",
          "Haiti ",
          "Austria ",
          "Burundi ",
          "Azerbaijan ",
          "Benin ",
          "Switzerland ",
          "Bulgaria ",
          "Honduras ",
          "Tajikistan ",
          "Hong Kong ",
          "El Salvador ",
          "Paraguay ",
          "Laos ",
          "Israel ",
          "Sierra Leone ",
          "Jordan ",
          "Libya ",
          "Papua New Guinea ",
          "Nicaragua ",
          "Togo ",
          "Denmark ",
          "Slovakia ",
          "Finland ",
          "Kyrgyzstan ",
          "Turkmenistan ",
          "Eritrea ",
          "Georgia ",
          "Norway ",
          "Bosnia & Herzegovina ",
          "Croatia ",
          "Singapore ",
          "Moldova ",
          "Central African Rep. ",
          "New Zealand ",
          "Costa Rica ",
          "Ireland ",
          "Puerto Rico ",
          "Lebanon ",
          "Congo, Repub. of the ",
          "Lithuania ",
          "Albania ",
          "Uruguay ",
          "Panama ",
          "Mauritania ",
          "Oman ",
          "Liberia ",
          "Armenia ",
          "Mongolia ",
          "Jamaica ",
          "United Arab Emirates ",
          "West Bank ",
          "Kuwait ",
          "Bhutan ",
          "Latvia ",
          "Macedonia ",
          "Namibia ",
          "Lesotho ",
          "Slovenia ",
          "Gambia, The ",
          "Botswana ",
          "Guinea-Bissau ",
          "Gaza Strip ",
          "Gabon ",
          "Estonia ",
          "Mauritius ",
          "Swaziland ",
          "Trinidad & Tobago ",
          "East Timor ",
          "Fiji ",
          "Qatar ",
          "Reunion ",
          "Cyprus ",
          "Guyana ",
          "Bahrain ",
          "Comoros ",
          "Solomon Islands ",
          "Equatorial Guinea ",
          "Djibouti ",
          "Luxembourg ",
          "Macau ",
          "Guadeloupe ",
          "Suriname ",
          "Martinique ",
          "Cape Verde ",
          "Malta ",
          "Brunei ",
          "Maldives ",
          "Bahamas, The ",
          "Iceland ",
          "Belize ",
          "Barbados ",
          "French Polynesia ",
          "Western Sahara ",
          "Netherlands Antilles ",
          "New Caledonia ",
          "Vanuatu ",
          "Mayotte ",
          "French Guiana ",
          "Sao Tome & Principe ",
          "Samoa ",
          "Guam ",
          "Saint Lucia ",
          "Saint Vincent and the Grenadines ",
          "Tonga ",
          "Virgin Islands ",
          "Micronesia, Fed. St. ",
          "Kiribati ",
          "Jersey ",
          "Grenada ",
          "N. Mariana Islands ",
          "Seychelles ",
          "Isle of Man ",
          "Aruba ",
          "Andorra ",
          "Antigua & Barbuda ",
          "Dominica ",
          "Bermuda ",
          "Guernsey ",
          "Marshall Islands ",
          "American Samoa ",
          "Greenland ",
          "Faroe Islands ",
          "Cayman Islands ",
          "Saint Kitts & Nevis ",
          "Liechtenstein ",
          "Monaco ",
          "San Marino ",
          "Gibraltar ",
          "British Virgin Is. ",
          "Cook Islands ",
          "Turks & Caicos Is ",
          "Palau ",
          "Wallis and Futuna ",
          "Anguilla ",
          "Nauru ",
          "Tuvalu ",
          "Montserrat ",
          "Saint Helena ",
          "St Pierre & Miquelon "
         ],
         "xaxis": "x",
         "y": [
          1313973713,
          1095351995,
          298444215,
          245452739,
          188078227,
          165803560,
          147365352,
          142893540,
          131859731,
          127463611,
          107449525,
          89468677,
          84402966,
          82422299,
          78887007,
          74777981,
          70413958,
          68688433,
          64631595,
          62660551,
          60876136,
          60609153,
          58133509,
          48846823,
          47382633,
          46710816,
          44187637,
          43593035,
          41236378,
          40397842,
          39921833,
          38536869,
          37445392,
          34707817,
          33241259,
          33098932,
          32930091,
          31056997,
          28302603,
          28287147,
          28195754,
          27307134,
          27019731,
          26783383,
          25730435,
          24385858,
          23113019,
          23036087,
          22409572,
          22303552,
          21456188,
          20264082,
          20222240,
          19686505,
          18881361,
          18595469,
          17654843,
          17340702,
          16491461,
          16134219,
          15233244,
          13902972,
          13881427,
          13547510,
          13013926,
          12525094,
          12293545,
          12236805,
          12127071,
          11987121,
          11716829,
          11502010,
          11382820,
          10688058,
          10605870,
          10379067,
          10293011,
          10235455,
          10175014,
          9981334,
          9944201,
          9690222,
          9396411,
          9183984,
          9016596,
          8989046,
          8863338,
          8648248,
          8308504,
          8192880,
          8090068,
          7961619,
          7862944,
          7523934,
          7385367,
          7326496,
          7320815,
          6940432,
          6822378,
          6506464,
          6368481,
          6352117,
          6005250,
          5906760,
          5900754,
          5670544,
          5570129,
          5548702,
          5450661,
          5439448,
          5231372,
          5213898,
          5042920,
          4786994,
          4661473,
          4610820,
          4498976,
          4494749,
          4492150,
          4466706,
          4303356,
          4076140,
          4075261,
          4062235,
          3927188,
          3874050,
          3702314,
          3585906,
          3581655,
          3431932,
          3191319,
          3177388,
          3102229,
          3042004,
          2976372,
          2832224,
          2758124,
          2602713,
          2460492,
          2418393,
          2279723,
          2274735,
          2050554,
          2044147,
          2022331,
          2010347,
          1641564,
          1639833,
          1442029,
          1428757,
          1424906,
          1324333,
          1240827,
          1136334,
          1065842,
          1062777,
          905949,
          885359,
          787584,
          784301,
          767245,
          698585,
          690948,
          552438,
          540109,
          486530,
          474413,
          453125,
          452776,
          439117,
          436131,
          420979,
          400214,
          379444,
          359008,
          303770,
          299388,
          287730,
          279912,
          274578,
          273008,
          221736,
          219246,
          208869,
          201234,
          199509,
          193413,
          176908,
          171019,
          168458,
          117848,
          114689,
          108605,
          108004,
          105432,
          91084,
          89703,
          82459,
          81541,
          75441,
          71891,
          71201,
          69108,
          68910,
          65773,
          65409,
          60422,
          57794,
          56361,
          47246,
          45436,
          39129,
          33987,
          32543,
          29251,
          27928,
          23098,
          21388,
          21152,
          20579,
          16025,
          13477,
          13287,
          11810,
          9439,
          7502,
          7026
         ],
         "yaxis": "y"
        }
       ],
       "layout": {
        "barmode": "relative",
        "coloraxis": {
         "colorbar": {
          "title": {
           "text": "Population"
          }
         },
         "colorscale": [
          [
           0,
           "#0d0887"
          ],
          [
           0.1111111111111111,
           "#46039f"
          ],
          [
           0.2222222222222222,
           "#7201a8"
          ],
          [
           0.3333333333333333,
           "#9c179e"
          ],
          [
           0.4444444444444444,
           "#bd3786"
          ],
          [
           0.5555555555555556,
           "#d8576b"
          ],
          [
           0.6666666666666666,
           "#ed7953"
          ],
          [
           0.7777777777777778,
           "#fb9f3a"
          ],
          [
           0.8888888888888888,
           "#fdca26"
          ],
          [
           1,
           "#f0f921"
          ]
         ]
        },
        "height": 800,
        "legend": {
         "tracegroupgap": 0
        },
        "margin": {
         "t": 60
        },
        "template": {
         "data": {
          "bar": [
           {
            "error_x": {
             "color": "#2a3f5f"
            },
            "error_y": {
             "color": "#2a3f5f"
            },
            "marker": {
             "line": {
              "color": "#E5ECF6",
              "width": 0.5
             }
            },
            "type": "bar"
           }
          ],
          "barpolar": [
           {
            "marker": {
             "line": {
              "color": "#E5ECF6",
              "width": 0.5
             }
            },
            "type": "barpolar"
           }
          ],
          "carpet": [
           {
            "aaxis": {
             "endlinecolor": "#2a3f5f",
             "gridcolor": "white",
             "linecolor": "white",
             "minorgridcolor": "white",
             "startlinecolor": "#2a3f5f"
            },
            "baxis": {
             "endlinecolor": "#2a3f5f",
             "gridcolor": "white",
             "linecolor": "white",
             "minorgridcolor": "white",
             "startlinecolor": "#2a3f5f"
            },
            "type": "carpet"
           }
          ],
          "choropleth": [
           {
            "colorbar": {
             "outlinewidth": 0,
             "ticks": ""
            },
            "type": "choropleth"
           }
          ],
          "contour": [
           {
            "colorbar": {
             "outlinewidth": 0,
             "ticks": ""
            },
            "colorscale": [
             [
              0,
              "#0d0887"
             ],
             [
              0.1111111111111111,
              "#46039f"
             ],
             [
              0.2222222222222222,
              "#7201a8"
             ],
             [
              0.3333333333333333,
              "#9c179e"
             ],
             [
              0.4444444444444444,
              "#bd3786"
             ],
             [
              0.5555555555555556,
              "#d8576b"
             ],
             [
              0.6666666666666666,
              "#ed7953"
             ],
             [
              0.7777777777777778,
              "#fb9f3a"
             ],
             [
              0.8888888888888888,
              "#fdca26"
             ],
             [
              1,
              "#f0f921"
             ]
            ],
            "type": "contour"
           }
          ],
          "contourcarpet": [
           {
            "colorbar": {
             "outlinewidth": 0,
             "ticks": ""
            },
            "type": "contourcarpet"
           }
          ],
          "heatmap": [
           {
            "colorbar": {
             "outlinewidth": 0,
             "ticks": ""
            },
            "colorscale": [
             [
              0,
              "#0d0887"
             ],
             [
              0.1111111111111111,
              "#46039f"
             ],
             [
              0.2222222222222222,
              "#7201a8"
             ],
             [
              0.3333333333333333,
              "#9c179e"
             ],
             [
              0.4444444444444444,
              "#bd3786"
             ],
             [
              0.5555555555555556,
              "#d8576b"
             ],
             [
              0.6666666666666666,
              "#ed7953"
             ],
             [
              0.7777777777777778,
              "#fb9f3a"
             ],
             [
              0.8888888888888888,
              "#fdca26"
             ],
             [
              1,
              "#f0f921"
             ]
            ],
            "type": "heatmap"
           }
          ],
          "heatmapgl": [
           {
            "colorbar": {
             "outlinewidth": 0,
             "ticks": ""
            },
            "colorscale": [
             [
              0,
              "#0d0887"
             ],
             [
              0.1111111111111111,
              "#46039f"
             ],
             [
              0.2222222222222222,
              "#7201a8"
             ],
             [
              0.3333333333333333,
              "#9c179e"
             ],
             [
              0.4444444444444444,
              "#bd3786"
             ],
             [
              0.5555555555555556,
              "#d8576b"
             ],
             [
              0.6666666666666666,
              "#ed7953"
             ],
             [
              0.7777777777777778,
              "#fb9f3a"
             ],
             [
              0.8888888888888888,
              "#fdca26"
             ],
             [
              1,
              "#f0f921"
             ]
            ],
            "type": "heatmapgl"
           }
          ],
          "histogram": [
           {
            "marker": {
             "colorbar": {
              "outlinewidth": 0,
              "ticks": ""
             }
            },
            "type": "histogram"
           }
          ],
          "histogram2d": [
           {
            "colorbar": {
             "outlinewidth": 0,
             "ticks": ""
            },
            "colorscale": [
             [
              0,
              "#0d0887"
             ],
             [
              0.1111111111111111,
              "#46039f"
             ],
             [
              0.2222222222222222,
              "#7201a8"
             ],
             [
              0.3333333333333333,
              "#9c179e"
             ],
             [
              0.4444444444444444,
              "#bd3786"
             ],
             [
              0.5555555555555556,
              "#d8576b"
             ],
             [
              0.6666666666666666,
              "#ed7953"
             ],
             [
              0.7777777777777778,
              "#fb9f3a"
             ],
             [
              0.8888888888888888,
              "#fdca26"
             ],
             [
              1,
              "#f0f921"
             ]
            ],
            "type": "histogram2d"
           }
          ],
          "histogram2dcontour": [
           {
            "colorbar": {
             "outlinewidth": 0,
             "ticks": ""
            },
            "colorscale": [
             [
              0,
              "#0d0887"
             ],
             [
              0.1111111111111111,
              "#46039f"
             ],
             [
              0.2222222222222222,
              "#7201a8"
             ],
             [
              0.3333333333333333,
              "#9c179e"
             ],
             [
              0.4444444444444444,
              "#bd3786"
             ],
             [
              0.5555555555555556,
              "#d8576b"
             ],
             [
              0.6666666666666666,
              "#ed7953"
             ],
             [
              0.7777777777777778,
              "#fb9f3a"
             ],
             [
              0.8888888888888888,
              "#fdca26"
             ],
             [
              1,
              "#f0f921"
             ]
            ],
            "type": "histogram2dcontour"
           }
          ],
          "mesh3d": [
           {
            "colorbar": {
             "outlinewidth": 0,
             "ticks": ""
            },
            "type": "mesh3d"
           }
          ],
          "parcoords": [
           {
            "line": {
             "colorbar": {
              "outlinewidth": 0,
              "ticks": ""
             }
            },
            "type": "parcoords"
           }
          ],
          "pie": [
           {
            "automargin": true,
            "type": "pie"
           }
          ],
          "scatter": [
           {
            "marker": {
             "colorbar": {
              "outlinewidth": 0,
              "ticks": ""
             }
            },
            "type": "scatter"
           }
          ],
          "scatter3d": [
           {
            "line": {
             "colorbar": {
              "outlinewidth": 0,
              "ticks": ""
             }
            },
            "marker": {
             "colorbar": {
              "outlinewidth": 0,
              "ticks": ""
             }
            },
            "type": "scatter3d"
           }
          ],
          "scattercarpet": [
           {
            "marker": {
             "colorbar": {
              "outlinewidth": 0,
              "ticks": ""
             }
            },
            "type": "scattercarpet"
           }
          ],
          "scattergeo": [
           {
            "marker": {
             "colorbar": {
              "outlinewidth": 0,
              "ticks": ""
             }
            },
            "type": "scattergeo"
           }
          ],
          "scattergl": [
           {
            "marker": {
             "colorbar": {
              "outlinewidth": 0,
              "ticks": ""
             }
            },
            "type": "scattergl"
           }
          ],
          "scattermapbox": [
           {
            "marker": {
             "colorbar": {
              "outlinewidth": 0,
              "ticks": ""
             }
            },
            "type": "scattermapbox"
           }
          ],
          "scatterpolar": [
           {
            "marker": {
             "colorbar": {
              "outlinewidth": 0,
              "ticks": ""
             }
            },
            "type": "scatterpolar"
           }
          ],
          "scatterpolargl": [
           {
            "marker": {
             "colorbar": {
              "outlinewidth": 0,
              "ticks": ""
             }
            },
            "type": "scatterpolargl"
           }
          ],
          "scatterternary": [
           {
            "marker": {
             "colorbar": {
              "outlinewidth": 0,
              "ticks": ""
             }
            },
            "type": "scatterternary"
           }
          ],
          "surface": [
           {
            "colorbar": {
             "outlinewidth": 0,
             "ticks": ""
            },
            "colorscale": [
             [
              0,
              "#0d0887"
             ],
             [
              0.1111111111111111,
              "#46039f"
             ],
             [
              0.2222222222222222,
              "#7201a8"
             ],
             [
              0.3333333333333333,
              "#9c179e"
             ],
             [
              0.4444444444444444,
              "#bd3786"
             ],
             [
              0.5555555555555556,
              "#d8576b"
             ],
             [
              0.6666666666666666,
              "#ed7953"
             ],
             [
              0.7777777777777778,
              "#fb9f3a"
             ],
             [
              0.8888888888888888,
              "#fdca26"
             ],
             [
              1,
              "#f0f921"
             ]
            ],
            "type": "surface"
           }
          ],
          "table": [
           {
            "cells": {
             "fill": {
              "color": "#EBF0F8"
             },
             "line": {
              "color": "white"
             }
            },
            "header": {
             "fill": {
              "color": "#C8D4E3"
             },
             "line": {
              "color": "white"
             }
            },
            "type": "table"
           }
          ]
         },
         "layout": {
          "annotationdefaults": {
           "arrowcolor": "#2a3f5f",
           "arrowhead": 0,
           "arrowwidth": 1
          },
          "coloraxis": {
           "colorbar": {
            "outlinewidth": 0,
            "ticks": ""
           }
          },
          "colorscale": {
           "diverging": [
            [
             0,
             "#8e0152"
            ],
            [
             0.1,
             "#c51b7d"
            ],
            [
             0.2,
             "#de77ae"
            ],
            [
             0.3,
             "#f1b6da"
            ],
            [
             0.4,
             "#fde0ef"
            ],
            [
             0.5,
             "#f7f7f7"
            ],
            [
             0.6,
             "#e6f5d0"
            ],
            [
             0.7,
             "#b8e186"
            ],
            [
             0.8,
             "#7fbc41"
            ],
            [
             0.9,
             "#4d9221"
            ],
            [
             1,
             "#276419"
            ]
           ],
           "sequential": [
            [
             0,
             "#0d0887"
            ],
            [
             0.1111111111111111,
             "#46039f"
            ],
            [
             0.2222222222222222,
             "#7201a8"
            ],
            [
             0.3333333333333333,
             "#9c179e"
            ],
            [
             0.4444444444444444,
             "#bd3786"
            ],
            [
             0.5555555555555556,
             "#d8576b"
            ],
            [
             0.6666666666666666,
             "#ed7953"
            ],
            [
             0.7777777777777778,
             "#fb9f3a"
            ],
            [
             0.8888888888888888,
             "#fdca26"
            ],
            [
             1,
             "#f0f921"
            ]
           ],
           "sequentialminus": [
            [
             0,
             "#0d0887"
            ],
            [
             0.1111111111111111,
             "#46039f"
            ],
            [
             0.2222222222222222,
             "#7201a8"
            ],
            [
             0.3333333333333333,
             "#9c179e"
            ],
            [
             0.4444444444444444,
             "#bd3786"
            ],
            [
             0.5555555555555556,
             "#d8576b"
            ],
            [
             0.6666666666666666,
             "#ed7953"
            ],
            [
             0.7777777777777778,
             "#fb9f3a"
            ],
            [
             0.8888888888888888,
             "#fdca26"
            ],
            [
             1,
             "#f0f921"
            ]
           ]
          },
          "colorway": [
           "#636efa",
           "#EF553B",
           "#00cc96",
           "#ab63fa",
           "#FFA15A",
           "#19d3f3",
           "#FF6692",
           "#B6E880",
           "#FF97FF",
           "#FECB52"
          ],
          "font": {
           "color": "#2a3f5f"
          },
          "geo": {
           "bgcolor": "white",
           "lakecolor": "white",
           "landcolor": "#E5ECF6",
           "showlakes": true,
           "showland": true,
           "subunitcolor": "white"
          },
          "hoverlabel": {
           "align": "left"
          },
          "hovermode": "closest",
          "mapbox": {
           "style": "light"
          },
          "paper_bgcolor": "white",
          "plot_bgcolor": "#E5ECF6",
          "polar": {
           "angularaxis": {
            "gridcolor": "white",
            "linecolor": "white",
            "ticks": ""
           },
           "bgcolor": "#E5ECF6",
           "radialaxis": {
            "gridcolor": "white",
            "linecolor": "white",
            "ticks": ""
           }
          },
          "scene": {
           "xaxis": {
            "backgroundcolor": "#E5ECF6",
            "gridcolor": "white",
            "gridwidth": 2,
            "linecolor": "white",
            "showbackground": true,
            "ticks": "",
            "zerolinecolor": "white"
           },
           "yaxis": {
            "backgroundcolor": "#E5ECF6",
            "gridcolor": "white",
            "gridwidth": 2,
            "linecolor": "white",
            "showbackground": true,
            "ticks": "",
            "zerolinecolor": "white"
           },
           "zaxis": {
            "backgroundcolor": "#E5ECF6",
            "gridcolor": "white",
            "gridwidth": 2,
            "linecolor": "white",
            "showbackground": true,
            "ticks": "",
            "zerolinecolor": "white"
           }
          },
          "shapedefaults": {
           "line": {
            "color": "#2a3f5f"
           }
          },
          "ternary": {
           "aaxis": {
            "gridcolor": "white",
            "linecolor": "white",
            "ticks": ""
           },
           "baxis": {
            "gridcolor": "white",
            "linecolor": "white",
            "ticks": ""
           },
           "bgcolor": "#E5ECF6",
           "caxis": {
            "gridcolor": "white",
            "linecolor": "white",
            "ticks": ""
           }
          },
          "title": {
           "x": 0.05
          },
          "xaxis": {
           "automargin": true,
           "gridcolor": "white",
           "linecolor": "white",
           "ticks": "",
           "title": {
            "standoff": 15
           },
           "zerolinecolor": "white",
           "zerolinewidth": 2
          },
          "yaxis": {
           "automargin": true,
           "gridcolor": "white",
           "linecolor": "white",
           "ticks": "",
           "title": {
            "standoff": 15
           },
           "zerolinecolor": "white",
           "zerolinewidth": 2
          }
         }
        },
        "title": {
         "font": {
          "size": 20
         },
         "text": "Arrangement of countries in descending order of Happiness Score"
        },
        "xaxis": {
         "anchor": "y",
         "domain": [
          0,
          1
         ],
         "title": {
          "text": "Country"
         }
        },
        "yaxis": {
         "anchor": "x",
         "domain": [
          0,
          1
         ],
         "title": {
          "text": "Population"
         }
        }
       }
      },
      "text/html": [
       "<div>\n",
       "        \n",
       "        \n",
       "            <div id=\"6264ce73-4148-46eb-9afd-bc97768bbc4a\" class=\"plotly-graph-div\" style=\"height:800px; width:100%;\"></div>\n",
       "            <script type=\"text/javascript\">\n",
       "                require([\"plotly\"], function(Plotly) {\n",
       "                    window.PLOTLYENV=window.PLOTLYENV || {};\n",
       "                    \n",
       "                if (document.getElementById(\"6264ce73-4148-46eb-9afd-bc97768bbc4a\")) {\n",
       "                    Plotly.newPlot(\n",
       "                        '6264ce73-4148-46eb-9afd-bc97768bbc4a',\n",
       "                        [{\"alignmentgroup\": \"True\", \"hovertemplate\": \"Country=%{x}<br>Population=%{marker.color}<extra></extra>\", \"legendgroup\": \"\", \"marker\": {\"color\": [1313973713, 1095351995, 298444215, 245452739, 188078227, 165803560, 147365352, 142893540, 131859731, 127463611, 107449525, 89468677, 84402966, 82422299, 78887007, 74777981, 70413958, 68688433, 64631595, 62660551, 60876136, 60609153, 58133509, 48846823, 47382633, 46710816, 44187637, 43593035, 41236378, 40397842, 39921833, 38536869, 37445392, 34707817, 33241259, 33098932, 32930091, 31056997, 28302603, 28287147, 28195754, 27307134, 27019731, 26783383, 25730435, 24385858, 23113019, 23036087, 22409572, 22303552, 21456188, 20264082, 20222240, 19686505, 18881361, 18595469, 17654843, 17340702, 16491461, 16134219, 15233244, 13902972, 13881427, 13547510, 13013926, 12525094, 12293545, 12236805, 12127071, 11987121, 11716829, 11502010, 11382820, 10688058, 10605870, 10379067, 10293011, 10235455, 10175014, 9981334, 9944201, 9690222, 9396411, 9183984, 9016596, 8989046, 8863338, 8648248, 8308504, 8192880, 8090068, 7961619, 7862944, 7523934, 7385367, 7326496, 7320815, 6940432, 6822378, 6506464, 6368481, 6352117, 6005250, 5906760, 5900754, 5670544, 5570129, 5548702, 5450661, 5439448, 5231372, 5213898, 5042920, 4786994, 4661473, 4610820, 4498976, 4494749, 4492150, 4466706, 4303356, 4076140, 4075261, 4062235, 3927188, 3874050, 3702314, 3585906, 3581655, 3431932, 3191319, 3177388, 3102229, 3042004, 2976372, 2832224, 2758124, 2602713, 2460492, 2418393, 2279723, 2274735, 2050554, 2044147, 2022331, 2010347, 1641564, 1639833, 1442029, 1428757, 1424906, 1324333, 1240827, 1136334, 1065842, 1062777, 905949, 885359, 787584, 784301, 767245, 698585, 690948, 552438, 540109, 486530, 474413, 453125, 452776, 439117, 436131, 420979, 400214, 379444, 359008, 303770, 299388, 287730, 279912, 274578, 273008, 221736, 219246, 208869, 201234, 199509, 193413, 176908, 171019, 168458, 117848, 114689, 108605, 108004, 105432, 91084, 89703, 82459, 81541, 75441, 71891, 71201, 69108, 68910, 65773, 65409, 60422, 57794, 56361, 47246, 45436, 39129, 33987, 32543, 29251, 27928, 23098, 21388, 21152, 20579, 16025, 13477, 13287, 11810, 9439, 7502, 7026], \"coloraxis\": \"coloraxis\"}, \"name\": \"\", \"offsetgroup\": \"\", \"orientation\": \"v\", \"showlegend\": false, \"textposition\": \"auto\", \"type\": \"bar\", \"x\": [\"China \", \"India \", \"United States \", \"Indonesia \", \"Brazil \", \"Pakistan \", \"Bangladesh \", \"Russia \", \"Nigeria \", \"Japan \", \"Mexico \", \"Philippines \", \"Vietnam \", \"Germany \", \"Egypt \", \"Ethiopia \", \"Turkey \", \"Iran \", \"Thailand \", \"Congo, Dem. Rep. \", \"France \", \"United Kingdom \", \"Italy \", \"Korea, South \", \"Burma \", \"Ukraine \", \"South Africa \", \"Colombia \", \"Sudan \", \"Spain \", \"Argentina \", \"Poland \", \"Tanzania \", \"Kenya \", \"Morocco \", \"Canada \", \"Algeria \", \"Afghanistan \", \"Peru \", \"Nepal \", \"Uganda \", \"Uzbekistan \", \"Saudi Arabia \", \"Iraq \", \"Venezuela \", \"Malaysia \", \"Korea, North \", \"Taiwan \", \"Ghana \", \"Romania \", \"Yemen \", \"Australia \", \"Sri Lanka \", \"Mozambique \", \"Syria \", \"Madagascar \", \"Cote d'Ivoire \", \"Cameroon \", \"Netherlands \", \"Chile \", \"Kazakhstan \", \"Burkina Faso \", \"Cambodia \", \"Ecuador \", \"Malawi \", \"Niger \", \"Guatemala \", \"Zimbabwe \", \"Angola \", \"Senegal \", \"Mali \", \"Zambia \", \"Cuba \", \"Greece \", \"Portugal \", \"Belgium \", \"Belarus \", \"Czech Republic \", \"Tunisia \", \"Hungary \", \"Chad \", \"Guinea \", \"Serbia \", \"Dominican Republic \", \"Sweden \", \"Bolivia \", \"Somalia \", \"Rwanda \", \"Haiti \", \"Austria \", \"Burundi \", \"Azerbaijan \", \"Benin \", \"Switzerland \", \"Bulgaria \", \"Honduras \", \"Tajikistan \", \"Hong Kong \", \"El Salvador \", \"Paraguay \", \"Laos \", \"Israel \", \"Sierra Leone \", \"Jordan \", \"Libya \", \"Papua New Guinea \", \"Nicaragua \", \"Togo \", \"Denmark \", \"Slovakia \", \"Finland \", \"Kyrgyzstan \", \"Turkmenistan \", \"Eritrea \", \"Georgia \", \"Norway \", \"Bosnia & Herzegovina \", \"Croatia \", \"Singapore \", \"Moldova \", \"Central African Rep. \", \"New Zealand \", \"Costa Rica \", \"Ireland \", \"Puerto Rico \", \"Lebanon \", \"Congo, Repub. of the \", \"Lithuania \", \"Albania \", \"Uruguay \", \"Panama \", \"Mauritania \", \"Oman \", \"Liberia \", \"Armenia \", \"Mongolia \", \"Jamaica \", \"United Arab Emirates \", \"West Bank \", \"Kuwait \", \"Bhutan \", \"Latvia \", \"Macedonia \", \"Namibia \", \"Lesotho \", \"Slovenia \", \"Gambia, The \", \"Botswana \", \"Guinea-Bissau \", \"Gaza Strip \", \"Gabon \", \"Estonia \", \"Mauritius \", \"Swaziland \", \"Trinidad & Tobago \", \"East Timor \", \"Fiji \", \"Qatar \", \"Reunion \", \"Cyprus \", \"Guyana \", \"Bahrain \", \"Comoros \", \"Solomon Islands \", \"Equatorial Guinea \", \"Djibouti \", \"Luxembourg \", \"Macau \", \"Guadeloupe \", \"Suriname \", \"Martinique \", \"Cape Verde \", \"Malta \", \"Brunei \", \"Maldives \", \"Bahamas, The \", \"Iceland \", \"Belize \", \"Barbados \", \"French Polynesia \", \"Western Sahara \", \"Netherlands Antilles \", \"New Caledonia \", \"Vanuatu \", \"Mayotte \", \"French Guiana \", \"Sao Tome & Principe \", \"Samoa \", \"Guam \", \"Saint Lucia \", \"Saint Vincent and the Grenadines \", \"Tonga \", \"Virgin Islands \", \"Micronesia, Fed. St. \", \"Kiribati \", \"Jersey \", \"Grenada \", \"N. Mariana Islands \", \"Seychelles \", \"Isle of Man \", \"Aruba \", \"Andorra \", \"Antigua & Barbuda \", \"Dominica \", \"Bermuda \", \"Guernsey \", \"Marshall Islands \", \"American Samoa \", \"Greenland \", \"Faroe Islands \", \"Cayman Islands \", \"Saint Kitts & Nevis \", \"Liechtenstein \", \"Monaco \", \"San Marino \", \"Gibraltar \", \"British Virgin Is. \", \"Cook Islands \", \"Turks & Caicos Is \", \"Palau \", \"Wallis and Futuna \", \"Anguilla \", \"Nauru \", \"Tuvalu \", \"Montserrat \", \"Saint Helena \", \"St Pierre & Miquelon \"], \"xaxis\": \"x\", \"y\": [1313973713, 1095351995, 298444215, 245452739, 188078227, 165803560, 147365352, 142893540, 131859731, 127463611, 107449525, 89468677, 84402966, 82422299, 78887007, 74777981, 70413958, 68688433, 64631595, 62660551, 60876136, 60609153, 58133509, 48846823, 47382633, 46710816, 44187637, 43593035, 41236378, 40397842, 39921833, 38536869, 37445392, 34707817, 33241259, 33098932, 32930091, 31056997, 28302603, 28287147, 28195754, 27307134, 27019731, 26783383, 25730435, 24385858, 23113019, 23036087, 22409572, 22303552, 21456188, 20264082, 20222240, 19686505, 18881361, 18595469, 17654843, 17340702, 16491461, 16134219, 15233244, 13902972, 13881427, 13547510, 13013926, 12525094, 12293545, 12236805, 12127071, 11987121, 11716829, 11502010, 11382820, 10688058, 10605870, 10379067, 10293011, 10235455, 10175014, 9981334, 9944201, 9690222, 9396411, 9183984, 9016596, 8989046, 8863338, 8648248, 8308504, 8192880, 8090068, 7961619, 7862944, 7523934, 7385367, 7326496, 7320815, 6940432, 6822378, 6506464, 6368481, 6352117, 6005250, 5906760, 5900754, 5670544, 5570129, 5548702, 5450661, 5439448, 5231372, 5213898, 5042920, 4786994, 4661473, 4610820, 4498976, 4494749, 4492150, 4466706, 4303356, 4076140, 4075261, 4062235, 3927188, 3874050, 3702314, 3585906, 3581655, 3431932, 3191319, 3177388, 3102229, 3042004, 2976372, 2832224, 2758124, 2602713, 2460492, 2418393, 2279723, 2274735, 2050554, 2044147, 2022331, 2010347, 1641564, 1639833, 1442029, 1428757, 1424906, 1324333, 1240827, 1136334, 1065842, 1062777, 905949, 885359, 787584, 784301, 767245, 698585, 690948, 552438, 540109, 486530, 474413, 453125, 452776, 439117, 436131, 420979, 400214, 379444, 359008, 303770, 299388, 287730, 279912, 274578, 273008, 221736, 219246, 208869, 201234, 199509, 193413, 176908, 171019, 168458, 117848, 114689, 108605, 108004, 105432, 91084, 89703, 82459, 81541, 75441, 71891, 71201, 69108, 68910, 65773, 65409, 60422, 57794, 56361, 47246, 45436, 39129, 33987, 32543, 29251, 27928, 23098, 21388, 21152, 20579, 16025, 13477, 13287, 11810, 9439, 7502, 7026], \"yaxis\": \"y\"}],\n",
       "                        {\"barmode\": \"relative\", \"coloraxis\": {\"colorbar\": {\"title\": {\"text\": \"Population\"}}, \"colorscale\": [[0.0, \"#0d0887\"], [0.1111111111111111, \"#46039f\"], [0.2222222222222222, \"#7201a8\"], [0.3333333333333333, \"#9c179e\"], [0.4444444444444444, \"#bd3786\"], [0.5555555555555556, \"#d8576b\"], [0.6666666666666666, \"#ed7953\"], [0.7777777777777778, \"#fb9f3a\"], [0.8888888888888888, \"#fdca26\"], [1.0, \"#f0f921\"]]}, \"height\": 800, \"legend\": {\"tracegroupgap\": 0}, \"margin\": {\"t\": 60}, \"template\": {\"data\": {\"bar\": [{\"error_x\": {\"color\": \"#2a3f5f\"}, \"error_y\": {\"color\": \"#2a3f5f\"}, \"marker\": {\"line\": {\"color\": \"#E5ECF6\", \"width\": 0.5}}, \"type\": \"bar\"}], \"barpolar\": [{\"marker\": {\"line\": {\"color\": \"#E5ECF6\", \"width\": 0.5}}, \"type\": \"barpolar\"}], \"carpet\": [{\"aaxis\": {\"endlinecolor\": \"#2a3f5f\", \"gridcolor\": \"white\", \"linecolor\": \"white\", \"minorgridcolor\": \"white\", \"startlinecolor\": \"#2a3f5f\"}, \"baxis\": {\"endlinecolor\": \"#2a3f5f\", \"gridcolor\": \"white\", \"linecolor\": \"white\", \"minorgridcolor\": \"white\", \"startlinecolor\": \"#2a3f5f\"}, \"type\": \"carpet\"}], \"choropleth\": [{\"colorbar\": {\"outlinewidth\": 0, \"ticks\": \"\"}, \"type\": \"choropleth\"}], \"contour\": [{\"colorbar\": {\"outlinewidth\": 0, \"ticks\": \"\"}, \"colorscale\": [[0.0, \"#0d0887\"], [0.1111111111111111, \"#46039f\"], [0.2222222222222222, \"#7201a8\"], [0.3333333333333333, \"#9c179e\"], [0.4444444444444444, \"#bd3786\"], [0.5555555555555556, \"#d8576b\"], [0.6666666666666666, \"#ed7953\"], [0.7777777777777778, \"#fb9f3a\"], [0.8888888888888888, \"#fdca26\"], [1.0, \"#f0f921\"]], \"type\": \"contour\"}], \"contourcarpet\": [{\"colorbar\": {\"outlinewidth\": 0, \"ticks\": \"\"}, \"type\": \"contourcarpet\"}], \"heatmap\": [{\"colorbar\": {\"outlinewidth\": 0, \"ticks\": \"\"}, \"colorscale\": [[0.0, \"#0d0887\"], [0.1111111111111111, \"#46039f\"], [0.2222222222222222, \"#7201a8\"], [0.3333333333333333, \"#9c179e\"], [0.4444444444444444, \"#bd3786\"], [0.5555555555555556, \"#d8576b\"], [0.6666666666666666, \"#ed7953\"], [0.7777777777777778, \"#fb9f3a\"], [0.8888888888888888, \"#fdca26\"], [1.0, \"#f0f921\"]], \"type\": \"heatmap\"}], \"heatmapgl\": [{\"colorbar\": {\"outlinewidth\": 0, \"ticks\": \"\"}, \"colorscale\": [[0.0, \"#0d0887\"], [0.1111111111111111, \"#46039f\"], [0.2222222222222222, \"#7201a8\"], [0.3333333333333333, \"#9c179e\"], [0.4444444444444444, \"#bd3786\"], [0.5555555555555556, \"#d8576b\"], [0.6666666666666666, \"#ed7953\"], [0.7777777777777778, \"#fb9f3a\"], [0.8888888888888888, \"#fdca26\"], [1.0, \"#f0f921\"]], \"type\": \"heatmapgl\"}], \"histogram\": [{\"marker\": {\"colorbar\": {\"outlinewidth\": 0, \"ticks\": \"\"}}, \"type\": \"histogram\"}], \"histogram2d\": [{\"colorbar\": {\"outlinewidth\": 0, \"ticks\": \"\"}, \"colorscale\": [[0.0, \"#0d0887\"], [0.1111111111111111, \"#46039f\"], [0.2222222222222222, \"#7201a8\"], [0.3333333333333333, \"#9c179e\"], [0.4444444444444444, \"#bd3786\"], [0.5555555555555556, \"#d8576b\"], [0.6666666666666666, \"#ed7953\"], [0.7777777777777778, \"#fb9f3a\"], [0.8888888888888888, \"#fdca26\"], [1.0, \"#f0f921\"]], \"type\": \"histogram2d\"}], \"histogram2dcontour\": [{\"colorbar\": {\"outlinewidth\": 0, \"ticks\": \"\"}, \"colorscale\": [[0.0, \"#0d0887\"], [0.1111111111111111, \"#46039f\"], [0.2222222222222222, \"#7201a8\"], [0.3333333333333333, \"#9c179e\"], [0.4444444444444444, \"#bd3786\"], [0.5555555555555556, \"#d8576b\"], [0.6666666666666666, \"#ed7953\"], [0.7777777777777778, \"#fb9f3a\"], [0.8888888888888888, \"#fdca26\"], [1.0, \"#f0f921\"]], \"type\": \"histogram2dcontour\"}], \"mesh3d\": [{\"colorbar\": {\"outlinewidth\": 0, \"ticks\": \"\"}, \"type\": \"mesh3d\"}], \"parcoords\": [{\"line\": {\"colorbar\": {\"outlinewidth\": 0, \"ticks\": \"\"}}, \"type\": \"parcoords\"}], \"pie\": [{\"automargin\": true, \"type\": \"pie\"}], \"scatter\": [{\"marker\": {\"colorbar\": {\"outlinewidth\": 0, \"ticks\": \"\"}}, \"type\": \"scatter\"}], \"scatter3d\": [{\"line\": {\"colorbar\": {\"outlinewidth\": 0, \"ticks\": \"\"}}, \"marker\": {\"colorbar\": {\"outlinewidth\": 0, \"ticks\": \"\"}}, \"type\": \"scatter3d\"}], \"scattercarpet\": [{\"marker\": {\"colorbar\": {\"outlinewidth\": 0, \"ticks\": \"\"}}, \"type\": \"scattercarpet\"}], \"scattergeo\": [{\"marker\": {\"colorbar\": {\"outlinewidth\": 0, \"ticks\": \"\"}}, \"type\": \"scattergeo\"}], \"scattergl\": [{\"marker\": {\"colorbar\": {\"outlinewidth\": 0, \"ticks\": \"\"}}, \"type\": \"scattergl\"}], \"scattermapbox\": [{\"marker\": {\"colorbar\": {\"outlinewidth\": 0, \"ticks\": \"\"}}, \"type\": \"scattermapbox\"}], \"scatterpolar\": [{\"marker\": {\"colorbar\": {\"outlinewidth\": 0, \"ticks\": \"\"}}, \"type\": \"scatterpolar\"}], \"scatterpolargl\": [{\"marker\": {\"colorbar\": {\"outlinewidth\": 0, \"ticks\": \"\"}}, \"type\": \"scatterpolargl\"}], \"scatterternary\": [{\"marker\": {\"colorbar\": {\"outlinewidth\": 0, \"ticks\": \"\"}}, \"type\": \"scatterternary\"}], \"surface\": [{\"colorbar\": {\"outlinewidth\": 0, \"ticks\": \"\"}, \"colorscale\": [[0.0, \"#0d0887\"], [0.1111111111111111, \"#46039f\"], [0.2222222222222222, \"#7201a8\"], [0.3333333333333333, \"#9c179e\"], [0.4444444444444444, \"#bd3786\"], [0.5555555555555556, \"#d8576b\"], [0.6666666666666666, \"#ed7953\"], [0.7777777777777778, \"#fb9f3a\"], [0.8888888888888888, \"#fdca26\"], [1.0, \"#f0f921\"]], \"type\": \"surface\"}], \"table\": [{\"cells\": {\"fill\": {\"color\": \"#EBF0F8\"}, \"line\": {\"color\": \"white\"}}, \"header\": {\"fill\": {\"color\": \"#C8D4E3\"}, \"line\": {\"color\": \"white\"}}, \"type\": \"table\"}]}, \"layout\": {\"annotationdefaults\": {\"arrowcolor\": \"#2a3f5f\", \"arrowhead\": 0, \"arrowwidth\": 1}, \"coloraxis\": {\"colorbar\": {\"outlinewidth\": 0, \"ticks\": \"\"}}, \"colorscale\": {\"diverging\": [[0, \"#8e0152\"], [0.1, \"#c51b7d\"], [0.2, \"#de77ae\"], [0.3, \"#f1b6da\"], [0.4, \"#fde0ef\"], [0.5, \"#f7f7f7\"], [0.6, \"#e6f5d0\"], [0.7, \"#b8e186\"], [0.8, \"#7fbc41\"], [0.9, \"#4d9221\"], [1, \"#276419\"]], \"sequential\": [[0.0, \"#0d0887\"], [0.1111111111111111, \"#46039f\"], [0.2222222222222222, \"#7201a8\"], [0.3333333333333333, \"#9c179e\"], [0.4444444444444444, \"#bd3786\"], [0.5555555555555556, \"#d8576b\"], [0.6666666666666666, \"#ed7953\"], [0.7777777777777778, \"#fb9f3a\"], [0.8888888888888888, \"#fdca26\"], [1.0, \"#f0f921\"]], \"sequentialminus\": [[0.0, \"#0d0887\"], [0.1111111111111111, \"#46039f\"], [0.2222222222222222, \"#7201a8\"], [0.3333333333333333, \"#9c179e\"], [0.4444444444444444, \"#bd3786\"], [0.5555555555555556, \"#d8576b\"], [0.6666666666666666, \"#ed7953\"], [0.7777777777777778, \"#fb9f3a\"], [0.8888888888888888, \"#fdca26\"], [1.0, \"#f0f921\"]]}, \"colorway\": [\"#636efa\", \"#EF553B\", \"#00cc96\", \"#ab63fa\", \"#FFA15A\", \"#19d3f3\", \"#FF6692\", \"#B6E880\", \"#FF97FF\", \"#FECB52\"], \"font\": {\"color\": \"#2a3f5f\"}, \"geo\": {\"bgcolor\": \"white\", \"lakecolor\": \"white\", \"landcolor\": \"#E5ECF6\", \"showlakes\": true, \"showland\": true, \"subunitcolor\": \"white\"}, \"hoverlabel\": {\"align\": \"left\"}, \"hovermode\": \"closest\", \"mapbox\": {\"style\": \"light\"}, \"paper_bgcolor\": \"white\", \"plot_bgcolor\": \"#E5ECF6\", \"polar\": {\"angularaxis\": {\"gridcolor\": \"white\", \"linecolor\": \"white\", \"ticks\": \"\"}, \"bgcolor\": \"#E5ECF6\", \"radialaxis\": {\"gridcolor\": \"white\", \"linecolor\": \"white\", \"ticks\": \"\"}}, \"scene\": {\"xaxis\": {\"backgroundcolor\": \"#E5ECF6\", \"gridcolor\": \"white\", \"gridwidth\": 2, \"linecolor\": \"white\", \"showbackground\": true, \"ticks\": \"\", \"zerolinecolor\": \"white\"}, \"yaxis\": {\"backgroundcolor\": \"#E5ECF6\", \"gridcolor\": \"white\", \"gridwidth\": 2, \"linecolor\": \"white\", \"showbackground\": true, \"ticks\": \"\", \"zerolinecolor\": \"white\"}, \"zaxis\": {\"backgroundcolor\": \"#E5ECF6\", \"gridcolor\": \"white\", \"gridwidth\": 2, \"linecolor\": \"white\", \"showbackground\": true, \"ticks\": \"\", \"zerolinecolor\": \"white\"}}, \"shapedefaults\": {\"line\": {\"color\": \"#2a3f5f\"}}, \"ternary\": {\"aaxis\": {\"gridcolor\": \"white\", \"linecolor\": \"white\", \"ticks\": \"\"}, \"baxis\": {\"gridcolor\": \"white\", \"linecolor\": \"white\", \"ticks\": \"\"}, \"bgcolor\": \"#E5ECF6\", \"caxis\": {\"gridcolor\": \"white\", \"linecolor\": \"white\", \"ticks\": \"\"}}, \"title\": {\"x\": 0.05}, \"xaxis\": {\"automargin\": true, \"gridcolor\": \"white\", \"linecolor\": \"white\", \"ticks\": \"\", \"title\": {\"standoff\": 15}, \"zerolinecolor\": \"white\", \"zerolinewidth\": 2}, \"yaxis\": {\"automargin\": true, \"gridcolor\": \"white\", \"linecolor\": \"white\", \"ticks\": \"\", \"title\": {\"standoff\": 15}, \"zerolinecolor\": \"white\", \"zerolinewidth\": 2}}}, \"title\": {\"font\": {\"size\": 20}, \"text\": \"Arrangement of countries in descending order of Happiness Score\"}, \"xaxis\": {\"anchor\": \"y\", \"domain\": [0.0, 1.0], \"title\": {\"text\": \"Country\"}}, \"yaxis\": {\"anchor\": \"x\", \"domain\": [0.0, 1.0], \"title\": {\"text\": \"Population\"}}},\n",
       "                        {\"responsive\": true}\n",
       "                    ).then(function(){\n",
       "                            \n",
       "var gd = document.getElementById('6264ce73-4148-46eb-9afd-bc97768bbc4a');\n",
       "var x = new MutationObserver(function (mutations, observer) {{\n",
       "        var display = window.getComputedStyle(gd).display;\n",
       "        if (!display || display === 'none') {{\n",
       "            console.log([gd, 'removed!']);\n",
       "            Plotly.purge(gd);\n",
       "            observer.disconnect();\n",
       "        }}\n",
       "}});\n",
       "\n",
       "// Listen for the removal of the full notebook cells\n",
       "var notebookContainer = gd.closest('#notebook-container');\n",
       "if (notebookContainer) {{\n",
       "    x.observe(notebookContainer, {childList: true});\n",
       "}}\n",
       "\n",
       "// Listen for the clearing of the current output cell\n",
       "var outputEl = gd.closest('.output');\n",
       "if (outputEl) {{\n",
       "    x.observe(outputEl, {childList: true});\n",
       "}}\n",
       "\n",
       "                        })\n",
       "                };\n",
       "                });\n",
       "            </script>\n",
       "        </div>"
      ]
     },
     "metadata": {},
     "output_type": "display_data"
    }
   ],
   "source": [
    "# first plotly graph\n",
    "fig = px.bar(countries, x='Country', y='Population',color='Population',height=800)\n",
    "fig.update_layout(title='Arrangement of countries in descending order of Happiness Score',titlefont_size=20)\n",
    "fig.show()"
   ]
  },
  {
   "cell_type": "code",
   "execution_count": 61,
   "metadata": {},
   "outputs": [
    {
     "data": {
      "application/vnd.plotly.v1+json": {
       "config": {
        "plotlyServerURL": "https://plot.ly"
       },
       "data": [
        {
         "alignmentgroup": "True",
         "hovertemplate": "Country=%{x}<br>value=%{y}<br>Area (sq. mi.)=%{marker.color}<extra></extra>",
         "legendgroup": "",
         "marker": {
          "color": [
           2586,
           9631420,
           323802,
           53,
           262,
           61,
           41290,
           43094,
           103000,
           83870,
           9984670,
           70280,
           30528,
           7686850,
           1092,
           41526,
           377835,
           193,
           244820,
           357021,
           547030,
           338145,
           2,
           449964,
           301230,
           160,
           116,
           693,
           35980,
           82880,
           504782,
           1399,
           268680,
           11437,
           541,
           572,
           131940,
           78,
           2166086,
           20770,
           28,
           9250,
           468,
           17820,
           20273,
           5770,
           92391,
           98480,
           316,
           4167,
           7,
           1910,
           665,
           13790,
           13940,
           153,
           431,
           78866,
           19060,
           1100,
           93030,
           48845,
           212460,
           176220,
           477,
           45226,
           1960582,
           960,
           2040,
           65200,
           2766890,
           312685,
           443,
           1219912,
           56542,
           64589,
           756950,
           430,
           5128,
           51100,
           600370,
           458,
           329750,
           1972550,
           17075200,
           261,
           102,
           91000,
           1780,
           199,
           455,
           110910,
           8511965,
           514000,
           825418,
           1648000,
           237500,
           242,
           163610,
           780580,
           25333,
           1759540,
           2717300,
           78200,
           1138910,
           207600,
           51129,
           2381740,
           48730,
           2517,
           18270,
           488100,
           2944,
           267667,
           603700,
           616,
           754,
           1285220,
           240,
           21,
           344,
           9596960,
           22966,
           17363,
           912050,
           10400,
           21040,
           406750,
           300000,
           28748,
           92300,
           108890,
           214970,
           446550,
           163270,
           1001450,
           300,
           10991,
           65610,
           274,
           29800,
           86600,
           102,
           185180,
           283560,
           1919440,
           30355,
           389,
           110860,
           3287590,
           12200,
           28051,
           112090,
           374,
           69700,
           329560,
           413,
           1098580,
           129494,
           88361,
           748,
           462840,
           239460,
           803940,
           245857,
           702,
           181040,
           144000,
           390580,
           1246700,
           2505810,
           475440,
           33843,
           1030700,
           1564116,
           678500,
           28450,
           11300,
           236800,
           447400,
           196190,
           198500,
           27750,
           11854,
           437072,
           56785,
           322460,
           4033,
           147181,
           236040,
           120540,
           23000,
           26338,
           47000,
           1001,
           801590,
           1284000,
           112620,
           274200,
           26,
           622984,
           582650,
           143100,
           111370,
           1240000,
           923768,
           527970,
           587040,
           1267000,
           752614,
           5860,
           36120,
           811,
           2170,
           121320,
           647500,
           342000,
           1127127,
           2345410,
           27830,
           360,
           945087,
           118480,
           15007,
           637657,
           71740,
           266000
          ],
          "coloraxis": "coloraxis"
         },
         "name": "",
         "offsetgroup": "",
         "orientation": "v",
         "showlegend": false,
         "textposition": "auto",
         "type": "bar",
         "x": [
          "Luxembourg ",
          "United States ",
          "Norway ",
          "Bermuda ",
          "Cayman Islands ",
          "San Marino ",
          "Switzerland ",
          "Denmark ",
          "Iceland ",
          "Austria ",
          "Canada ",
          "Ireland ",
          "Belgium ",
          "Australia ",
          "Hong Kong ",
          "Netherlands ",
          "Japan ",
          "Aruba ",
          "United Kingdom ",
          "Germany ",
          "France ",
          "Finland ",
          "Monaco ",
          "Sweden ",
          "Italy ",
          "Liechtenstein ",
          "Jersey ",
          "Singapore ",
          "Taiwan ",
          "United Arab Emirates ",
          "Spain ",
          "Faroe Islands ",
          "New Zealand ",
          "Qatar ",
          "Guam ",
          "Isle of Man ",
          "Greece ",
          "Guernsey ",
          "Greenland ",
          "Israel ",
          "Macau ",
          "Cyprus ",
          "Andorra ",
          "Kuwait ",
          "Slovenia ",
          "Brunei ",
          "Portugal ",
          "Korea, South ",
          "Malta ",
          "French Polynesia ",
          "Gibraltar ",
          "Virgin Islands ",
          "Bahrain ",
          "Puerto Rico ",
          "Bahamas, The ",
          "British Virgin Is. ",
          "Barbados ",
          "Czech Republic ",
          "New Caledonia ",
          "Martinique ",
          "Hungary ",
          "Slovakia ",
          "Oman ",
          "Uruguay ",
          "N. Mariana Islands ",
          "Estonia ",
          "Saudi Arabia ",
          "Netherlands Antilles ",
          "Mauritius ",
          "Lithuania ",
          "Argentina ",
          "Poland ",
          "Antigua & Barbuda ",
          "South Africa ",
          "Croatia ",
          "Latvia ",
          "Chile ",
          "Turks & Caicos Is ",
          "Trinidad & Tobago ",
          "Costa Rica ",
          "Botswana ",
          "Palau ",
          "Malaysia ",
          "Mexico ",
          "Russia ",
          "Saint Kitts & Nevis ",
          "Anguilla ",
          "French Guiana ",
          "Guadeloupe ",
          "American Samoa ",
          "Seychelles ",
          "Bulgaria ",
          "Brazil ",
          "Thailand ",
          "Namibia ",
          "Iran ",
          "Romania ",
          "St Pierre & Miquelon ",
          "Tunisia ",
          "Turkey ",
          "Macedonia ",
          "Libya ",
          "Kazakhstan ",
          "Panama ",
          "Colombia ",
          "Belarus ",
          "Bosnia & Herzegovina ",
          "Algeria ",
          "Dominican Republic ",
          "Reunion ",
          "Fiji ",
          "Turkmenistan ",
          "Samoa ",
          "Gabon ",
          "Ukraine ",
          "Saint Lucia ",
          "Dominica ",
          "Peru ",
          "Cook Islands ",
          "Nauru ",
          "Grenada ",
          "China ",
          "Belize ",
          "Swaziland ",
          "Venezuela ",
          "Lebanon ",
          "El Salvador ",
          "Paraguay ",
          "Philippines ",
          "Albania ",
          "Jordan ",
          "Guatemala ",
          "Guyana ",
          "Morocco ",
          "Suriname ",
          "Egypt ",
          "Maldives ",
          "Jamaica ",
          "Sri Lanka ",
          "Wallis and Futuna ",
          "Armenia ",
          "Azerbaijan ",
          "Montserrat ",
          "Syria ",
          "Ecuador ",
          "Indonesia ",
          "Lesotho ",
          "Saint Vincent and the Grenadines ",
          "Cuba ",
          "India ",
          "Vanuatu ",
          "Equatorial Guinea ",
          "Honduras ",
          "Mayotte ",
          "Georgia ",
          "Vietnam ",
          "Saint Helena ",
          "Bolivia ",
          "Nicaragua ",
          "Serbia ",
          "Tonga ",
          "Papua New Guinea ",
          "Ghana ",
          "Pakistan ",
          "Guinea ",
          "Micronesia, Fed. St. ",
          "Cambodia ",
          "Bangladesh ",
          "Zimbabwe ",
          "Angola ",
          "Sudan ",
          "Cameroon ",
          "Moldova ",
          "Mauritania ",
          "Mongolia ",
          "Burma ",
          "Solomon Islands ",
          "Gambia, The ",
          "Laos ",
          "Uzbekistan ",
          "Senegal ",
          "Kyrgyzstan ",
          "Haiti ",
          "Marshall Islands ",
          "Iraq ",
          "Togo ",
          "Cote d'Ivoire ",
          "Cape Verde ",
          "Nepal ",
          "Uganda ",
          "Korea, North ",
          "Djibouti ",
          "Rwanda ",
          "Bhutan ",
          "Sao Tome & Principe ",
          "Mozambique ",
          "Chad ",
          "Benin ",
          "Burkina Faso ",
          "Tuvalu ",
          "Central African Rep. ",
          "Kenya ",
          "Tajikistan ",
          "Liberia ",
          "Mali ",
          "Nigeria ",
          "Yemen ",
          "Madagascar ",
          "Niger ",
          "Zambia ",
          "West Bank ",
          "Guinea-Bissau ",
          "Kiribati ",
          "Comoros ",
          "Eritrea ",
          "Afghanistan ",
          "Congo, Repub. of the ",
          "Ethiopia ",
          "Congo, Dem. Rep. ",
          "Burundi ",
          "Gaza Strip ",
          "Tanzania ",
          "Malawi ",
          "East Timor ",
          "Somalia ",
          "Sierra Leone ",
          "Western Sahara "
         ],
         "xaxis": "x",
         "y": [
          55100,
          37800,
          37800,
          36000,
          35000,
          34600,
          32700,
          31100,
          30900,
          30000,
          29800,
          29600,
          29100,
          29000,
          28800,
          28600,
          28200,
          28000,
          27700,
          27600,
          27600,
          27400,
          27000,
          26800,
          26700,
          25000,
          24800,
          23700,
          23400,
          23200,
          22000,
          22000,
          21600,
          21500,
          21000,
          21000,
          20000,
          20000,
          20000,
          19800,
          19400,
          19200,
          19000,
          19000,
          19000,
          18600,
          18000,
          17800,
          17700,
          17500,
          17500,
          17200,
          16900,
          16800,
          16700,
          16000,
          15700,
          15700,
          15000,
          14400,
          13900,
          13300,
          13100,
          12800,
          12500,
          12300,
          11800,
          11400,
          11400,
          11400,
          11200,
          11100,
          11000,
          10700,
          10600,
          10200,
          9900,
          9600,
          9500,
          9100,
          9000,
          9000,
          9000,
          9000,
          8900,
          8800,
          8600,
          8300,
          8000,
          8000,
          7800,
          7600,
          7600,
          7400,
          7200,
          7000,
          7000,
          6900,
          6900,
          6700,
          6700,
          6400,
          6300,
          6300,
          6300,
          6100,
          6100,
          6000,
          6000,
          5800,
          5800,
          5800,
          5600,
          5500,
          5400,
          5400,
          5400,
          5100,
          5000,
          5000,
          5000,
          5000,
          4900,
          4900,
          4800,
          4800,
          4800,
          4700,
          4600,
          4500,
          4300,
          4100,
          4000,
          4000,
          4000,
          4000,
          3900,
          3900,
          3700,
          3700,
          3500,
          3400,
          3400,
          3300,
          3300,
          3200,
          3000,
          2900,
          2900,
          2900,
          2900,
          2700,
          2600,
          2600,
          2500,
          2500,
          2500,
          2400,
          2300,
          2200,
          2200,
          2200,
          2200,
          2100,
          2100,
          2000,
          1900,
          1900,
          1900,
          1900,
          1900,
          1800,
          1800,
          1800,
          1800,
          1800,
          1700,
          1700,
          1700,
          1700,
          1600,
          1600,
          1600,
          1600,
          1500,
          1500,
          1400,
          1400,
          1400,
          1400,
          1300,
          1300,
          1300,
          1300,
          1200,
          1200,
          1200,
          1100,
          1100,
          1100,
          1100,
          1000,
          1000,
          1000,
          900,
          900,
          800,
          800,
          800,
          800,
          800,
          800,
          800,
          700,
          700,
          700,
          700,
          700,
          700,
          600,
          600,
          600,
          600,
          500,
          500,
          500,
          null
         ],
         "yaxis": "y"
        }
       ],
       "layout": {
        "barmode": "relative",
        "coloraxis": {
         "colorbar": {
          "title": {
           "text": "Area (sq. mi.)"
          }
         },
         "colorscale": [
          [
           0,
           "#0d0887"
          ],
          [
           0.1111111111111111,
           "#46039f"
          ],
          [
           0.2222222222222222,
           "#7201a8"
          ],
          [
           0.3333333333333333,
           "#9c179e"
          ],
          [
           0.4444444444444444,
           "#bd3786"
          ],
          [
           0.5555555555555556,
           "#d8576b"
          ],
          [
           0.6666666666666666,
           "#ed7953"
          ],
          [
           0.7777777777777778,
           "#fb9f3a"
          ],
          [
           0.8888888888888888,
           "#fdca26"
          ],
          [
           1,
           "#f0f921"
          ]
         ]
        },
        "legend": {
         "tracegroupgap": 0
        },
        "margin": {
         "t": 60
        },
        "template": {
         "data": {
          "bar": [
           {
            "error_x": {
             "color": "#2a3f5f"
            },
            "error_y": {
             "color": "#2a3f5f"
            },
            "marker": {
             "line": {
              "color": "#E5ECF6",
              "width": 0.5
             }
            },
            "type": "bar"
           }
          ],
          "barpolar": [
           {
            "marker": {
             "line": {
              "color": "#E5ECF6",
              "width": 0.5
             }
            },
            "type": "barpolar"
           }
          ],
          "carpet": [
           {
            "aaxis": {
             "endlinecolor": "#2a3f5f",
             "gridcolor": "white",
             "linecolor": "white",
             "minorgridcolor": "white",
             "startlinecolor": "#2a3f5f"
            },
            "baxis": {
             "endlinecolor": "#2a3f5f",
             "gridcolor": "white",
             "linecolor": "white",
             "minorgridcolor": "white",
             "startlinecolor": "#2a3f5f"
            },
            "type": "carpet"
           }
          ],
          "choropleth": [
           {
            "colorbar": {
             "outlinewidth": 0,
             "ticks": ""
            },
            "type": "choropleth"
           }
          ],
          "contour": [
           {
            "colorbar": {
             "outlinewidth": 0,
             "ticks": ""
            },
            "colorscale": [
             [
              0,
              "#0d0887"
             ],
             [
              0.1111111111111111,
              "#46039f"
             ],
             [
              0.2222222222222222,
              "#7201a8"
             ],
             [
              0.3333333333333333,
              "#9c179e"
             ],
             [
              0.4444444444444444,
              "#bd3786"
             ],
             [
              0.5555555555555556,
              "#d8576b"
             ],
             [
              0.6666666666666666,
              "#ed7953"
             ],
             [
              0.7777777777777778,
              "#fb9f3a"
             ],
             [
              0.8888888888888888,
              "#fdca26"
             ],
             [
              1,
              "#f0f921"
             ]
            ],
            "type": "contour"
           }
          ],
          "contourcarpet": [
           {
            "colorbar": {
             "outlinewidth": 0,
             "ticks": ""
            },
            "type": "contourcarpet"
           }
          ],
          "heatmap": [
           {
            "colorbar": {
             "outlinewidth": 0,
             "ticks": ""
            },
            "colorscale": [
             [
              0,
              "#0d0887"
             ],
             [
              0.1111111111111111,
              "#46039f"
             ],
             [
              0.2222222222222222,
              "#7201a8"
             ],
             [
              0.3333333333333333,
              "#9c179e"
             ],
             [
              0.4444444444444444,
              "#bd3786"
             ],
             [
              0.5555555555555556,
              "#d8576b"
             ],
             [
              0.6666666666666666,
              "#ed7953"
             ],
             [
              0.7777777777777778,
              "#fb9f3a"
             ],
             [
              0.8888888888888888,
              "#fdca26"
             ],
             [
              1,
              "#f0f921"
             ]
            ],
            "type": "heatmap"
           }
          ],
          "heatmapgl": [
           {
            "colorbar": {
             "outlinewidth": 0,
             "ticks": ""
            },
            "colorscale": [
             [
              0,
              "#0d0887"
             ],
             [
              0.1111111111111111,
              "#46039f"
             ],
             [
              0.2222222222222222,
              "#7201a8"
             ],
             [
              0.3333333333333333,
              "#9c179e"
             ],
             [
              0.4444444444444444,
              "#bd3786"
             ],
             [
              0.5555555555555556,
              "#d8576b"
             ],
             [
              0.6666666666666666,
              "#ed7953"
             ],
             [
              0.7777777777777778,
              "#fb9f3a"
             ],
             [
              0.8888888888888888,
              "#fdca26"
             ],
             [
              1,
              "#f0f921"
             ]
            ],
            "type": "heatmapgl"
           }
          ],
          "histogram": [
           {
            "marker": {
             "colorbar": {
              "outlinewidth": 0,
              "ticks": ""
             }
            },
            "type": "histogram"
           }
          ],
          "histogram2d": [
           {
            "colorbar": {
             "outlinewidth": 0,
             "ticks": ""
            },
            "colorscale": [
             [
              0,
              "#0d0887"
             ],
             [
              0.1111111111111111,
              "#46039f"
             ],
             [
              0.2222222222222222,
              "#7201a8"
             ],
             [
              0.3333333333333333,
              "#9c179e"
             ],
             [
              0.4444444444444444,
              "#bd3786"
             ],
             [
              0.5555555555555556,
              "#d8576b"
             ],
             [
              0.6666666666666666,
              "#ed7953"
             ],
             [
              0.7777777777777778,
              "#fb9f3a"
             ],
             [
              0.8888888888888888,
              "#fdca26"
             ],
             [
              1,
              "#f0f921"
             ]
            ],
            "type": "histogram2d"
           }
          ],
          "histogram2dcontour": [
           {
            "colorbar": {
             "outlinewidth": 0,
             "ticks": ""
            },
            "colorscale": [
             [
              0,
              "#0d0887"
             ],
             [
              0.1111111111111111,
              "#46039f"
             ],
             [
              0.2222222222222222,
              "#7201a8"
             ],
             [
              0.3333333333333333,
              "#9c179e"
             ],
             [
              0.4444444444444444,
              "#bd3786"
             ],
             [
              0.5555555555555556,
              "#d8576b"
             ],
             [
              0.6666666666666666,
              "#ed7953"
             ],
             [
              0.7777777777777778,
              "#fb9f3a"
             ],
             [
              0.8888888888888888,
              "#fdca26"
             ],
             [
              1,
              "#f0f921"
             ]
            ],
            "type": "histogram2dcontour"
           }
          ],
          "mesh3d": [
           {
            "colorbar": {
             "outlinewidth": 0,
             "ticks": ""
            },
            "type": "mesh3d"
           }
          ],
          "parcoords": [
           {
            "line": {
             "colorbar": {
              "outlinewidth": 0,
              "ticks": ""
             }
            },
            "type": "parcoords"
           }
          ],
          "pie": [
           {
            "automargin": true,
            "type": "pie"
           }
          ],
          "scatter": [
           {
            "marker": {
             "colorbar": {
              "outlinewidth": 0,
              "ticks": ""
             }
            },
            "type": "scatter"
           }
          ],
          "scatter3d": [
           {
            "line": {
             "colorbar": {
              "outlinewidth": 0,
              "ticks": ""
             }
            },
            "marker": {
             "colorbar": {
              "outlinewidth": 0,
              "ticks": ""
             }
            },
            "type": "scatter3d"
           }
          ],
          "scattercarpet": [
           {
            "marker": {
             "colorbar": {
              "outlinewidth": 0,
              "ticks": ""
             }
            },
            "type": "scattercarpet"
           }
          ],
          "scattergeo": [
           {
            "marker": {
             "colorbar": {
              "outlinewidth": 0,
              "ticks": ""
             }
            },
            "type": "scattergeo"
           }
          ],
          "scattergl": [
           {
            "marker": {
             "colorbar": {
              "outlinewidth": 0,
              "ticks": ""
             }
            },
            "type": "scattergl"
           }
          ],
          "scattermapbox": [
           {
            "marker": {
             "colorbar": {
              "outlinewidth": 0,
              "ticks": ""
             }
            },
            "type": "scattermapbox"
           }
          ],
          "scatterpolar": [
           {
            "marker": {
             "colorbar": {
              "outlinewidth": 0,
              "ticks": ""
             }
            },
            "type": "scatterpolar"
           }
          ],
          "scatterpolargl": [
           {
            "marker": {
             "colorbar": {
              "outlinewidth": 0,
              "ticks": ""
             }
            },
            "type": "scatterpolargl"
           }
          ],
          "scatterternary": [
           {
            "marker": {
             "colorbar": {
              "outlinewidth": 0,
              "ticks": ""
             }
            },
            "type": "scatterternary"
           }
          ],
          "surface": [
           {
            "colorbar": {
             "outlinewidth": 0,
             "ticks": ""
            },
            "colorscale": [
             [
              0,
              "#0d0887"
             ],
             [
              0.1111111111111111,
              "#46039f"
             ],
             [
              0.2222222222222222,
              "#7201a8"
             ],
             [
              0.3333333333333333,
              "#9c179e"
             ],
             [
              0.4444444444444444,
              "#bd3786"
             ],
             [
              0.5555555555555556,
              "#d8576b"
             ],
             [
              0.6666666666666666,
              "#ed7953"
             ],
             [
              0.7777777777777778,
              "#fb9f3a"
             ],
             [
              0.8888888888888888,
              "#fdca26"
             ],
             [
              1,
              "#f0f921"
             ]
            ],
            "type": "surface"
           }
          ],
          "table": [
           {
            "cells": {
             "fill": {
              "color": "#EBF0F8"
             },
             "line": {
              "color": "white"
             }
            },
            "header": {
             "fill": {
              "color": "#C8D4E3"
             },
             "line": {
              "color": "white"
             }
            },
            "type": "table"
           }
          ]
         },
         "layout": {
          "annotationdefaults": {
           "arrowcolor": "#2a3f5f",
           "arrowhead": 0,
           "arrowwidth": 1
          },
          "coloraxis": {
           "colorbar": {
            "outlinewidth": 0,
            "ticks": ""
           }
          },
          "colorscale": {
           "diverging": [
            [
             0,
             "#8e0152"
            ],
            [
             0.1,
             "#c51b7d"
            ],
            [
             0.2,
             "#de77ae"
            ],
            [
             0.3,
             "#f1b6da"
            ],
            [
             0.4,
             "#fde0ef"
            ],
            [
             0.5,
             "#f7f7f7"
            ],
            [
             0.6,
             "#e6f5d0"
            ],
            [
             0.7,
             "#b8e186"
            ],
            [
             0.8,
             "#7fbc41"
            ],
            [
             0.9,
             "#4d9221"
            ],
            [
             1,
             "#276419"
            ]
           ],
           "sequential": [
            [
             0,
             "#0d0887"
            ],
            [
             0.1111111111111111,
             "#46039f"
            ],
            [
             0.2222222222222222,
             "#7201a8"
            ],
            [
             0.3333333333333333,
             "#9c179e"
            ],
            [
             0.4444444444444444,
             "#bd3786"
            ],
            [
             0.5555555555555556,
             "#d8576b"
            ],
            [
             0.6666666666666666,
             "#ed7953"
            ],
            [
             0.7777777777777778,
             "#fb9f3a"
            ],
            [
             0.8888888888888888,
             "#fdca26"
            ],
            [
             1,
             "#f0f921"
            ]
           ],
           "sequentialminus": [
            [
             0,
             "#0d0887"
            ],
            [
             0.1111111111111111,
             "#46039f"
            ],
            [
             0.2222222222222222,
             "#7201a8"
            ],
            [
             0.3333333333333333,
             "#9c179e"
            ],
            [
             0.4444444444444444,
             "#bd3786"
            ],
            [
             0.5555555555555556,
             "#d8576b"
            ],
            [
             0.6666666666666666,
             "#ed7953"
            ],
            [
             0.7777777777777778,
             "#fb9f3a"
            ],
            [
             0.8888888888888888,
             "#fdca26"
            ],
            [
             1,
             "#f0f921"
            ]
           ]
          },
          "colorway": [
           "#636efa",
           "#EF553B",
           "#00cc96",
           "#ab63fa",
           "#FFA15A",
           "#19d3f3",
           "#FF6692",
           "#B6E880",
           "#FF97FF",
           "#FECB52"
          ],
          "font": {
           "color": "#2a3f5f"
          },
          "geo": {
           "bgcolor": "white",
           "lakecolor": "white",
           "landcolor": "#E5ECF6",
           "showlakes": true,
           "showland": true,
           "subunitcolor": "white"
          },
          "hoverlabel": {
           "align": "left"
          },
          "hovermode": "closest",
          "mapbox": {
           "style": "light"
          },
          "paper_bgcolor": "white",
          "plot_bgcolor": "#E5ECF6",
          "polar": {
           "angularaxis": {
            "gridcolor": "white",
            "linecolor": "white",
            "ticks": ""
           },
           "bgcolor": "#E5ECF6",
           "radialaxis": {
            "gridcolor": "white",
            "linecolor": "white",
            "ticks": ""
           }
          },
          "scene": {
           "xaxis": {
            "backgroundcolor": "#E5ECF6",
            "gridcolor": "white",
            "gridwidth": 2,
            "linecolor": "white",
            "showbackground": true,
            "ticks": "",
            "zerolinecolor": "white"
           },
           "yaxis": {
            "backgroundcolor": "#E5ECF6",
            "gridcolor": "white",
            "gridwidth": 2,
            "linecolor": "white",
            "showbackground": true,
            "ticks": "",
            "zerolinecolor": "white"
           },
           "zaxis": {
            "backgroundcolor": "#E5ECF6",
            "gridcolor": "white",
            "gridwidth": 2,
            "linecolor": "white",
            "showbackground": true,
            "ticks": "",
            "zerolinecolor": "white"
           }
          },
          "shapedefaults": {
           "line": {
            "color": "#2a3f5f"
           }
          },
          "ternary": {
           "aaxis": {
            "gridcolor": "white",
            "linecolor": "white",
            "ticks": ""
           },
           "baxis": {
            "gridcolor": "white",
            "linecolor": "white",
            "ticks": ""
           },
           "bgcolor": "#E5ECF6",
           "caxis": {
            "gridcolor": "white",
            "linecolor": "white",
            "ticks": ""
           }
          },
          "title": {
           "x": 0.05
          },
          "xaxis": {
           "automargin": true,
           "gridcolor": "white",
           "linecolor": "white",
           "ticks": "",
           "title": {
            "standoff": 15
           },
           "zerolinecolor": "white",
           "zerolinewidth": 2
          },
          "yaxis": {
           "automargin": true,
           "gridcolor": "white",
           "linecolor": "white",
           "ticks": "",
           "title": {
            "standoff": 15
           },
           "zerolinecolor": "white",
           "zerolinewidth": 2
          }
         }
        },
        "title": {
         "font": {
          "size": 20
         },
         "text": "Arrangement of countries in descending order of GDP dollar per capita)"
        },
        "xaxis": {
         "anchor": "y",
         "domain": [
          0,
          1
         ],
         "title": {
          "text": "Country"
         }
        },
        "yaxis": {
         "anchor": "x",
         "domain": [
          0,
          1
         ],
         "title": {
          "text": "value"
         }
        }
       }
      },
      "text/html": [
       "<div>\n",
       "        \n",
       "        \n",
       "            <div id=\"0e3029cc-ee2c-480f-a6cb-0aea5ae8e212\" class=\"plotly-graph-div\" style=\"height:525px; width:100%;\"></div>\n",
       "            <script type=\"text/javascript\">\n",
       "                require([\"plotly\"], function(Plotly) {\n",
       "                    window.PLOTLYENV=window.PLOTLYENV || {};\n",
       "                    \n",
       "                if (document.getElementById(\"0e3029cc-ee2c-480f-a6cb-0aea5ae8e212\")) {\n",
       "                    Plotly.newPlot(\n",
       "                        '0e3029cc-ee2c-480f-a6cb-0aea5ae8e212',\n",
       "                        [{\"alignmentgroup\": \"True\", \"hovertemplate\": \"Country=%{x}<br>value=%{y}<br>Area (sq. mi.)=%{marker.color}<extra></extra>\", \"legendgroup\": \"\", \"marker\": {\"color\": [2586, 9631420, 323802, 53, 262, 61, 41290, 43094, 103000, 83870, 9984670, 70280, 30528, 7686850, 1092, 41526, 377835, 193, 244820, 357021, 547030, 338145, 2, 449964, 301230, 160, 116, 693, 35980, 82880, 504782, 1399, 268680, 11437, 541, 572, 131940, 78, 2166086, 20770, 28, 9250, 468, 17820, 20273, 5770, 92391, 98480, 316, 4167, 7, 1910, 665, 13790, 13940, 153, 431, 78866, 19060, 1100, 93030, 48845, 212460, 176220, 477, 45226, 1960582, 960, 2040, 65200, 2766890, 312685, 443, 1219912, 56542, 64589, 756950, 430, 5128, 51100, 600370, 458, 329750, 1972550, 17075200, 261, 102, 91000, 1780, 199, 455, 110910, 8511965, 514000, 825418, 1648000, 237500, 242, 163610, 780580, 25333, 1759540, 2717300, 78200, 1138910, 207600, 51129, 2381740, 48730, 2517, 18270, 488100, 2944, 267667, 603700, 616, 754, 1285220, 240, 21, 344, 9596960, 22966, 17363, 912050, 10400, 21040, 406750, 300000, 28748, 92300, 108890, 214970, 446550, 163270, 1001450, 300, 10991, 65610, 274, 29800, 86600, 102, 185180, 283560, 1919440, 30355, 389, 110860, 3287590, 12200, 28051, 112090, 374, 69700, 329560, 413, 1098580, 129494, 88361, 748, 462840, 239460, 803940, 245857, 702, 181040, 144000, 390580, 1246700, 2505810, 475440, 33843, 1030700, 1564116, 678500, 28450, 11300, 236800, 447400, 196190, 198500, 27750, 11854, 437072, 56785, 322460, 4033, 147181, 236040, 120540, 23000, 26338, 47000, 1001, 801590, 1284000, 112620, 274200, 26, 622984, 582650, 143100, 111370, 1240000, 923768, 527970, 587040, 1267000, 752614, 5860, 36120, 811, 2170, 121320, 647500, 342000, 1127127, 2345410, 27830, 360, 945087, 118480, 15007, 637657, 71740, 266000], \"coloraxis\": \"coloraxis\"}, \"name\": \"\", \"offsetgroup\": \"\", \"orientation\": \"v\", \"showlegend\": false, \"textposition\": \"auto\", \"type\": \"bar\", \"x\": [\"Luxembourg \", \"United States \", \"Norway \", \"Bermuda \", \"Cayman Islands \", \"San Marino \", \"Switzerland \", \"Denmark \", \"Iceland \", \"Austria \", \"Canada \", \"Ireland \", \"Belgium \", \"Australia \", \"Hong Kong \", \"Netherlands \", \"Japan \", \"Aruba \", \"United Kingdom \", \"Germany \", \"France \", \"Finland \", \"Monaco \", \"Sweden \", \"Italy \", \"Liechtenstein \", \"Jersey \", \"Singapore \", \"Taiwan \", \"United Arab Emirates \", \"Spain \", \"Faroe Islands \", \"New Zealand \", \"Qatar \", \"Guam \", \"Isle of Man \", \"Greece \", \"Guernsey \", \"Greenland \", \"Israel \", \"Macau \", \"Cyprus \", \"Andorra \", \"Kuwait \", \"Slovenia \", \"Brunei \", \"Portugal \", \"Korea, South \", \"Malta \", \"French Polynesia \", \"Gibraltar \", \"Virgin Islands \", \"Bahrain \", \"Puerto Rico \", \"Bahamas, The \", \"British Virgin Is. \", \"Barbados \", \"Czech Republic \", \"New Caledonia \", \"Martinique \", \"Hungary \", \"Slovakia \", \"Oman \", \"Uruguay \", \"N. Mariana Islands \", \"Estonia \", \"Saudi Arabia \", \"Netherlands Antilles \", \"Mauritius \", \"Lithuania \", \"Argentina \", \"Poland \", \"Antigua & Barbuda \", \"South Africa \", \"Croatia \", \"Latvia \", \"Chile \", \"Turks & Caicos Is \", \"Trinidad & Tobago \", \"Costa Rica \", \"Botswana \", \"Palau \", \"Malaysia \", \"Mexico \", \"Russia \", \"Saint Kitts & Nevis \", \"Anguilla \", \"French Guiana \", \"Guadeloupe \", \"American Samoa \", \"Seychelles \", \"Bulgaria \", \"Brazil \", \"Thailand \", \"Namibia \", \"Iran \", \"Romania \", \"St Pierre & Miquelon \", \"Tunisia \", \"Turkey \", \"Macedonia \", \"Libya \", \"Kazakhstan \", \"Panama \", \"Colombia \", \"Belarus \", \"Bosnia & Herzegovina \", \"Algeria \", \"Dominican Republic \", \"Reunion \", \"Fiji \", \"Turkmenistan \", \"Samoa \", \"Gabon \", \"Ukraine \", \"Saint Lucia \", \"Dominica \", \"Peru \", \"Cook Islands \", \"Nauru \", \"Grenada \", \"China \", \"Belize \", \"Swaziland \", \"Venezuela \", \"Lebanon \", \"El Salvador \", \"Paraguay \", \"Philippines \", \"Albania \", \"Jordan \", \"Guatemala \", \"Guyana \", \"Morocco \", \"Suriname \", \"Egypt \", \"Maldives \", \"Jamaica \", \"Sri Lanka \", \"Wallis and Futuna \", \"Armenia \", \"Azerbaijan \", \"Montserrat \", \"Syria \", \"Ecuador \", \"Indonesia \", \"Lesotho \", \"Saint Vincent and the Grenadines \", \"Cuba \", \"India \", \"Vanuatu \", \"Equatorial Guinea \", \"Honduras \", \"Mayotte \", \"Georgia \", \"Vietnam \", \"Saint Helena \", \"Bolivia \", \"Nicaragua \", \"Serbia \", \"Tonga \", \"Papua New Guinea \", \"Ghana \", \"Pakistan \", \"Guinea \", \"Micronesia, Fed. St. \", \"Cambodia \", \"Bangladesh \", \"Zimbabwe \", \"Angola \", \"Sudan \", \"Cameroon \", \"Moldova \", \"Mauritania \", \"Mongolia \", \"Burma \", \"Solomon Islands \", \"Gambia, The \", \"Laos \", \"Uzbekistan \", \"Senegal \", \"Kyrgyzstan \", \"Haiti \", \"Marshall Islands \", \"Iraq \", \"Togo \", \"Cote d'Ivoire \", \"Cape Verde \", \"Nepal \", \"Uganda \", \"Korea, North \", \"Djibouti \", \"Rwanda \", \"Bhutan \", \"Sao Tome & Principe \", \"Mozambique \", \"Chad \", \"Benin \", \"Burkina Faso \", \"Tuvalu \", \"Central African Rep. \", \"Kenya \", \"Tajikistan \", \"Liberia \", \"Mali \", \"Nigeria \", \"Yemen \", \"Madagascar \", \"Niger \", \"Zambia \", \"West Bank \", \"Guinea-Bissau \", \"Kiribati \", \"Comoros \", \"Eritrea \", \"Afghanistan \", \"Congo, Repub. of the \", \"Ethiopia \", \"Congo, Dem. Rep. \", \"Burundi \", \"Gaza Strip \", \"Tanzania \", \"Malawi \", \"East Timor \", \"Somalia \", \"Sierra Leone \", \"Western Sahara \"], \"xaxis\": \"x\", \"y\": [55100.0, 37800.0, 37800.0, 36000.0, 35000.0, 34600.0, 32700.0, 31100.0, 30900.0, 30000.0, 29800.0, 29600.0, 29100.0, 29000.0, 28800.0, 28600.0, 28200.0, 28000.0, 27700.0, 27600.0, 27600.0, 27400.0, 27000.0, 26800.0, 26700.0, 25000.0, 24800.0, 23700.0, 23400.0, 23200.0, 22000.0, 22000.0, 21600.0, 21500.0, 21000.0, 21000.0, 20000.0, 20000.0, 20000.0, 19800.0, 19400.0, 19200.0, 19000.0, 19000.0, 19000.0, 18600.0, 18000.0, 17800.0, 17700.0, 17500.0, 17500.0, 17200.0, 16900.0, 16800.0, 16700.0, 16000.0, 15700.0, 15700.0, 15000.0, 14400.0, 13900.0, 13300.0, 13100.0, 12800.0, 12500.0, 12300.0, 11800.0, 11400.0, 11400.0, 11400.0, 11200.0, 11100.0, 11000.0, 10700.0, 10600.0, 10200.0, 9900.0, 9600.0, 9500.0, 9100.0, 9000.0, 9000.0, 9000.0, 9000.0, 8900.0, 8800.0, 8600.0, 8300.0, 8000.0, 8000.0, 7800.0, 7600.0, 7600.0, 7400.0, 7200.0, 7000.0, 7000.0, 6900.0, 6900.0, 6700.0, 6700.0, 6400.0, 6300.0, 6300.0, 6300.0, 6100.0, 6100.0, 6000.0, 6000.0, 5800.0, 5800.0, 5800.0, 5600.0, 5500.0, 5400.0, 5400.0, 5400.0, 5100.0, 5000.0, 5000.0, 5000.0, 5000.0, 4900.0, 4900.0, 4800.0, 4800.0, 4800.0, 4700.0, 4600.0, 4500.0, 4300.0, 4100.0, 4000.0, 4000.0, 4000.0, 4000.0, 3900.0, 3900.0, 3700.0, 3700.0, 3500.0, 3400.0, 3400.0, 3300.0, 3300.0, 3200.0, 3000.0, 2900.0, 2900.0, 2900.0, 2900.0, 2700.0, 2600.0, 2600.0, 2500.0, 2500.0, 2500.0, 2400.0, 2300.0, 2200.0, 2200.0, 2200.0, 2200.0, 2100.0, 2100.0, 2000.0, 1900.0, 1900.0, 1900.0, 1900.0, 1900.0, 1800.0, 1800.0, 1800.0, 1800.0, 1800.0, 1700.0, 1700.0, 1700.0, 1700.0, 1600.0, 1600.0, 1600.0, 1600.0, 1500.0, 1500.0, 1400.0, 1400.0, 1400.0, 1400.0, 1300.0, 1300.0, 1300.0, 1300.0, 1200.0, 1200.0, 1200.0, 1100.0, 1100.0, 1100.0, 1100.0, 1000.0, 1000.0, 1000.0, 900.0, 900.0, 800.0, 800.0, 800.0, 800.0, 800.0, 800.0, 800.0, 700.0, 700.0, 700.0, 700.0, 700.0, 700.0, 600.0, 600.0, 600.0, 600.0, 500.0, 500.0, 500.0, null], \"yaxis\": \"y\"}],\n",
       "                        {\"barmode\": \"relative\", \"coloraxis\": {\"colorbar\": {\"title\": {\"text\": \"Area (sq. mi.)\"}}, \"colorscale\": [[0.0, \"#0d0887\"], [0.1111111111111111, \"#46039f\"], [0.2222222222222222, \"#7201a8\"], [0.3333333333333333, \"#9c179e\"], [0.4444444444444444, \"#bd3786\"], [0.5555555555555556, \"#d8576b\"], [0.6666666666666666, \"#ed7953\"], [0.7777777777777778, \"#fb9f3a\"], [0.8888888888888888, \"#fdca26\"], [1.0, \"#f0f921\"]]}, \"legend\": {\"tracegroupgap\": 0}, \"margin\": {\"t\": 60}, \"template\": {\"data\": {\"bar\": [{\"error_x\": {\"color\": \"#2a3f5f\"}, \"error_y\": {\"color\": \"#2a3f5f\"}, \"marker\": {\"line\": {\"color\": \"#E5ECF6\", \"width\": 0.5}}, \"type\": \"bar\"}], \"barpolar\": [{\"marker\": {\"line\": {\"color\": \"#E5ECF6\", \"width\": 0.5}}, \"type\": \"barpolar\"}], \"carpet\": [{\"aaxis\": {\"endlinecolor\": \"#2a3f5f\", \"gridcolor\": \"white\", \"linecolor\": \"white\", \"minorgridcolor\": \"white\", \"startlinecolor\": \"#2a3f5f\"}, \"baxis\": {\"endlinecolor\": \"#2a3f5f\", \"gridcolor\": \"white\", \"linecolor\": \"white\", \"minorgridcolor\": \"white\", \"startlinecolor\": \"#2a3f5f\"}, \"type\": \"carpet\"}], \"choropleth\": [{\"colorbar\": {\"outlinewidth\": 0, \"ticks\": \"\"}, \"type\": \"choropleth\"}], \"contour\": [{\"colorbar\": {\"outlinewidth\": 0, \"ticks\": \"\"}, \"colorscale\": [[0.0, \"#0d0887\"], [0.1111111111111111, \"#46039f\"], [0.2222222222222222, \"#7201a8\"], [0.3333333333333333, \"#9c179e\"], [0.4444444444444444, \"#bd3786\"], [0.5555555555555556, \"#d8576b\"], [0.6666666666666666, \"#ed7953\"], [0.7777777777777778, \"#fb9f3a\"], [0.8888888888888888, \"#fdca26\"], [1.0, \"#f0f921\"]], \"type\": \"contour\"}], \"contourcarpet\": [{\"colorbar\": {\"outlinewidth\": 0, \"ticks\": \"\"}, \"type\": \"contourcarpet\"}], \"heatmap\": [{\"colorbar\": {\"outlinewidth\": 0, \"ticks\": \"\"}, \"colorscale\": [[0.0, \"#0d0887\"], [0.1111111111111111, \"#46039f\"], [0.2222222222222222, \"#7201a8\"], [0.3333333333333333, \"#9c179e\"], [0.4444444444444444, \"#bd3786\"], [0.5555555555555556, \"#d8576b\"], [0.6666666666666666, \"#ed7953\"], [0.7777777777777778, \"#fb9f3a\"], [0.8888888888888888, \"#fdca26\"], [1.0, \"#f0f921\"]], \"type\": \"heatmap\"}], \"heatmapgl\": [{\"colorbar\": {\"outlinewidth\": 0, \"ticks\": \"\"}, \"colorscale\": [[0.0, \"#0d0887\"], [0.1111111111111111, \"#46039f\"], [0.2222222222222222, \"#7201a8\"], [0.3333333333333333, \"#9c179e\"], [0.4444444444444444, \"#bd3786\"], [0.5555555555555556, \"#d8576b\"], [0.6666666666666666, \"#ed7953\"], [0.7777777777777778, \"#fb9f3a\"], [0.8888888888888888, \"#fdca26\"], [1.0, \"#f0f921\"]], \"type\": \"heatmapgl\"}], \"histogram\": [{\"marker\": {\"colorbar\": {\"outlinewidth\": 0, \"ticks\": \"\"}}, \"type\": \"histogram\"}], \"histogram2d\": [{\"colorbar\": {\"outlinewidth\": 0, \"ticks\": \"\"}, \"colorscale\": [[0.0, \"#0d0887\"], [0.1111111111111111, \"#46039f\"], [0.2222222222222222, \"#7201a8\"], [0.3333333333333333, \"#9c179e\"], [0.4444444444444444, \"#bd3786\"], [0.5555555555555556, \"#d8576b\"], [0.6666666666666666, \"#ed7953\"], [0.7777777777777778, \"#fb9f3a\"], [0.8888888888888888, \"#fdca26\"], [1.0, \"#f0f921\"]], \"type\": \"histogram2d\"}], \"histogram2dcontour\": [{\"colorbar\": {\"outlinewidth\": 0, \"ticks\": \"\"}, \"colorscale\": [[0.0, \"#0d0887\"], [0.1111111111111111, \"#46039f\"], [0.2222222222222222, \"#7201a8\"], [0.3333333333333333, \"#9c179e\"], [0.4444444444444444, \"#bd3786\"], [0.5555555555555556, \"#d8576b\"], [0.6666666666666666, \"#ed7953\"], [0.7777777777777778, \"#fb9f3a\"], [0.8888888888888888, \"#fdca26\"], [1.0, \"#f0f921\"]], \"type\": \"histogram2dcontour\"}], \"mesh3d\": [{\"colorbar\": {\"outlinewidth\": 0, \"ticks\": \"\"}, \"type\": \"mesh3d\"}], \"parcoords\": [{\"line\": {\"colorbar\": {\"outlinewidth\": 0, \"ticks\": \"\"}}, \"type\": \"parcoords\"}], \"pie\": [{\"automargin\": true, \"type\": \"pie\"}], \"scatter\": [{\"marker\": {\"colorbar\": {\"outlinewidth\": 0, \"ticks\": \"\"}}, \"type\": \"scatter\"}], \"scatter3d\": [{\"line\": {\"colorbar\": {\"outlinewidth\": 0, \"ticks\": \"\"}}, \"marker\": {\"colorbar\": {\"outlinewidth\": 0, \"ticks\": \"\"}}, \"type\": \"scatter3d\"}], \"scattercarpet\": [{\"marker\": {\"colorbar\": {\"outlinewidth\": 0, \"ticks\": \"\"}}, \"type\": \"scattercarpet\"}], \"scattergeo\": [{\"marker\": {\"colorbar\": {\"outlinewidth\": 0, \"ticks\": \"\"}}, \"type\": \"scattergeo\"}], \"scattergl\": [{\"marker\": {\"colorbar\": {\"outlinewidth\": 0, \"ticks\": \"\"}}, \"type\": \"scattergl\"}], \"scattermapbox\": [{\"marker\": {\"colorbar\": {\"outlinewidth\": 0, \"ticks\": \"\"}}, \"type\": \"scattermapbox\"}], \"scatterpolar\": [{\"marker\": {\"colorbar\": {\"outlinewidth\": 0, \"ticks\": \"\"}}, \"type\": \"scatterpolar\"}], \"scatterpolargl\": [{\"marker\": {\"colorbar\": {\"outlinewidth\": 0, \"ticks\": \"\"}}, \"type\": \"scatterpolargl\"}], \"scatterternary\": [{\"marker\": {\"colorbar\": {\"outlinewidth\": 0, \"ticks\": \"\"}}, \"type\": \"scatterternary\"}], \"surface\": [{\"colorbar\": {\"outlinewidth\": 0, \"ticks\": \"\"}, \"colorscale\": [[0.0, \"#0d0887\"], [0.1111111111111111, \"#46039f\"], [0.2222222222222222, \"#7201a8\"], [0.3333333333333333, \"#9c179e\"], [0.4444444444444444, \"#bd3786\"], [0.5555555555555556, \"#d8576b\"], [0.6666666666666666, \"#ed7953\"], [0.7777777777777778, \"#fb9f3a\"], [0.8888888888888888, \"#fdca26\"], [1.0, \"#f0f921\"]], \"type\": \"surface\"}], \"table\": [{\"cells\": {\"fill\": {\"color\": \"#EBF0F8\"}, \"line\": {\"color\": \"white\"}}, \"header\": {\"fill\": {\"color\": \"#C8D4E3\"}, \"line\": {\"color\": \"white\"}}, \"type\": \"table\"}]}, \"layout\": {\"annotationdefaults\": {\"arrowcolor\": \"#2a3f5f\", \"arrowhead\": 0, \"arrowwidth\": 1}, \"coloraxis\": {\"colorbar\": {\"outlinewidth\": 0, \"ticks\": \"\"}}, \"colorscale\": {\"diverging\": [[0, \"#8e0152\"], [0.1, \"#c51b7d\"], [0.2, \"#de77ae\"], [0.3, \"#f1b6da\"], [0.4, \"#fde0ef\"], [0.5, \"#f7f7f7\"], [0.6, \"#e6f5d0\"], [0.7, \"#b8e186\"], [0.8, \"#7fbc41\"], [0.9, \"#4d9221\"], [1, \"#276419\"]], \"sequential\": [[0.0, \"#0d0887\"], [0.1111111111111111, \"#46039f\"], [0.2222222222222222, \"#7201a8\"], [0.3333333333333333, \"#9c179e\"], [0.4444444444444444, \"#bd3786\"], [0.5555555555555556, \"#d8576b\"], [0.6666666666666666, \"#ed7953\"], [0.7777777777777778, \"#fb9f3a\"], [0.8888888888888888, \"#fdca26\"], [1.0, \"#f0f921\"]], \"sequentialminus\": [[0.0, \"#0d0887\"], [0.1111111111111111, \"#46039f\"], [0.2222222222222222, \"#7201a8\"], [0.3333333333333333, \"#9c179e\"], [0.4444444444444444, \"#bd3786\"], [0.5555555555555556, \"#d8576b\"], [0.6666666666666666, \"#ed7953\"], [0.7777777777777778, \"#fb9f3a\"], [0.8888888888888888, \"#fdca26\"], [1.0, \"#f0f921\"]]}, \"colorway\": [\"#636efa\", \"#EF553B\", \"#00cc96\", \"#ab63fa\", \"#FFA15A\", \"#19d3f3\", \"#FF6692\", \"#B6E880\", \"#FF97FF\", \"#FECB52\"], \"font\": {\"color\": \"#2a3f5f\"}, \"geo\": {\"bgcolor\": \"white\", \"lakecolor\": \"white\", \"landcolor\": \"#E5ECF6\", \"showlakes\": true, \"showland\": true, \"subunitcolor\": \"white\"}, \"hoverlabel\": {\"align\": \"left\"}, \"hovermode\": \"closest\", \"mapbox\": {\"style\": \"light\"}, \"paper_bgcolor\": \"white\", \"plot_bgcolor\": \"#E5ECF6\", \"polar\": {\"angularaxis\": {\"gridcolor\": \"white\", \"linecolor\": \"white\", \"ticks\": \"\"}, \"bgcolor\": \"#E5ECF6\", \"radialaxis\": {\"gridcolor\": \"white\", \"linecolor\": \"white\", \"ticks\": \"\"}}, \"scene\": {\"xaxis\": {\"backgroundcolor\": \"#E5ECF6\", \"gridcolor\": \"white\", \"gridwidth\": 2, \"linecolor\": \"white\", \"showbackground\": true, \"ticks\": \"\", \"zerolinecolor\": \"white\"}, \"yaxis\": {\"backgroundcolor\": \"#E5ECF6\", \"gridcolor\": \"white\", \"gridwidth\": 2, \"linecolor\": \"white\", \"showbackground\": true, \"ticks\": \"\", \"zerolinecolor\": \"white\"}, \"zaxis\": {\"backgroundcolor\": \"#E5ECF6\", \"gridcolor\": \"white\", \"gridwidth\": 2, \"linecolor\": \"white\", \"showbackground\": true, \"ticks\": \"\", \"zerolinecolor\": \"white\"}}, \"shapedefaults\": {\"line\": {\"color\": \"#2a3f5f\"}}, \"ternary\": {\"aaxis\": {\"gridcolor\": \"white\", \"linecolor\": \"white\", \"ticks\": \"\"}, \"baxis\": {\"gridcolor\": \"white\", \"linecolor\": \"white\", \"ticks\": \"\"}, \"bgcolor\": \"#E5ECF6\", \"caxis\": {\"gridcolor\": \"white\", \"linecolor\": \"white\", \"ticks\": \"\"}}, \"title\": {\"x\": 0.05}, \"xaxis\": {\"automargin\": true, \"gridcolor\": \"white\", \"linecolor\": \"white\", \"ticks\": \"\", \"title\": {\"standoff\": 15}, \"zerolinecolor\": \"white\", \"zerolinewidth\": 2}, \"yaxis\": {\"automargin\": true, \"gridcolor\": \"white\", \"linecolor\": \"white\", \"ticks\": \"\", \"title\": {\"standoff\": 15}, \"zerolinecolor\": \"white\", \"zerolinewidth\": 2}}}, \"title\": {\"font\": {\"size\": 20}, \"text\": \"Arrangement of countries in descending order of GDP dollar per capita)\"}, \"xaxis\": {\"anchor\": \"y\", \"domain\": [0.0, 1.0], \"title\": {\"text\": \"Country\"}}, \"yaxis\": {\"anchor\": \"x\", \"domain\": [0.0, 1.0], \"title\": {\"text\": \"value\"}}},\n",
       "                        {\"responsive\": true}\n",
       "                    ).then(function(){\n",
       "                            \n",
       "var gd = document.getElementById('0e3029cc-ee2c-480f-a6cb-0aea5ae8e212');\n",
       "var x = new MutationObserver(function (mutations, observer) {{\n",
       "        var display = window.getComputedStyle(gd).display;\n",
       "        if (!display || display === 'none') {{\n",
       "            console.log([gd, 'removed!']);\n",
       "            Plotly.purge(gd);\n",
       "            observer.disconnect();\n",
       "        }}\n",
       "}});\n",
       "\n",
       "// Listen for the removal of the full notebook cells\n",
       "var notebookContainer = gd.closest('#notebook-container');\n",
       "if (notebookContainer) {{\n",
       "    x.observe(notebookContainer, {childList: true});\n",
       "}}\n",
       "\n",
       "// Listen for the clearing of the current output cell\n",
       "var outputEl = gd.closest('.output');\n",
       "if (outputEl) {{\n",
       "    x.observe(outputEl, {childList: true});\n",
       "}}\n",
       "\n",
       "                        })\n",
       "                };\n",
       "                });\n",
       "            </script>\n",
       "        </div>"
      ]
     },
     "metadata": {},
     "output_type": "display_data"
    }
   ],
   "source": [
    "countries = countries.sort_values(by=['GDP ($ per capita)'], ascending=False)\n",
    "# second plotly graph\n",
    "fig = px.bar(countries, x='Country', y=['GDP ($ per capita)'], color = 'Area (sq. mi.)')\n",
    "fig.update_layout(title='Arrangement of countries in descending order of GDP dollar per capita)',titlefont_size=20)\n",
    "fig.show()"
   ]
  },
  {
   "cell_type": "code",
   "execution_count": 63,
   "metadata": {},
   "outputs": [
    {
     "data": {
      "application/vnd.plotly.v1+json": {
       "config": {
        "plotlyServerURL": "https://plot.ly"
       },
       "data": [
        {
         "domain": {
          "x": [
           0,
           1
          ],
          "y": [
           0,
           1
          ]
         },
         "hovertemplate": "Region=%{label}<br>Population=%{value}<extra></extra>",
         "labels": [
          "WESTERN EUROPE                     ",
          "NORTHERN AMERICA                   ",
          "WESTERN EUROPE                     ",
          "NORTHERN AMERICA                   ",
          "LATIN AMER. & CARIB    ",
          "WESTERN EUROPE                     ",
          "WESTERN EUROPE                     ",
          "WESTERN EUROPE                     ",
          "WESTERN EUROPE                     ",
          "WESTERN EUROPE                     ",
          "NORTHERN AMERICA                   ",
          "WESTERN EUROPE                     ",
          "WESTERN EUROPE                     ",
          "OCEANIA                            ",
          "ASIA (EX. NEAR EAST)         ",
          "WESTERN EUROPE                     ",
          "ASIA (EX. NEAR EAST)         ",
          "LATIN AMER. & CARIB    ",
          "WESTERN EUROPE                     ",
          "WESTERN EUROPE                     ",
          "WESTERN EUROPE                     ",
          "WESTERN EUROPE                     ",
          "WESTERN EUROPE                     ",
          "WESTERN EUROPE                     ",
          "WESTERN EUROPE                     ",
          "WESTERN EUROPE                     ",
          "WESTERN EUROPE                     ",
          "ASIA (EX. NEAR EAST)         ",
          "ASIA (EX. NEAR EAST)         ",
          "NEAR EAST                          ",
          "WESTERN EUROPE                     ",
          "WESTERN EUROPE                     ",
          "OCEANIA                            ",
          "NEAR EAST                          ",
          "OCEANIA                            ",
          "WESTERN EUROPE                     ",
          "WESTERN EUROPE                     ",
          "WESTERN EUROPE                     ",
          "NORTHERN AMERICA                   ",
          "NEAR EAST                          ",
          "ASIA (EX. NEAR EAST)         ",
          "NEAR EAST                          ",
          "WESTERN EUROPE                     ",
          "NEAR EAST                          ",
          "EASTERN EUROPE                     ",
          "ASIA (EX. NEAR EAST)         ",
          "WESTERN EUROPE                     ",
          "ASIA (EX. NEAR EAST)         ",
          "WESTERN EUROPE                     ",
          "OCEANIA                            ",
          "WESTERN EUROPE                     ",
          "LATIN AMER. & CARIB    ",
          "NEAR EAST                          ",
          "LATIN AMER. & CARIB    ",
          "LATIN AMER. & CARIB    ",
          "LATIN AMER. & CARIB    ",
          "LATIN AMER. & CARIB    ",
          "EASTERN EUROPE                     ",
          "OCEANIA                            ",
          "LATIN AMER. & CARIB    ",
          "EASTERN EUROPE                     ",
          "EASTERN EUROPE                     ",
          "NEAR EAST                          ",
          "LATIN AMER. & CARIB    ",
          "OCEANIA                            ",
          "BALTICS                            ",
          "NEAR EAST                          ",
          "LATIN AMER. & CARIB    ",
          "SUB-SAHARAN AFRICA                 ",
          "BALTICS                            ",
          "LATIN AMER. & CARIB    ",
          "EASTERN EUROPE                     ",
          "LATIN AMER. & CARIB    ",
          "SUB-SAHARAN AFRICA                 ",
          "EASTERN EUROPE                     ",
          "BALTICS                            ",
          "LATIN AMER. & CARIB    ",
          "LATIN AMER. & CARIB    ",
          "LATIN AMER. & CARIB    ",
          "LATIN AMER. & CARIB    ",
          "SUB-SAHARAN AFRICA                 ",
          "OCEANIA                            ",
          "ASIA (EX. NEAR EAST)         ",
          "LATIN AMER. & CARIB    ",
          "C.W. OF IND. STATES ",
          "LATIN AMER. & CARIB    ",
          "LATIN AMER. & CARIB    ",
          "LATIN AMER. & CARIB    ",
          "LATIN AMER. & CARIB    ",
          "OCEANIA                            ",
          "SUB-SAHARAN AFRICA                 ",
          "EASTERN EUROPE                     ",
          "LATIN AMER. & CARIB    ",
          "ASIA (EX. NEAR EAST)         ",
          "SUB-SAHARAN AFRICA                 ",
          "ASIA (EX. NEAR EAST)         ",
          "EASTERN EUROPE                     ",
          "NORTHERN AMERICA                   ",
          "NORTHERN AFRICA                    ",
          "NEAR EAST                          ",
          "EASTERN EUROPE                     ",
          "NORTHERN AFRICA                    ",
          "C.W. OF IND. STATES ",
          "LATIN AMER. & CARIB    ",
          "LATIN AMER. & CARIB    ",
          "C.W. OF IND. STATES ",
          "EASTERN EUROPE                     ",
          "NORTHERN AFRICA                    ",
          "LATIN AMER. & CARIB    ",
          "SUB-SAHARAN AFRICA                 ",
          "OCEANIA                            ",
          "C.W. OF IND. STATES ",
          "OCEANIA                            ",
          "SUB-SAHARAN AFRICA                 ",
          "C.W. OF IND. STATES ",
          "LATIN AMER. & CARIB    ",
          "LATIN AMER. & CARIB    ",
          "LATIN AMER. & CARIB    ",
          "OCEANIA                            ",
          "OCEANIA                            ",
          "LATIN AMER. & CARIB    ",
          "ASIA (EX. NEAR EAST)         ",
          "LATIN AMER. & CARIB    ",
          "SUB-SAHARAN AFRICA                 ",
          "LATIN AMER. & CARIB    ",
          "NEAR EAST                          ",
          "LATIN AMER. & CARIB    ",
          "LATIN AMER. & CARIB    ",
          "ASIA (EX. NEAR EAST)         ",
          "EASTERN EUROPE                     ",
          "NEAR EAST                          ",
          "LATIN AMER. & CARIB    ",
          "LATIN AMER. & CARIB    ",
          "NORTHERN AFRICA                    ",
          "LATIN AMER. & CARIB    ",
          "NORTHERN AFRICA                    ",
          "ASIA (EX. NEAR EAST)         ",
          "LATIN AMER. & CARIB    ",
          "ASIA (EX. NEAR EAST)         ",
          "OCEANIA                            ",
          "C.W. OF IND. STATES ",
          "C.W. OF IND. STATES ",
          "LATIN AMER. & CARIB    ",
          "NEAR EAST                          ",
          "LATIN AMER. & CARIB    ",
          "ASIA (EX. NEAR EAST)         ",
          "SUB-SAHARAN AFRICA                 ",
          "LATIN AMER. & CARIB    ",
          "LATIN AMER. & CARIB    ",
          "ASIA (EX. NEAR EAST)         ",
          "OCEANIA                            ",
          "SUB-SAHARAN AFRICA                 ",
          "LATIN AMER. & CARIB    ",
          "SUB-SAHARAN AFRICA                 ",
          "C.W. OF IND. STATES ",
          "ASIA (EX. NEAR EAST)         ",
          "SUB-SAHARAN AFRICA                 ",
          "LATIN AMER. & CARIB    ",
          "LATIN AMER. & CARIB    ",
          "EASTERN EUROPE                     ",
          "OCEANIA                            ",
          "OCEANIA                            ",
          "SUB-SAHARAN AFRICA                 ",
          "ASIA (EX. NEAR EAST)         ",
          "SUB-SAHARAN AFRICA                 ",
          "OCEANIA                            ",
          "ASIA (EX. NEAR EAST)         ",
          "ASIA (EX. NEAR EAST)         ",
          "SUB-SAHARAN AFRICA                 ",
          "SUB-SAHARAN AFRICA                 ",
          "SUB-SAHARAN AFRICA                 ",
          "SUB-SAHARAN AFRICA                 ",
          "C.W. OF IND. STATES ",
          "SUB-SAHARAN AFRICA                 ",
          "ASIA (EX. NEAR EAST)         ",
          "ASIA (EX. NEAR EAST)         ",
          "OCEANIA                            ",
          "SUB-SAHARAN AFRICA                 ",
          "ASIA (EX. NEAR EAST)         ",
          "C.W. OF IND. STATES ",
          "SUB-SAHARAN AFRICA                 ",
          "C.W. OF IND. STATES ",
          "LATIN AMER. & CARIB    ",
          "OCEANIA                            ",
          "NEAR EAST                          ",
          "SUB-SAHARAN AFRICA                 ",
          "SUB-SAHARAN AFRICA                 ",
          "SUB-SAHARAN AFRICA                 ",
          "ASIA (EX. NEAR EAST)         ",
          "SUB-SAHARAN AFRICA                 ",
          "ASIA (EX. NEAR EAST)         ",
          "SUB-SAHARAN AFRICA                 ",
          "SUB-SAHARAN AFRICA                 ",
          "ASIA (EX. NEAR EAST)         ",
          "SUB-SAHARAN AFRICA                 ",
          "SUB-SAHARAN AFRICA                 ",
          "SUB-SAHARAN AFRICA                 ",
          "SUB-SAHARAN AFRICA                 ",
          "SUB-SAHARAN AFRICA                 ",
          "OCEANIA                            ",
          "SUB-SAHARAN AFRICA                 ",
          "SUB-SAHARAN AFRICA                 ",
          "C.W. OF IND. STATES ",
          "SUB-SAHARAN AFRICA                 ",
          "SUB-SAHARAN AFRICA                 ",
          "SUB-SAHARAN AFRICA                 ",
          "NEAR EAST                          ",
          "SUB-SAHARAN AFRICA                 ",
          "SUB-SAHARAN AFRICA                 ",
          "SUB-SAHARAN AFRICA                 ",
          "NEAR EAST                          ",
          "SUB-SAHARAN AFRICA                 ",
          "OCEANIA                            ",
          "SUB-SAHARAN AFRICA                 ",
          "SUB-SAHARAN AFRICA                 ",
          "ASIA (EX. NEAR EAST)         ",
          "SUB-SAHARAN AFRICA                 ",
          "SUB-SAHARAN AFRICA                 ",
          "SUB-SAHARAN AFRICA                 ",
          "SUB-SAHARAN AFRICA                 ",
          "NEAR EAST                          ",
          "SUB-SAHARAN AFRICA                 ",
          "SUB-SAHARAN AFRICA                 ",
          "ASIA (EX. NEAR EAST)         ",
          "SUB-SAHARAN AFRICA                 ",
          "SUB-SAHARAN AFRICA                 ",
          "NORTHERN AFRICA                    "
         ],
         "legendgroup": "",
         "name": "",
         "showlegend": true,
         "type": "pie",
         "values": [
          474413,
          298444215,
          4610820,
          65773,
          45436,
          29251,
          7523934,
          5450661,
          299388,
          8192880,
          33098932,
          4062235,
          10379067,
          20264082,
          6940432,
          16491461,
          127463611,
          71891,
          60609153,
          82422299,
          60876136,
          5231372,
          32543,
          9016596,
          58133509,
          33987,
          91084,
          4492150,
          23036087,
          2602713,
          40397842,
          47246,
          4076140,
          885359,
          171019,
          75441,
          10688058,
          65409,
          56361,
          6352117,
          453125,
          784301,
          71201,
          2418393,
          2010347,
          379444,
          10605870,
          48846823,
          400214,
          274578,
          27928,
          108605,
          698585,
          3927188,
          303770,
          23098,
          279912,
          10235455,
          219246,
          436131,
          9981334,
          5439448,
          3102229,
          3431932,
          82459,
          1324333,
          27019731,
          221736,
          1240827,
          3585906,
          39921833,
          38536869,
          69108,
          44187637,
          4494749,
          2274735,
          16134219,
          21152,
          1065842,
          4075261,
          1639833,
          20579,
          24385858,
          107449525,
          142893540,
          39129,
          13477,
          199509,
          452776,
          57794,
          81541,
          7385367,
          188078227,
          64631595,
          2044147,
          68688433,
          22303552,
          7026,
          10175014,
          70413958,
          2050554,
          5900754,
          15233244,
          3191319,
          43593035,
          10293011,
          4498976,
          32930091,
          9183984,
          787584,
          905949,
          5042920,
          176908,
          1424906,
          46710816,
          168458,
          68910,
          28302603,
          21388,
          13287,
          89703,
          1313973713,
          287730,
          1136334,
          25730435,
          3874050,
          6822378,
          6506464,
          89468677,
          3581655,
          5906760,
          12293545,
          767245,
          33241259,
          439117,
          78887007,
          359008,
          2758124,
          20222240,
          16025,
          2976372,
          7961619,
          9439,
          18881361,
          13547510,
          245452739,
          2022331,
          117848,
          11382820,
          1095351995,
          208869,
          540109,
          7326496,
          201234,
          4661473,
          84402966,
          7502,
          8989046,
          5570129,
          9396411,
          114689,
          5670544,
          22409572,
          165803560,
          9690222,
          108004,
          13881427,
          147365352,
          12236805,
          12127071,
          41236378,
          17340702,
          4466706,
          3177388,
          2832224,
          47382633,
          552438,
          1641564,
          6368481,
          27307134,
          11987121,
          5213898,
          8308504,
          60422,
          26783383,
          5548702,
          17654843,
          420979,
          28287147,
          28195754,
          23113019,
          486530,
          8648248,
          2279723,
          193413,
          19686505,
          9944201,
          7862944,
          13902972,
          11810,
          4303356,
          34707817,
          7320815,
          3042004,
          11716829,
          131859731,
          21456188,
          18595469,
          12525094,
          11502010,
          2460492,
          1442029,
          105432,
          690948,
          4786994,
          31056997,
          3702314,
          74777981,
          62660551,
          8090068,
          1428757,
          37445392,
          13013926,
          1062777,
          8863338,
          6005250,
          273008
         ]
        }
       ],
       "layout": {
        "height": 650,
        "legend": {
         "tracegroupgap": 0
        },
        "template": {
         "data": {
          "bar": [
           {
            "error_x": {
             "color": "#2a3f5f"
            },
            "error_y": {
             "color": "#2a3f5f"
            },
            "marker": {
             "line": {
              "color": "#E5ECF6",
              "width": 0.5
             }
            },
            "type": "bar"
           }
          ],
          "barpolar": [
           {
            "marker": {
             "line": {
              "color": "#E5ECF6",
              "width": 0.5
             }
            },
            "type": "barpolar"
           }
          ],
          "carpet": [
           {
            "aaxis": {
             "endlinecolor": "#2a3f5f",
             "gridcolor": "white",
             "linecolor": "white",
             "minorgridcolor": "white",
             "startlinecolor": "#2a3f5f"
            },
            "baxis": {
             "endlinecolor": "#2a3f5f",
             "gridcolor": "white",
             "linecolor": "white",
             "minorgridcolor": "white",
             "startlinecolor": "#2a3f5f"
            },
            "type": "carpet"
           }
          ],
          "choropleth": [
           {
            "colorbar": {
             "outlinewidth": 0,
             "ticks": ""
            },
            "type": "choropleth"
           }
          ],
          "contour": [
           {
            "colorbar": {
             "outlinewidth": 0,
             "ticks": ""
            },
            "colorscale": [
             [
              0,
              "#0d0887"
             ],
             [
              0.1111111111111111,
              "#46039f"
             ],
             [
              0.2222222222222222,
              "#7201a8"
             ],
             [
              0.3333333333333333,
              "#9c179e"
             ],
             [
              0.4444444444444444,
              "#bd3786"
             ],
             [
              0.5555555555555556,
              "#d8576b"
             ],
             [
              0.6666666666666666,
              "#ed7953"
             ],
             [
              0.7777777777777778,
              "#fb9f3a"
             ],
             [
              0.8888888888888888,
              "#fdca26"
             ],
             [
              1,
              "#f0f921"
             ]
            ],
            "type": "contour"
           }
          ],
          "contourcarpet": [
           {
            "colorbar": {
             "outlinewidth": 0,
             "ticks": ""
            },
            "type": "contourcarpet"
           }
          ],
          "heatmap": [
           {
            "colorbar": {
             "outlinewidth": 0,
             "ticks": ""
            },
            "colorscale": [
             [
              0,
              "#0d0887"
             ],
             [
              0.1111111111111111,
              "#46039f"
             ],
             [
              0.2222222222222222,
              "#7201a8"
             ],
             [
              0.3333333333333333,
              "#9c179e"
             ],
             [
              0.4444444444444444,
              "#bd3786"
             ],
             [
              0.5555555555555556,
              "#d8576b"
             ],
             [
              0.6666666666666666,
              "#ed7953"
             ],
             [
              0.7777777777777778,
              "#fb9f3a"
             ],
             [
              0.8888888888888888,
              "#fdca26"
             ],
             [
              1,
              "#f0f921"
             ]
            ],
            "type": "heatmap"
           }
          ],
          "heatmapgl": [
           {
            "colorbar": {
             "outlinewidth": 0,
             "ticks": ""
            },
            "colorscale": [
             [
              0,
              "#0d0887"
             ],
             [
              0.1111111111111111,
              "#46039f"
             ],
             [
              0.2222222222222222,
              "#7201a8"
             ],
             [
              0.3333333333333333,
              "#9c179e"
             ],
             [
              0.4444444444444444,
              "#bd3786"
             ],
             [
              0.5555555555555556,
              "#d8576b"
             ],
             [
              0.6666666666666666,
              "#ed7953"
             ],
             [
              0.7777777777777778,
              "#fb9f3a"
             ],
             [
              0.8888888888888888,
              "#fdca26"
             ],
             [
              1,
              "#f0f921"
             ]
            ],
            "type": "heatmapgl"
           }
          ],
          "histogram": [
           {
            "marker": {
             "colorbar": {
              "outlinewidth": 0,
              "ticks": ""
             }
            },
            "type": "histogram"
           }
          ],
          "histogram2d": [
           {
            "colorbar": {
             "outlinewidth": 0,
             "ticks": ""
            },
            "colorscale": [
             [
              0,
              "#0d0887"
             ],
             [
              0.1111111111111111,
              "#46039f"
             ],
             [
              0.2222222222222222,
              "#7201a8"
             ],
             [
              0.3333333333333333,
              "#9c179e"
             ],
             [
              0.4444444444444444,
              "#bd3786"
             ],
             [
              0.5555555555555556,
              "#d8576b"
             ],
             [
              0.6666666666666666,
              "#ed7953"
             ],
             [
              0.7777777777777778,
              "#fb9f3a"
             ],
             [
              0.8888888888888888,
              "#fdca26"
             ],
             [
              1,
              "#f0f921"
             ]
            ],
            "type": "histogram2d"
           }
          ],
          "histogram2dcontour": [
           {
            "colorbar": {
             "outlinewidth": 0,
             "ticks": ""
            },
            "colorscale": [
             [
              0,
              "#0d0887"
             ],
             [
              0.1111111111111111,
              "#46039f"
             ],
             [
              0.2222222222222222,
              "#7201a8"
             ],
             [
              0.3333333333333333,
              "#9c179e"
             ],
             [
              0.4444444444444444,
              "#bd3786"
             ],
             [
              0.5555555555555556,
              "#d8576b"
             ],
             [
              0.6666666666666666,
              "#ed7953"
             ],
             [
              0.7777777777777778,
              "#fb9f3a"
             ],
             [
              0.8888888888888888,
              "#fdca26"
             ],
             [
              1,
              "#f0f921"
             ]
            ],
            "type": "histogram2dcontour"
           }
          ],
          "mesh3d": [
           {
            "colorbar": {
             "outlinewidth": 0,
             "ticks": ""
            },
            "type": "mesh3d"
           }
          ],
          "parcoords": [
           {
            "line": {
             "colorbar": {
              "outlinewidth": 0,
              "ticks": ""
             }
            },
            "type": "parcoords"
           }
          ],
          "pie": [
           {
            "automargin": true,
            "type": "pie"
           }
          ],
          "scatter": [
           {
            "marker": {
             "colorbar": {
              "outlinewidth": 0,
              "ticks": ""
             }
            },
            "type": "scatter"
           }
          ],
          "scatter3d": [
           {
            "line": {
             "colorbar": {
              "outlinewidth": 0,
              "ticks": ""
             }
            },
            "marker": {
             "colorbar": {
              "outlinewidth": 0,
              "ticks": ""
             }
            },
            "type": "scatter3d"
           }
          ],
          "scattercarpet": [
           {
            "marker": {
             "colorbar": {
              "outlinewidth": 0,
              "ticks": ""
             }
            },
            "type": "scattercarpet"
           }
          ],
          "scattergeo": [
           {
            "marker": {
             "colorbar": {
              "outlinewidth": 0,
              "ticks": ""
             }
            },
            "type": "scattergeo"
           }
          ],
          "scattergl": [
           {
            "marker": {
             "colorbar": {
              "outlinewidth": 0,
              "ticks": ""
             }
            },
            "type": "scattergl"
           }
          ],
          "scattermapbox": [
           {
            "marker": {
             "colorbar": {
              "outlinewidth": 0,
              "ticks": ""
             }
            },
            "type": "scattermapbox"
           }
          ],
          "scatterpolar": [
           {
            "marker": {
             "colorbar": {
              "outlinewidth": 0,
              "ticks": ""
             }
            },
            "type": "scatterpolar"
           }
          ],
          "scatterpolargl": [
           {
            "marker": {
             "colorbar": {
              "outlinewidth": 0,
              "ticks": ""
             }
            },
            "type": "scatterpolargl"
           }
          ],
          "scatterternary": [
           {
            "marker": {
             "colorbar": {
              "outlinewidth": 0,
              "ticks": ""
             }
            },
            "type": "scatterternary"
           }
          ],
          "surface": [
           {
            "colorbar": {
             "outlinewidth": 0,
             "ticks": ""
            },
            "colorscale": [
             [
              0,
              "#0d0887"
             ],
             [
              0.1111111111111111,
              "#46039f"
             ],
             [
              0.2222222222222222,
              "#7201a8"
             ],
             [
              0.3333333333333333,
              "#9c179e"
             ],
             [
              0.4444444444444444,
              "#bd3786"
             ],
             [
              0.5555555555555556,
              "#d8576b"
             ],
             [
              0.6666666666666666,
              "#ed7953"
             ],
             [
              0.7777777777777778,
              "#fb9f3a"
             ],
             [
              0.8888888888888888,
              "#fdca26"
             ],
             [
              1,
              "#f0f921"
             ]
            ],
            "type": "surface"
           }
          ],
          "table": [
           {
            "cells": {
             "fill": {
              "color": "#EBF0F8"
             },
             "line": {
              "color": "white"
             }
            },
            "header": {
             "fill": {
              "color": "#C8D4E3"
             },
             "line": {
              "color": "white"
             }
            },
            "type": "table"
           }
          ]
         },
         "layout": {
          "annotationdefaults": {
           "arrowcolor": "#2a3f5f",
           "arrowhead": 0,
           "arrowwidth": 1
          },
          "coloraxis": {
           "colorbar": {
            "outlinewidth": 0,
            "ticks": ""
           }
          },
          "colorscale": {
           "diverging": [
            [
             0,
             "#8e0152"
            ],
            [
             0.1,
             "#c51b7d"
            ],
            [
             0.2,
             "#de77ae"
            ],
            [
             0.3,
             "#f1b6da"
            ],
            [
             0.4,
             "#fde0ef"
            ],
            [
             0.5,
             "#f7f7f7"
            ],
            [
             0.6,
             "#e6f5d0"
            ],
            [
             0.7,
             "#b8e186"
            ],
            [
             0.8,
             "#7fbc41"
            ],
            [
             0.9,
             "#4d9221"
            ],
            [
             1,
             "#276419"
            ]
           ],
           "sequential": [
            [
             0,
             "#0d0887"
            ],
            [
             0.1111111111111111,
             "#46039f"
            ],
            [
             0.2222222222222222,
             "#7201a8"
            ],
            [
             0.3333333333333333,
             "#9c179e"
            ],
            [
             0.4444444444444444,
             "#bd3786"
            ],
            [
             0.5555555555555556,
             "#d8576b"
            ],
            [
             0.6666666666666666,
             "#ed7953"
            ],
            [
             0.7777777777777778,
             "#fb9f3a"
            ],
            [
             0.8888888888888888,
             "#fdca26"
            ],
            [
             1,
             "#f0f921"
            ]
           ],
           "sequentialminus": [
            [
             0,
             "#0d0887"
            ],
            [
             0.1111111111111111,
             "#46039f"
            ],
            [
             0.2222222222222222,
             "#7201a8"
            ],
            [
             0.3333333333333333,
             "#9c179e"
            ],
            [
             0.4444444444444444,
             "#bd3786"
            ],
            [
             0.5555555555555556,
             "#d8576b"
            ],
            [
             0.6666666666666666,
             "#ed7953"
            ],
            [
             0.7777777777777778,
             "#fb9f3a"
            ],
            [
             0.8888888888888888,
             "#fdca26"
            ],
            [
             1,
             "#f0f921"
            ]
           ]
          },
          "colorway": [
           "#636efa",
           "#EF553B",
           "#00cc96",
           "#ab63fa",
           "#FFA15A",
           "#19d3f3",
           "#FF6692",
           "#B6E880",
           "#FF97FF",
           "#FECB52"
          ],
          "font": {
           "color": "#2a3f5f"
          },
          "geo": {
           "bgcolor": "white",
           "lakecolor": "white",
           "landcolor": "#E5ECF6",
           "showlakes": true,
           "showland": true,
           "subunitcolor": "white"
          },
          "hoverlabel": {
           "align": "left"
          },
          "hovermode": "closest",
          "mapbox": {
           "style": "light"
          },
          "paper_bgcolor": "white",
          "plot_bgcolor": "#E5ECF6",
          "polar": {
           "angularaxis": {
            "gridcolor": "white",
            "linecolor": "white",
            "ticks": ""
           },
           "bgcolor": "#E5ECF6",
           "radialaxis": {
            "gridcolor": "white",
            "linecolor": "white",
            "ticks": ""
           }
          },
          "scene": {
           "xaxis": {
            "backgroundcolor": "#E5ECF6",
            "gridcolor": "white",
            "gridwidth": 2,
            "linecolor": "white",
            "showbackground": true,
            "ticks": "",
            "zerolinecolor": "white"
           },
           "yaxis": {
            "backgroundcolor": "#E5ECF6",
            "gridcolor": "white",
            "gridwidth": 2,
            "linecolor": "white",
            "showbackground": true,
            "ticks": "",
            "zerolinecolor": "white"
           },
           "zaxis": {
            "backgroundcolor": "#E5ECF6",
            "gridcolor": "white",
            "gridwidth": 2,
            "linecolor": "white",
            "showbackground": true,
            "ticks": "",
            "zerolinecolor": "white"
           }
          },
          "shapedefaults": {
           "line": {
            "color": "#2a3f5f"
           }
          },
          "ternary": {
           "aaxis": {
            "gridcolor": "white",
            "linecolor": "white",
            "ticks": ""
           },
           "baxis": {
            "gridcolor": "white",
            "linecolor": "white",
            "ticks": ""
           },
           "bgcolor": "#E5ECF6",
           "caxis": {
            "gridcolor": "white",
            "linecolor": "white",
            "ticks": ""
           }
          },
          "title": {
           "x": 0.05
          },
          "xaxis": {
           "automargin": true,
           "gridcolor": "white",
           "linecolor": "white",
           "ticks": "",
           "title": {
            "standoff": 15
           },
           "zerolinecolor": "white",
           "zerolinewidth": 2
          },
          "yaxis": {
           "automargin": true,
           "gridcolor": "white",
           "linecolor": "white",
           "ticks": "",
           "title": {
            "standoff": 15
           },
           "zerolinecolor": "white",
           "zerolinewidth": 2
          }
         }
        },
        "title": {
         "text": "Region-wise population"
        }
       }
      },
      "text/html": [
       "<div>\n",
       "        \n",
       "        \n",
       "            <div id=\"c72135b6-90ec-4a5c-8a8f-dbe361415951\" class=\"plotly-graph-div\" style=\"height:650px; width:100%;\"></div>\n",
       "            <script type=\"text/javascript\">\n",
       "                require([\"plotly\"], function(Plotly) {\n",
       "                    window.PLOTLYENV=window.PLOTLYENV || {};\n",
       "                    \n",
       "                if (document.getElementById(\"c72135b6-90ec-4a5c-8a8f-dbe361415951\")) {\n",
       "                    Plotly.newPlot(\n",
       "                        'c72135b6-90ec-4a5c-8a8f-dbe361415951',\n",
       "                        [{\"domain\": {\"x\": [0.0, 1.0], \"y\": [0.0, 1.0]}, \"hovertemplate\": \"Region=%{label}<br>Population=%{value}<extra></extra>\", \"labels\": [\"WESTERN EUROPE                     \", \"NORTHERN AMERICA                   \", \"WESTERN EUROPE                     \", \"NORTHERN AMERICA                   \", \"LATIN AMER. & CARIB    \", \"WESTERN EUROPE                     \", \"WESTERN EUROPE                     \", \"WESTERN EUROPE                     \", \"WESTERN EUROPE                     \", \"WESTERN EUROPE                     \", \"NORTHERN AMERICA                   \", \"WESTERN EUROPE                     \", \"WESTERN EUROPE                     \", \"OCEANIA                            \", \"ASIA (EX. NEAR EAST)         \", \"WESTERN EUROPE                     \", \"ASIA (EX. NEAR EAST)         \", \"LATIN AMER. & CARIB    \", \"WESTERN EUROPE                     \", \"WESTERN EUROPE                     \", \"WESTERN EUROPE                     \", \"WESTERN EUROPE                     \", \"WESTERN EUROPE                     \", \"WESTERN EUROPE                     \", \"WESTERN EUROPE                     \", \"WESTERN EUROPE                     \", \"WESTERN EUROPE                     \", \"ASIA (EX. NEAR EAST)         \", \"ASIA (EX. NEAR EAST)         \", \"NEAR EAST                          \", \"WESTERN EUROPE                     \", \"WESTERN EUROPE                     \", \"OCEANIA                            \", \"NEAR EAST                          \", \"OCEANIA                            \", \"WESTERN EUROPE                     \", \"WESTERN EUROPE                     \", \"WESTERN EUROPE                     \", \"NORTHERN AMERICA                   \", \"NEAR EAST                          \", \"ASIA (EX. NEAR EAST)         \", \"NEAR EAST                          \", \"WESTERN EUROPE                     \", \"NEAR EAST                          \", \"EASTERN EUROPE                     \", \"ASIA (EX. NEAR EAST)         \", \"WESTERN EUROPE                     \", \"ASIA (EX. NEAR EAST)         \", \"WESTERN EUROPE                     \", \"OCEANIA                            \", \"WESTERN EUROPE                     \", \"LATIN AMER. & CARIB    \", \"NEAR EAST                          \", \"LATIN AMER. & CARIB    \", \"LATIN AMER. & CARIB    \", \"LATIN AMER. & CARIB    \", \"LATIN AMER. & CARIB    \", \"EASTERN EUROPE                     \", \"OCEANIA                            \", \"LATIN AMER. & CARIB    \", \"EASTERN EUROPE                     \", \"EASTERN EUROPE                     \", \"NEAR EAST                          \", \"LATIN AMER. & CARIB    \", \"OCEANIA                            \", \"BALTICS                            \", \"NEAR EAST                          \", \"LATIN AMER. & CARIB    \", \"SUB-SAHARAN AFRICA                 \", \"BALTICS                            \", \"LATIN AMER. & CARIB    \", \"EASTERN EUROPE                     \", \"LATIN AMER. & CARIB    \", \"SUB-SAHARAN AFRICA                 \", \"EASTERN EUROPE                     \", \"BALTICS                            \", \"LATIN AMER. & CARIB    \", \"LATIN AMER. & CARIB    \", \"LATIN AMER. & CARIB    \", \"LATIN AMER. & CARIB    \", \"SUB-SAHARAN AFRICA                 \", \"OCEANIA                            \", \"ASIA (EX. NEAR EAST)         \", \"LATIN AMER. & CARIB    \", \"C.W. OF IND. STATES \", \"LATIN AMER. & CARIB    \", \"LATIN AMER. & CARIB    \", \"LATIN AMER. & CARIB    \", \"LATIN AMER. & CARIB    \", \"OCEANIA                            \", \"SUB-SAHARAN AFRICA                 \", \"EASTERN EUROPE                     \", \"LATIN AMER. & CARIB    \", \"ASIA (EX. NEAR EAST)         \", \"SUB-SAHARAN AFRICA                 \", \"ASIA (EX. NEAR EAST)         \", \"EASTERN EUROPE                     \", \"NORTHERN AMERICA                   \", \"NORTHERN AFRICA                    \", \"NEAR EAST                          \", \"EASTERN EUROPE                     \", \"NORTHERN AFRICA                    \", \"C.W. OF IND. STATES \", \"LATIN AMER. & CARIB    \", \"LATIN AMER. & CARIB    \", \"C.W. OF IND. STATES \", \"EASTERN EUROPE                     \", \"NORTHERN AFRICA                    \", \"LATIN AMER. & CARIB    \", \"SUB-SAHARAN AFRICA                 \", \"OCEANIA                            \", \"C.W. OF IND. STATES \", \"OCEANIA                            \", \"SUB-SAHARAN AFRICA                 \", \"C.W. OF IND. STATES \", \"LATIN AMER. & CARIB    \", \"LATIN AMER. & CARIB    \", \"LATIN AMER. & CARIB    \", \"OCEANIA                            \", \"OCEANIA                            \", \"LATIN AMER. & CARIB    \", \"ASIA (EX. NEAR EAST)         \", \"LATIN AMER. & CARIB    \", \"SUB-SAHARAN AFRICA                 \", \"LATIN AMER. & CARIB    \", \"NEAR EAST                          \", \"LATIN AMER. & CARIB    \", \"LATIN AMER. & CARIB    \", \"ASIA (EX. NEAR EAST)         \", \"EASTERN EUROPE                     \", \"NEAR EAST                          \", \"LATIN AMER. & CARIB    \", \"LATIN AMER. & CARIB    \", \"NORTHERN AFRICA                    \", \"LATIN AMER. & CARIB    \", \"NORTHERN AFRICA                    \", \"ASIA (EX. NEAR EAST)         \", \"LATIN AMER. & CARIB    \", \"ASIA (EX. NEAR EAST)         \", \"OCEANIA                            \", \"C.W. OF IND. STATES \", \"C.W. OF IND. STATES \", \"LATIN AMER. & CARIB    \", \"NEAR EAST                          \", \"LATIN AMER. & CARIB    \", \"ASIA (EX. NEAR EAST)         \", \"SUB-SAHARAN AFRICA                 \", \"LATIN AMER. & CARIB    \", \"LATIN AMER. & CARIB    \", \"ASIA (EX. NEAR EAST)         \", \"OCEANIA                            \", \"SUB-SAHARAN AFRICA                 \", \"LATIN AMER. & CARIB    \", \"SUB-SAHARAN AFRICA                 \", \"C.W. OF IND. STATES \", \"ASIA (EX. NEAR EAST)         \", \"SUB-SAHARAN AFRICA                 \", \"LATIN AMER. & CARIB    \", \"LATIN AMER. & CARIB    \", \"EASTERN EUROPE                     \", \"OCEANIA                            \", \"OCEANIA                            \", \"SUB-SAHARAN AFRICA                 \", \"ASIA (EX. NEAR EAST)         \", \"SUB-SAHARAN AFRICA                 \", \"OCEANIA                            \", \"ASIA (EX. NEAR EAST)         \", \"ASIA (EX. NEAR EAST)         \", \"SUB-SAHARAN AFRICA                 \", \"SUB-SAHARAN AFRICA                 \", \"SUB-SAHARAN AFRICA                 \", \"SUB-SAHARAN AFRICA                 \", \"C.W. OF IND. STATES \", \"SUB-SAHARAN AFRICA                 \", \"ASIA (EX. NEAR EAST)         \", \"ASIA (EX. NEAR EAST)         \", \"OCEANIA                            \", \"SUB-SAHARAN AFRICA                 \", \"ASIA (EX. NEAR EAST)         \", \"C.W. OF IND. STATES \", \"SUB-SAHARAN AFRICA                 \", \"C.W. OF IND. STATES \", \"LATIN AMER. & CARIB    \", \"OCEANIA                            \", \"NEAR EAST                          \", \"SUB-SAHARAN AFRICA                 \", \"SUB-SAHARAN AFRICA                 \", \"SUB-SAHARAN AFRICA                 \", \"ASIA (EX. NEAR EAST)         \", \"SUB-SAHARAN AFRICA                 \", \"ASIA (EX. NEAR EAST)         \", \"SUB-SAHARAN AFRICA                 \", \"SUB-SAHARAN AFRICA                 \", \"ASIA (EX. NEAR EAST)         \", \"SUB-SAHARAN AFRICA                 \", \"SUB-SAHARAN AFRICA                 \", \"SUB-SAHARAN AFRICA                 \", \"SUB-SAHARAN AFRICA                 \", \"SUB-SAHARAN AFRICA                 \", \"OCEANIA                            \", \"SUB-SAHARAN AFRICA                 \", \"SUB-SAHARAN AFRICA                 \", \"C.W. OF IND. STATES \", \"SUB-SAHARAN AFRICA                 \", \"SUB-SAHARAN AFRICA                 \", \"SUB-SAHARAN AFRICA                 \", \"NEAR EAST                          \", \"SUB-SAHARAN AFRICA                 \", \"SUB-SAHARAN AFRICA                 \", \"SUB-SAHARAN AFRICA                 \", \"NEAR EAST                          \", \"SUB-SAHARAN AFRICA                 \", \"OCEANIA                            \", \"SUB-SAHARAN AFRICA                 \", \"SUB-SAHARAN AFRICA                 \", \"ASIA (EX. NEAR EAST)         \", \"SUB-SAHARAN AFRICA                 \", \"SUB-SAHARAN AFRICA                 \", \"SUB-SAHARAN AFRICA                 \", \"SUB-SAHARAN AFRICA                 \", \"NEAR EAST                          \", \"SUB-SAHARAN AFRICA                 \", \"SUB-SAHARAN AFRICA                 \", \"ASIA (EX. NEAR EAST)         \", \"SUB-SAHARAN AFRICA                 \", \"SUB-SAHARAN AFRICA                 \", \"NORTHERN AFRICA                    \"], \"legendgroup\": \"\", \"name\": \"\", \"showlegend\": true, \"type\": \"pie\", \"values\": [474413, 298444215, 4610820, 65773, 45436, 29251, 7523934, 5450661, 299388, 8192880, 33098932, 4062235, 10379067, 20264082, 6940432, 16491461, 127463611, 71891, 60609153, 82422299, 60876136, 5231372, 32543, 9016596, 58133509, 33987, 91084, 4492150, 23036087, 2602713, 40397842, 47246, 4076140, 885359, 171019, 75441, 10688058, 65409, 56361, 6352117, 453125, 784301, 71201, 2418393, 2010347, 379444, 10605870, 48846823, 400214, 274578, 27928, 108605, 698585, 3927188, 303770, 23098, 279912, 10235455, 219246, 436131, 9981334, 5439448, 3102229, 3431932, 82459, 1324333, 27019731, 221736, 1240827, 3585906, 39921833, 38536869, 69108, 44187637, 4494749, 2274735, 16134219, 21152, 1065842, 4075261, 1639833, 20579, 24385858, 107449525, 142893540, 39129, 13477, 199509, 452776, 57794, 81541, 7385367, 188078227, 64631595, 2044147, 68688433, 22303552, 7026, 10175014, 70413958, 2050554, 5900754, 15233244, 3191319, 43593035, 10293011, 4498976, 32930091, 9183984, 787584, 905949, 5042920, 176908, 1424906, 46710816, 168458, 68910, 28302603, 21388, 13287, 89703, 1313973713, 287730, 1136334, 25730435, 3874050, 6822378, 6506464, 89468677, 3581655, 5906760, 12293545, 767245, 33241259, 439117, 78887007, 359008, 2758124, 20222240, 16025, 2976372, 7961619, 9439, 18881361, 13547510, 245452739, 2022331, 117848, 11382820, 1095351995, 208869, 540109, 7326496, 201234, 4661473, 84402966, 7502, 8989046, 5570129, 9396411, 114689, 5670544, 22409572, 165803560, 9690222, 108004, 13881427, 147365352, 12236805, 12127071, 41236378, 17340702, 4466706, 3177388, 2832224, 47382633, 552438, 1641564, 6368481, 27307134, 11987121, 5213898, 8308504, 60422, 26783383, 5548702, 17654843, 420979, 28287147, 28195754, 23113019, 486530, 8648248, 2279723, 193413, 19686505, 9944201, 7862944, 13902972, 11810, 4303356, 34707817, 7320815, 3042004, 11716829, 131859731, 21456188, 18595469, 12525094, 11502010, 2460492, 1442029, 105432, 690948, 4786994, 31056997, 3702314, 74777981, 62660551, 8090068, 1428757, 37445392, 13013926, 1062777, 8863338, 6005250, 273008]}],\n",
       "                        {\"height\": 650, \"legend\": {\"tracegroupgap\": 0}, \"template\": {\"data\": {\"bar\": [{\"error_x\": {\"color\": \"#2a3f5f\"}, \"error_y\": {\"color\": \"#2a3f5f\"}, \"marker\": {\"line\": {\"color\": \"#E5ECF6\", \"width\": 0.5}}, \"type\": \"bar\"}], \"barpolar\": [{\"marker\": {\"line\": {\"color\": \"#E5ECF6\", \"width\": 0.5}}, \"type\": \"barpolar\"}], \"carpet\": [{\"aaxis\": {\"endlinecolor\": \"#2a3f5f\", \"gridcolor\": \"white\", \"linecolor\": \"white\", \"minorgridcolor\": \"white\", \"startlinecolor\": \"#2a3f5f\"}, \"baxis\": {\"endlinecolor\": \"#2a3f5f\", \"gridcolor\": \"white\", \"linecolor\": \"white\", \"minorgridcolor\": \"white\", \"startlinecolor\": \"#2a3f5f\"}, \"type\": \"carpet\"}], \"choropleth\": [{\"colorbar\": {\"outlinewidth\": 0, \"ticks\": \"\"}, \"type\": \"choropleth\"}], \"contour\": [{\"colorbar\": {\"outlinewidth\": 0, \"ticks\": \"\"}, \"colorscale\": [[0.0, \"#0d0887\"], [0.1111111111111111, \"#46039f\"], [0.2222222222222222, \"#7201a8\"], [0.3333333333333333, \"#9c179e\"], [0.4444444444444444, \"#bd3786\"], [0.5555555555555556, \"#d8576b\"], [0.6666666666666666, \"#ed7953\"], [0.7777777777777778, \"#fb9f3a\"], [0.8888888888888888, \"#fdca26\"], [1.0, \"#f0f921\"]], \"type\": \"contour\"}], \"contourcarpet\": [{\"colorbar\": {\"outlinewidth\": 0, \"ticks\": \"\"}, \"type\": \"contourcarpet\"}], \"heatmap\": [{\"colorbar\": {\"outlinewidth\": 0, \"ticks\": \"\"}, \"colorscale\": [[0.0, \"#0d0887\"], [0.1111111111111111, \"#46039f\"], [0.2222222222222222, \"#7201a8\"], [0.3333333333333333, \"#9c179e\"], [0.4444444444444444, \"#bd3786\"], [0.5555555555555556, \"#d8576b\"], [0.6666666666666666, \"#ed7953\"], [0.7777777777777778, \"#fb9f3a\"], [0.8888888888888888, \"#fdca26\"], [1.0, \"#f0f921\"]], \"type\": \"heatmap\"}], \"heatmapgl\": [{\"colorbar\": {\"outlinewidth\": 0, \"ticks\": \"\"}, \"colorscale\": [[0.0, \"#0d0887\"], [0.1111111111111111, \"#46039f\"], [0.2222222222222222, \"#7201a8\"], [0.3333333333333333, \"#9c179e\"], [0.4444444444444444, \"#bd3786\"], [0.5555555555555556, \"#d8576b\"], [0.6666666666666666, \"#ed7953\"], [0.7777777777777778, \"#fb9f3a\"], [0.8888888888888888, \"#fdca26\"], [1.0, \"#f0f921\"]], \"type\": \"heatmapgl\"}], \"histogram\": [{\"marker\": {\"colorbar\": {\"outlinewidth\": 0, \"ticks\": \"\"}}, \"type\": \"histogram\"}], \"histogram2d\": [{\"colorbar\": {\"outlinewidth\": 0, \"ticks\": \"\"}, \"colorscale\": [[0.0, \"#0d0887\"], [0.1111111111111111, \"#46039f\"], [0.2222222222222222, \"#7201a8\"], [0.3333333333333333, \"#9c179e\"], [0.4444444444444444, \"#bd3786\"], [0.5555555555555556, \"#d8576b\"], [0.6666666666666666, \"#ed7953\"], [0.7777777777777778, \"#fb9f3a\"], [0.8888888888888888, \"#fdca26\"], [1.0, \"#f0f921\"]], \"type\": \"histogram2d\"}], \"histogram2dcontour\": [{\"colorbar\": {\"outlinewidth\": 0, \"ticks\": \"\"}, \"colorscale\": [[0.0, \"#0d0887\"], [0.1111111111111111, \"#46039f\"], [0.2222222222222222, \"#7201a8\"], [0.3333333333333333, \"#9c179e\"], [0.4444444444444444, \"#bd3786\"], [0.5555555555555556, \"#d8576b\"], [0.6666666666666666, \"#ed7953\"], [0.7777777777777778, \"#fb9f3a\"], [0.8888888888888888, \"#fdca26\"], [1.0, \"#f0f921\"]], \"type\": \"histogram2dcontour\"}], \"mesh3d\": [{\"colorbar\": {\"outlinewidth\": 0, \"ticks\": \"\"}, \"type\": \"mesh3d\"}], \"parcoords\": [{\"line\": {\"colorbar\": {\"outlinewidth\": 0, \"ticks\": \"\"}}, \"type\": \"parcoords\"}], \"pie\": [{\"automargin\": true, \"type\": \"pie\"}], \"scatter\": [{\"marker\": {\"colorbar\": {\"outlinewidth\": 0, \"ticks\": \"\"}}, \"type\": \"scatter\"}], \"scatter3d\": [{\"line\": {\"colorbar\": {\"outlinewidth\": 0, \"ticks\": \"\"}}, \"marker\": {\"colorbar\": {\"outlinewidth\": 0, \"ticks\": \"\"}}, \"type\": \"scatter3d\"}], \"scattercarpet\": [{\"marker\": {\"colorbar\": {\"outlinewidth\": 0, \"ticks\": \"\"}}, \"type\": \"scattercarpet\"}], \"scattergeo\": [{\"marker\": {\"colorbar\": {\"outlinewidth\": 0, \"ticks\": \"\"}}, \"type\": \"scattergeo\"}], \"scattergl\": [{\"marker\": {\"colorbar\": {\"outlinewidth\": 0, \"ticks\": \"\"}}, \"type\": \"scattergl\"}], \"scattermapbox\": [{\"marker\": {\"colorbar\": {\"outlinewidth\": 0, \"ticks\": \"\"}}, \"type\": \"scattermapbox\"}], \"scatterpolar\": [{\"marker\": {\"colorbar\": {\"outlinewidth\": 0, \"ticks\": \"\"}}, \"type\": \"scatterpolar\"}], \"scatterpolargl\": [{\"marker\": {\"colorbar\": {\"outlinewidth\": 0, \"ticks\": \"\"}}, \"type\": \"scatterpolargl\"}], \"scatterternary\": [{\"marker\": {\"colorbar\": {\"outlinewidth\": 0, \"ticks\": \"\"}}, \"type\": \"scatterternary\"}], \"surface\": [{\"colorbar\": {\"outlinewidth\": 0, \"ticks\": \"\"}, \"colorscale\": [[0.0, \"#0d0887\"], [0.1111111111111111, \"#46039f\"], [0.2222222222222222, \"#7201a8\"], [0.3333333333333333, \"#9c179e\"], [0.4444444444444444, \"#bd3786\"], [0.5555555555555556, \"#d8576b\"], [0.6666666666666666, \"#ed7953\"], [0.7777777777777778, \"#fb9f3a\"], [0.8888888888888888, \"#fdca26\"], [1.0, \"#f0f921\"]], \"type\": \"surface\"}], \"table\": [{\"cells\": {\"fill\": {\"color\": \"#EBF0F8\"}, \"line\": {\"color\": \"white\"}}, \"header\": {\"fill\": {\"color\": \"#C8D4E3\"}, \"line\": {\"color\": \"white\"}}, \"type\": \"table\"}]}, \"layout\": {\"annotationdefaults\": {\"arrowcolor\": \"#2a3f5f\", \"arrowhead\": 0, \"arrowwidth\": 1}, \"coloraxis\": {\"colorbar\": {\"outlinewidth\": 0, \"ticks\": \"\"}}, \"colorscale\": {\"diverging\": [[0, \"#8e0152\"], [0.1, \"#c51b7d\"], [0.2, \"#de77ae\"], [0.3, \"#f1b6da\"], [0.4, \"#fde0ef\"], [0.5, \"#f7f7f7\"], [0.6, \"#e6f5d0\"], [0.7, \"#b8e186\"], [0.8, \"#7fbc41\"], [0.9, \"#4d9221\"], [1, \"#276419\"]], \"sequential\": [[0.0, \"#0d0887\"], [0.1111111111111111, \"#46039f\"], [0.2222222222222222, \"#7201a8\"], [0.3333333333333333, \"#9c179e\"], [0.4444444444444444, \"#bd3786\"], [0.5555555555555556, \"#d8576b\"], [0.6666666666666666, \"#ed7953\"], [0.7777777777777778, \"#fb9f3a\"], [0.8888888888888888, \"#fdca26\"], [1.0, \"#f0f921\"]], \"sequentialminus\": [[0.0, \"#0d0887\"], [0.1111111111111111, \"#46039f\"], [0.2222222222222222, \"#7201a8\"], [0.3333333333333333, \"#9c179e\"], [0.4444444444444444, \"#bd3786\"], [0.5555555555555556, \"#d8576b\"], [0.6666666666666666, \"#ed7953\"], [0.7777777777777778, \"#fb9f3a\"], [0.8888888888888888, \"#fdca26\"], [1.0, \"#f0f921\"]]}, \"colorway\": [\"#636efa\", \"#EF553B\", \"#00cc96\", \"#ab63fa\", \"#FFA15A\", \"#19d3f3\", \"#FF6692\", \"#B6E880\", \"#FF97FF\", \"#FECB52\"], \"font\": {\"color\": \"#2a3f5f\"}, \"geo\": {\"bgcolor\": \"white\", \"lakecolor\": \"white\", \"landcolor\": \"#E5ECF6\", \"showlakes\": true, \"showland\": true, \"subunitcolor\": \"white\"}, \"hoverlabel\": {\"align\": \"left\"}, \"hovermode\": \"closest\", \"mapbox\": {\"style\": \"light\"}, \"paper_bgcolor\": \"white\", \"plot_bgcolor\": \"#E5ECF6\", \"polar\": {\"angularaxis\": {\"gridcolor\": \"white\", \"linecolor\": \"white\", \"ticks\": \"\"}, \"bgcolor\": \"#E5ECF6\", \"radialaxis\": {\"gridcolor\": \"white\", \"linecolor\": \"white\", \"ticks\": \"\"}}, \"scene\": {\"xaxis\": {\"backgroundcolor\": \"#E5ECF6\", \"gridcolor\": \"white\", \"gridwidth\": 2, \"linecolor\": \"white\", \"showbackground\": true, \"ticks\": \"\", \"zerolinecolor\": \"white\"}, \"yaxis\": {\"backgroundcolor\": \"#E5ECF6\", \"gridcolor\": \"white\", \"gridwidth\": 2, \"linecolor\": \"white\", \"showbackground\": true, \"ticks\": \"\", \"zerolinecolor\": \"white\"}, \"zaxis\": {\"backgroundcolor\": \"#E5ECF6\", \"gridcolor\": \"white\", \"gridwidth\": 2, \"linecolor\": \"white\", \"showbackground\": true, \"ticks\": \"\", \"zerolinecolor\": \"white\"}}, \"shapedefaults\": {\"line\": {\"color\": \"#2a3f5f\"}}, \"ternary\": {\"aaxis\": {\"gridcolor\": \"white\", \"linecolor\": \"white\", \"ticks\": \"\"}, \"baxis\": {\"gridcolor\": \"white\", \"linecolor\": \"white\", \"ticks\": \"\"}, \"bgcolor\": \"#E5ECF6\", \"caxis\": {\"gridcolor\": \"white\", \"linecolor\": \"white\", \"ticks\": \"\"}}, \"title\": {\"x\": 0.05}, \"xaxis\": {\"automargin\": true, \"gridcolor\": \"white\", \"linecolor\": \"white\", \"ticks\": \"\", \"title\": {\"standoff\": 15}, \"zerolinecolor\": \"white\", \"zerolinewidth\": 2}, \"yaxis\": {\"automargin\": true, \"gridcolor\": \"white\", \"linecolor\": \"white\", \"ticks\": \"\", \"title\": {\"standoff\": 15}, \"zerolinecolor\": \"white\", \"zerolinewidth\": 2}}}, \"title\": {\"text\": \"Region-wise population\"}},\n",
       "                        {\"responsive\": true}\n",
       "                    ).then(function(){\n",
       "                            \n",
       "var gd = document.getElementById('c72135b6-90ec-4a5c-8a8f-dbe361415951');\n",
       "var x = new MutationObserver(function (mutations, observer) {{\n",
       "        var display = window.getComputedStyle(gd).display;\n",
       "        if (!display || display === 'none') {{\n",
       "            console.log([gd, 'removed!']);\n",
       "            Plotly.purge(gd);\n",
       "            observer.disconnect();\n",
       "        }}\n",
       "}});\n",
       "\n",
       "// Listen for the removal of the full notebook cells\n",
       "var notebookContainer = gd.closest('#notebook-container');\n",
       "if (notebookContainer) {{\n",
       "    x.observe(notebookContainer, {childList: true});\n",
       "}}\n",
       "\n",
       "// Listen for the clearing of the current output cell\n",
       "var outputEl = gd.closest('.output');\n",
       "if (outputEl) {{\n",
       "    x.observe(outputEl, {childList: true});\n",
       "}}\n",
       "\n",
       "                        })\n",
       "                };\n",
       "                });\n",
       "            </script>\n",
       "        </div>"
      ]
     },
     "metadata": {},
     "output_type": "display_data"
    }
   ],
   "source": [
    "\n",
    "fig = px.pie(countries, values='Population', names='Region', title='Region-wise population',height=650)\n",
    "fig.show()\n",
    "#fig.write_html('tmp.html', auto_open=True)"
   ]
  },
  {
   "cell_type": "code",
   "execution_count": 99,
   "metadata": {},
   "outputs": [
    {
     "data": {
      "application/vnd.plotly.v1+json": {
       "config": {
        "plotlyServerURL": "https://plot.ly"
       },
       "data": [
        {
         "customdata": [
          [
           "Afghanistan "
          ],
          [
           "Bangladesh "
          ],
          [
           "Bhutan "
          ],
          [
           "Brunei "
          ],
          [
           "Burma "
          ],
          [
           "Cambodia "
          ],
          [
           "East Timor "
          ],
          [
           "Hong Kong "
          ],
          [
           "Indonesia "
          ],
          [
           "Iran "
          ],
          [
           "Japan "
          ],
          [
           "Korea, North "
          ],
          [
           "Korea, South "
          ],
          [
           "Laos "
          ],
          [
           "Macau "
          ],
          [
           "Malaysia "
          ],
          [
           "Maldives "
          ],
          [
           "Mongolia "
          ],
          [
           "Nepal "
          ],
          [
           "Pakistan "
          ],
          [
           "Philippines "
          ],
          [
           "Singapore "
          ],
          [
           "Sri Lanka "
          ],
          [
           "Taiwan "
          ],
          [
           "Thailand "
          ],
          [
           "Vietnam "
          ]
         ],
         "hovertemplate": "Region=ASIA (EX. NEAR EAST)         <br>Phones (per 1000)=%{x}<br>GDP ($ per capita)=%{y}<br>Birthrate=%{marker.size}<br>Country=%{customdata[0]}<extra></extra>",
         "legendgroup": "ASIA (EX. NEAR EAST)         ",
         "marker": {
          "color": "#636efa",
          "size": [
           46.6,
           29.8,
           33.65,
           18.79,
           17.91,
           26.9,
           26.99,
           7.29,
           20.34,
           17,
           9.37,
           15.54,
           10,
           35.49,
           8.48,
           22.86,
           34.81,
           21.59,
           30.98,
           29.74,
           24.89,
           9.34,
           15.51,
           12.56,
           13.87,
           16.86
          ],
          "sizemode": "area",
          "sizeref": 0.126825,
          "symbol": "circle"
         },
         "mode": "markers",
         "name": "ASIA (EX. NEAR EAST)         ",
         "orientation": "v",
         "showlegend": true,
         "type": "scatter",
         "x": [
          3.2,
          7.3,
          14.3,
          237.2,
          10.1,
          2.6,
          null,
          546.7,
          52,
          276.4,
          461.2,
          42.4,
          486.1,
          14.1,
          384.9,
          179,
          90,
          55.1,
          15.9,
          31.8,
          38.4,
          411.4,
          61.5,
          591,
          108.9,
          187.7
         ],
         "xaxis": "x",
         "y": [
          700,
          1900,
          1300,
          18600,
          1800,
          1900,
          500,
          28800,
          3200,
          7000,
          28200,
          1300,
          17800,
          1700,
          19400,
          9000,
          3900,
          1800,
          1400,
          2100,
          4600,
          23700,
          3700,
          23400,
          7400,
          2500
         ],
         "yaxis": "y"
        },
        {
         "customdata": [
          [
           "Albania "
          ],
          [
           "Bosnia & Herzegovina "
          ],
          [
           "Bulgaria "
          ],
          [
           "Croatia "
          ],
          [
           "Czech Republic "
          ],
          [
           "Hungary "
          ],
          [
           "Macedonia "
          ],
          [
           "Poland "
          ],
          [
           "Romania "
          ],
          [
           "Serbia "
          ],
          [
           "Slovakia "
          ],
          [
           "Slovenia "
          ]
         ],
         "hovertemplate": "Region=EASTERN EUROPE                     <br>Phones (per 1000)=%{x}<br>GDP ($ per capita)=%{y}<br>Birthrate=%{marker.size}<br>Country=%{customdata[0]}<extra></extra>",
         "legendgroup": "EASTERN EUROPE                     ",
         "marker": {
          "color": "#EF553B",
          "size": [
           15.11,
           8.77,
           9.65,
           9.61,
           9.02,
           9.72,
           12.02,
           9.85,
           10.7,
           18.79,
           10.65,
           8.98
          ],
          "sizemode": "area",
          "sizeref": 0.126825,
          "symbol": "circle"
         },
         "mode": "markers",
         "name": "EASTERN EUROPE                     ",
         "orientation": "v",
         "showlegend": true,
         "type": "scatter",
         "x": [
          71.2,
          215.4,
          336.3,
          420.4,
          314.3,
          336.2,
          260,
          306.3,
          196.9,
          285.8,
          220.1,
          406.1
         ],
         "xaxis": "x",
         "y": [
          4500,
          6100,
          7600,
          10600,
          15700,
          13900,
          6700,
          11100,
          7000,
          2200,
          13300,
          19000
         ],
         "yaxis": "y"
        },
        {
         "customdata": [
          [
           "Algeria "
          ],
          [
           "Egypt "
          ],
          [
           "Libya "
          ],
          [
           "Morocco "
          ],
          [
           "Tunisia "
          ],
          [
           "Western Sahara "
          ]
         ],
         "hovertemplate": "Region=NORTHERN AFRICA                    <br>Phones (per 1000)=%{x}<br>GDP ($ per capita)=%{y}<br>Birthrate=%{marker.size}<br>Country=%{customdata[0]}<extra></extra>",
         "legendgroup": "NORTHERN AFRICA                    ",
         "marker": {
          "color": "#00cc96",
          "size": [
           17.14,
           22.94,
           26.49,
           21.98,
           15.52,
           18.79
          ],
          "sizemode": "area",
          "sizeref": 0.126825,
          "symbol": "circle"
         },
         "mode": "markers",
         "name": "NORTHERN AFRICA                    ",
         "orientation": "v",
         "showlegend": true,
         "type": "scatter",
         "x": [
          78.1,
          131.8,
          127.1,
          40.4,
          123.6,
          null
         ],
         "xaxis": "x",
         "y": [
          6000,
          4000,
          6400,
          4000,
          6900,
          null
         ],
         "yaxis": "y"
        },
        {
         "customdata": [
          [
           "American Samoa "
          ],
          [
           "Australia "
          ],
          [
           "Cook Islands "
          ],
          [
           "Fiji "
          ],
          [
           "French Polynesia "
          ],
          [
           "Guam "
          ],
          [
           "Kiribati "
          ],
          [
           "Marshall Islands "
          ],
          [
           "Micronesia, Fed. St. "
          ],
          [
           "Nauru "
          ],
          [
           "New Caledonia "
          ],
          [
           "New Zealand "
          ],
          [
           "N. Mariana Islands "
          ],
          [
           "Palau "
          ],
          [
           "Papua New Guinea "
          ],
          [
           "Samoa "
          ],
          [
           "Solomon Islands "
          ],
          [
           "Tonga "
          ],
          [
           "Tuvalu "
          ],
          [
           "Vanuatu "
          ],
          [
           "Wallis and Futuna "
          ]
         ],
         "hovertemplate": "Region=OCEANIA                            <br>Phones (per 1000)=%{x}<br>GDP ($ per capita)=%{y}<br>Birthrate=%{marker.size}<br>Country=%{customdata[0]}<extra></extra>",
         "legendgroup": "OCEANIA                            ",
         "marker": {
          "color": "#ab63fa",
          "size": [
           22.46,
           12.14,
           21,
           22.55,
           16.68,
           18.79,
           30.65,
           33.05,
           24.68,
           24.76,
           18.11,
           13.76,
           19.43,
           18.03,
           29.36,
           16.43,
           30.01,
           25.37,
           22.18,
           22.72,
           18.79
          ],
          "sizemode": "area",
          "sizeref": 0.126825,
          "symbol": "circle"
         },
         "mode": "markers",
         "name": "OCEANIA                            ",
         "orientation": "v",
         "showlegend": true,
         "type": "scatter",
         "x": [
          259.5,
          565.5,
          289.9,
          112.6,
          194.5,
          492,
          42.7,
          91.2,
          114.8,
          143,
          252.2,
          441.7,
          254.7,
          325.6,
          10.9,
          75.2,
          13.4,
          97.7,
          59.3,
          32.6,
          118.6
         ],
         "xaxis": "x",
         "y": [
          8000,
          29000,
          5000,
          5800,
          17500,
          21000,
          800,
          1600,
          2000,
          5000,
          15000,
          21600,
          12500,
          9000,
          2200,
          5600,
          1700,
          2200,
          1100,
          2900,
          3700
         ],
         "yaxis": "y"
        },
        {
         "customdata": [
          [
           "Andorra "
          ],
          [
           "Austria "
          ],
          [
           "Belgium "
          ],
          [
           "Denmark "
          ],
          [
           "Faroe Islands "
          ],
          [
           "Finland "
          ],
          [
           "France "
          ],
          [
           "Germany "
          ],
          [
           "Gibraltar "
          ],
          [
           "Greece "
          ],
          [
           "Guernsey "
          ],
          [
           "Iceland "
          ],
          [
           "Ireland "
          ],
          [
           "Isle of Man "
          ],
          [
           "Italy "
          ],
          [
           "Jersey "
          ],
          [
           "Liechtenstein "
          ],
          [
           "Luxembourg "
          ],
          [
           "Malta "
          ],
          [
           "Monaco "
          ],
          [
           "Netherlands "
          ],
          [
           "Norway "
          ],
          [
           "Portugal "
          ],
          [
           "San Marino "
          ],
          [
           "Spain "
          ],
          [
           "Sweden "
          ],
          [
           "Switzerland "
          ],
          [
           "United Kingdom "
          ]
         ],
         "hovertemplate": "Region=WESTERN EUROPE                     <br>Phones (per 1000)=%{x}<br>GDP ($ per capita)=%{y}<br>Birthrate=%{marker.size}<br>Country=%{customdata[0]}<extra></extra>",
         "legendgroup": "WESTERN EUROPE                     ",
         "marker": {
          "color": "#FFA15A",
          "size": [
           8.71,
           8.74,
           10.38,
           11.13,
           14.05,
           10.45,
           11.99,
           8.25,
           10.74,
           9.68,
           8.81,
           13.64,
           14.45,
           11.05,
           8.72,
           9.3,
           10.21,
           11.94,
           10.22,
           9.19,
           10.9,
           11.46,
           10.72,
           10.02,
           10.06,
           10.27,
           9.71,
           10.71
          ],
          "sizemode": "area",
          "sizeref": 0.126825,
          "symbol": "circle"
         },
         "mode": "markers",
         "name": "WESTERN EUROPE                     ",
         "orientation": "v",
         "showlegend": true,
         "type": "scatter",
         "x": [
          497.2,
          452.2,
          462.6,
          614.6,
          503.8,
          405.3,
          586.4,
          667.9,
          877.7,
          589.7,
          842.4,
          647.7,
          500.5,
          676,
          430.9,
          811.3,
          585.5,
          515.4,
          505,
          1035.6,
          460.8,
          461.7,
          399.2,
          704.3,
          453.5,
          715,
          680.9,
          543.5
         ],
         "xaxis": "x",
         "y": [
          19000,
          30000,
          29100,
          31100,
          22000,
          27400,
          27600,
          27600,
          17500,
          20000,
          20000,
          30900,
          29600,
          21000,
          26700,
          24800,
          25000,
          55100,
          17700,
          27000,
          28600,
          37800,
          18000,
          34600,
          22000,
          26800,
          32700,
          27700
         ],
         "yaxis": "y"
        },
        {
         "customdata": [
          [
           "Angola "
          ],
          [
           "Benin "
          ],
          [
           "Botswana "
          ],
          [
           "Burkina Faso "
          ],
          [
           "Burundi "
          ],
          [
           "Cameroon "
          ],
          [
           "Cape Verde "
          ],
          [
           "Central African Rep. "
          ],
          [
           "Chad "
          ],
          [
           "Comoros "
          ],
          [
           "Congo, Dem. Rep. "
          ],
          [
           "Congo, Repub. of the "
          ],
          [
           "Cote d'Ivoire "
          ],
          [
           "Djibouti "
          ],
          [
           "Equatorial Guinea "
          ],
          [
           "Eritrea "
          ],
          [
           "Ethiopia "
          ],
          [
           "Gabon "
          ],
          [
           "Gambia, The "
          ],
          [
           "Ghana "
          ],
          [
           "Guinea "
          ],
          [
           "Guinea-Bissau "
          ],
          [
           "Kenya "
          ],
          [
           "Lesotho "
          ],
          [
           "Liberia "
          ],
          [
           "Madagascar "
          ],
          [
           "Malawi "
          ],
          [
           "Mali "
          ],
          [
           "Mauritania "
          ],
          [
           "Mauritius "
          ],
          [
           "Mayotte "
          ],
          [
           "Mozambique "
          ],
          [
           "Namibia "
          ],
          [
           "Niger "
          ],
          [
           "Nigeria "
          ],
          [
           "Reunion "
          ],
          [
           "Rwanda "
          ],
          [
           "Saint Helena "
          ],
          [
           "Sao Tome & Principe "
          ],
          [
           "Senegal "
          ],
          [
           "Seychelles "
          ],
          [
           "Sierra Leone "
          ],
          [
           "Somalia "
          ],
          [
           "South Africa "
          ],
          [
           "Sudan "
          ],
          [
           "Swaziland "
          ],
          [
           "Tanzania "
          ],
          [
           "Togo "
          ],
          [
           "Uganda "
          ],
          [
           "Zambia "
          ],
          [
           "Zimbabwe "
          ]
         ],
         "hovertemplate": "Region=SUB-SAHARAN AFRICA                 <br>Phones (per 1000)=%{x}<br>GDP ($ per capita)=%{y}<br>Birthrate=%{marker.size}<br>Country=%{customdata[0]}<extra></extra>",
         "legendgroup": "SUB-SAHARAN AFRICA                 ",
         "marker": {
          "color": "#19d3f3",
          "size": [
           45.11,
           38.85,
           23.08,
           45.62,
           42.22,
           33.89,
           24.87,
           33.91,
           45.73,
           36.93,
           43.69,
           42.57,
           35.11,
           39.53,
           35.59,
           34.33,
           37.98,
           36.16,
           39.37,
           30.52,
           41.76,
           37.22,
           39.72,
           24.75,
           44.77,
           41.41,
           43.13,
           49.82,
           40.99,
           15.43,
           40.95,
           35.18,
           24.32,
           50.73,
           40.43,
           18.9,
           40.37,
           12.13,
           40.25,
           32.78,
           16.03,
           45.76,
           45.13,
           18.2,
           34.53,
           27.41,
           37.71,
           37.01,
           47.35,
           41,
           28.01
          ],
          "sizemode": "area",
          "sizeref": 0.126825,
          "symbol": "circle"
         },
         "mode": "markers",
         "name": "SUB-SAHARAN AFRICA                 ",
         "orientation": "v",
         "showlegend": true,
         "type": "scatter",
         "x": [
          7.8,
          9.7,
          80.5,
          7,
          3.4,
          5.7,
          169.6,
          2.3,
          1.3,
          24.5,
          0.2,
          3.7,
          14.6,
          22.8,
          18.5,
          7.9,
          8.2,
          27.4,
          26.8,
          14.4,
          2.7,
          7.4,
          8.1,
          23.7,
          2.3,
          3.6,
          7.9,
          6.4,
          12.9,
          289.3,
          49.7,
          3.5,
          62.6,
          1.9,
          9.3,
          380.9,
          2.7,
          293.3,
          36.2,
          22.2,
          262.4,
          4,
          11.3,
          107,
          16.3,
          30.8,
          4,
          10.6,
          3.6,
          8.2,
          26.8
         ],
         "xaxis": "x",
         "y": [
          1900,
          1100,
          9000,
          1100,
          600,
          1800,
          1400,
          1100,
          1200,
          700,
          700,
          700,
          1400,
          1300,
          2700,
          700,
          700,
          5500,
          1700,
          2200,
          2100,
          800,
          1000,
          3000,
          1000,
          800,
          600,
          900,
          1800,
          11400,
          2600,
          1200,
          7200,
          800,
          900,
          5800,
          1300,
          2500,
          1200,
          1600,
          7800,
          500,
          500,
          10700,
          1900,
          4900,
          600,
          1500,
          1400,
          800,
          1900
         ],
         "yaxis": "y"
        },
        {
         "customdata": [
          [
           "Anguilla "
          ],
          [
           "Antigua & Barbuda "
          ],
          [
           "Argentina "
          ],
          [
           "Aruba "
          ],
          [
           "Bahamas, The "
          ],
          [
           "Barbados "
          ],
          [
           "Belize "
          ],
          [
           "Bolivia "
          ],
          [
           "Brazil "
          ],
          [
           "British Virgin Is. "
          ],
          [
           "Cayman Islands "
          ],
          [
           "Chile "
          ],
          [
           "Colombia "
          ],
          [
           "Costa Rica "
          ],
          [
           "Cuba "
          ],
          [
           "Dominica "
          ],
          [
           "Dominican Republic "
          ],
          [
           "Ecuador "
          ],
          [
           "El Salvador "
          ],
          [
           "French Guiana "
          ],
          [
           "Grenada "
          ],
          [
           "Guadeloupe "
          ],
          [
           "Guatemala "
          ],
          [
           "Guyana "
          ],
          [
           "Haiti "
          ],
          [
           "Honduras "
          ],
          [
           "Jamaica "
          ],
          [
           "Martinique "
          ],
          [
           "Mexico "
          ],
          [
           "Montserrat "
          ],
          [
           "Netherlands Antilles "
          ],
          [
           "Nicaragua "
          ],
          [
           "Panama "
          ],
          [
           "Paraguay "
          ],
          [
           "Peru "
          ],
          [
           "Puerto Rico "
          ],
          [
           "Saint Kitts & Nevis "
          ],
          [
           "Saint Lucia "
          ],
          [
           "Saint Vincent and the Grenadines "
          ],
          [
           "Suriname "
          ],
          [
           "Trinidad & Tobago "
          ],
          [
           "Turks & Caicos Is "
          ],
          [
           "Uruguay "
          ],
          [
           "Venezuela "
          ],
          [
           "Virgin Islands "
          ]
         ],
         "hovertemplate": "Region=LATIN AMER. & CARIB    <br>Phones (per 1000)=%{x}<br>GDP ($ per capita)=%{y}<br>Birthrate=%{marker.size}<br>Country=%{customdata[0]}<extra></extra>",
         "legendgroup": "LATIN AMER. & CARIB    ",
         "marker": {
          "color": "#FF6692",
          "size": [
           14.17,
           16.93,
           16.73,
           11.03,
           17.57,
           12.71,
           28.84,
           23.3,
           16.56,
           14.89,
           12.74,
           15.23,
           20.48,
           18.32,
           11.89,
           15.27,
           23.22,
           22.29,
           26.61,
           20.46,
           22.08,
           15.05,
           29.88,
           18.28,
           36.44,
           28.24,
           20.82,
           13.74,
           20.69,
           17.59,
           14.78,
           24.51,
           21.74,
           29.1,
           20.48,
           12.77,
           18.02,
           19.68,
           16.18,
           18.02,
           12.9,
           21.84,
           13.91,
           18.71,
           13.96
          ],
          "sizemode": "area",
          "sizeref": 0.126825,
          "symbol": "circle"
         },
         "mode": "markers",
         "name": "LATIN AMER. & CARIB    ",
         "orientation": "v",
         "showlegend": true,
         "type": "scatter",
         "x": [
          460,
          549.9,
          220.4,
          516.1,
          460.6,
          481.9,
          115.7,
          71.9,
          225.3,
          506.5,
          836.3,
          213,
          176.2,
          340.7,
          74.7,
          304.8,
          97.4,
          125.6,
          142.4,
          255.6,
          364.5,
          463.8,
          92.1,
          143.5,
          16.9,
          67.5,
          124,
          394.4,
          181.6,
          null,
          365.3,
          39.7,
          137.9,
          49.2,
          79.5,
          283.1,
          638.9,
          303.3,
          190.9,
          184.7,
          303.5,
          269.5,
          291.4,
          140.1,
          652.8
         ],
         "xaxis": "x",
         "y": [
          8600,
          11000,
          11200,
          28000,
          16700,
          15700,
          4900,
          2400,
          7600,
          16000,
          35000,
          9900,
          6300,
          9100,
          2900,
          5400,
          6000,
          3300,
          4800,
          8300,
          5000,
          8000,
          4100,
          4000,
          1600,
          2600,
          3900,
          14400,
          9000,
          3400,
          11400,
          2300,
          6300,
          4700,
          5100,
          16800,
          8800,
          5400,
          2900,
          4000,
          9500,
          9600,
          12800,
          4800,
          17200
         ],
         "yaxis": "y"
        },
        {
         "customdata": [
          [
           "Armenia "
          ],
          [
           "Azerbaijan "
          ],
          [
           "Belarus "
          ],
          [
           "Georgia "
          ],
          [
           "Kazakhstan "
          ],
          [
           "Kyrgyzstan "
          ],
          [
           "Moldova "
          ],
          [
           "Russia "
          ],
          [
           "Tajikistan "
          ],
          [
           "Turkmenistan "
          ],
          [
           "Ukraine "
          ],
          [
           "Uzbekistan "
          ]
         ],
         "hovertemplate": "Region=C.W. OF IND. STATES <br>Phones (per 1000)=%{x}<br>GDP ($ per capita)=%{y}<br>Birthrate=%{marker.size}<br>Country=%{customdata[0]}<extra></extra>",
         "legendgroup": "C.W. OF IND. STATES ",
         "marker": {
          "color": "#B6E880",
          "size": [
           12.07,
           20.74,
           11.16,
           10.41,
           16,
           22.8,
           15.7,
           9.95,
           32.65,
           27.61,
           8.82,
           26.36
          ],
          "sizemode": "area",
          "sizeref": 0.126825,
          "symbol": "circle"
         },
         "mode": "markers",
         "name": "C.W. OF IND. STATES ",
         "orientation": "v",
         "showlegend": true,
         "type": "scatter",
         "x": [
          195.7,
          137.1,
          319.1,
          146.6,
          164.1,
          84,
          208.1,
          280.6,
          33.5,
          74.6,
          259.9,
          62.9
         ],
         "xaxis": "x",
         "y": [
          3500,
          3400,
          6100,
          2500,
          6300,
          1600,
          1800,
          8900,
          1000,
          5800,
          5400,
          1700
         ],
         "yaxis": "y"
        },
        {
         "customdata": [
          [
           "Bahrain "
          ],
          [
           "Cyprus "
          ],
          [
           "Gaza Strip "
          ],
          [
           "Iraq "
          ],
          [
           "Israel "
          ],
          [
           "Jordan "
          ],
          [
           "Kuwait "
          ],
          [
           "Lebanon "
          ],
          [
           "Oman "
          ],
          [
           "Qatar "
          ],
          [
           "Saudi Arabia "
          ],
          [
           "Syria "
          ],
          [
           "Turkey "
          ],
          [
           "United Arab Emirates "
          ],
          [
           "West Bank "
          ],
          [
           "Yemen "
          ]
         ],
         "hovertemplate": "Region=NEAR EAST                          <br>Phones (per 1000)=%{x}<br>GDP ($ per capita)=%{y}<br>Birthrate=%{marker.size}<br>Country=%{customdata[0]}<extra></extra>",
         "legendgroup": "NEAR EAST                          ",
         "marker": {
          "color": "#FF97FF",
          "size": [
           17.8,
           12.56,
           39.45,
           31.98,
           17.97,
           21.25,
           21.94,
           18.52,
           36.24,
           15.56,
           29.34,
           27.76,
           16.62,
           18.96,
           31.67,
           42.89
          ],
          "sizemode": "area",
          "sizeref": 0.126825,
          "symbol": "circle"
         },
         "mode": "markers",
         "name": "NEAR EAST                          ",
         "orientation": "v",
         "showlegend": true,
         "type": "scatter",
         "x": [
          281.3,
          null,
          244.3,
          38.6,
          462.3,
          104.5,
          211,
          255.6,
          85.5,
          232,
          140.6,
          153.8,
          269.5,
          475.3,
          145.2,
          37.2
         ],
         "xaxis": "x",
         "y": [
          16900,
          19200,
          600,
          1500,
          19800,
          4300,
          19000,
          4800,
          13100,
          21500,
          11800,
          3300,
          6700,
          23200,
          800,
          800
         ],
         "yaxis": "y"
        },
        {
         "customdata": [
          [
           "Bermuda "
          ],
          [
           "Canada "
          ],
          [
           "Greenland "
          ],
          [
           "St Pierre & Miquelon "
          ],
          [
           "United States "
          ]
         ],
         "hovertemplate": "Region=NORTHERN AMERICA                   <br>Phones (per 1000)=%{x}<br>GDP ($ per capita)=%{y}<br>Birthrate=%{marker.size}<br>Country=%{customdata[0]}<extra></extra>",
         "legendgroup": "NORTHERN AMERICA                   ",
         "marker": {
          "color": "#FECB52",
          "size": [
           11.4,
           10.78,
           15.93,
           13.52,
           14.14
          ],
          "sizemode": "area",
          "sizeref": 0.126825,
          "symbol": "circle"
         },
         "mode": "markers",
         "name": "NORTHERN AMERICA                   ",
         "orientation": "v",
         "showlegend": true,
         "type": "scatter",
         "x": [
          851.4,
          552.2,
          448.9,
          683.2,
          898
         ],
         "xaxis": "x",
         "y": [
          36000,
          29800,
          20000,
          6900,
          37800
         ],
         "yaxis": "y"
        },
        {
         "customdata": [
          [
           "Estonia "
          ],
          [
           "Latvia "
          ],
          [
           "Lithuania "
          ]
         ],
         "hovertemplate": "Region=BALTICS                            <br>Phones (per 1000)=%{x}<br>GDP ($ per capita)=%{y}<br>Birthrate=%{marker.size}<br>Country=%{customdata[0]}<extra></extra>",
         "legendgroup": "BALTICS                            ",
         "marker": {
          "color": "#636efa",
          "size": [
           10.04,
           9.24,
           8.75
          ],
          "sizemode": "area",
          "sizeref": 0.126825,
          "symbol": "circle"
         },
         "mode": "markers",
         "name": "BALTICS                            ",
         "orientation": "v",
         "showlegend": true,
         "type": "scatter",
         "x": [
          333.8,
          321.4,
          223.4
         ],
         "xaxis": "x",
         "y": [
          12300,
          10200,
          11400
         ],
         "yaxis": "y"
        }
       ],
       "layout": {
        "legend": {
         "itemsizing": "constant",
         "title": {
          "text": "Region"
         },
         "tracegroupgap": 0
        },
        "margin": {
         "t": 60
        },
        "template": {
         "data": {
          "bar": [
           {
            "error_x": {
             "color": "#2a3f5f"
            },
            "error_y": {
             "color": "#2a3f5f"
            },
            "marker": {
             "line": {
              "color": "#E5ECF6",
              "width": 0.5
             }
            },
            "type": "bar"
           }
          ],
          "barpolar": [
           {
            "marker": {
             "line": {
              "color": "#E5ECF6",
              "width": 0.5
             }
            },
            "type": "barpolar"
           }
          ],
          "carpet": [
           {
            "aaxis": {
             "endlinecolor": "#2a3f5f",
             "gridcolor": "white",
             "linecolor": "white",
             "minorgridcolor": "white",
             "startlinecolor": "#2a3f5f"
            },
            "baxis": {
             "endlinecolor": "#2a3f5f",
             "gridcolor": "white",
             "linecolor": "white",
             "minorgridcolor": "white",
             "startlinecolor": "#2a3f5f"
            },
            "type": "carpet"
           }
          ],
          "choropleth": [
           {
            "colorbar": {
             "outlinewidth": 0,
             "ticks": ""
            },
            "type": "choropleth"
           }
          ],
          "contour": [
           {
            "colorbar": {
             "outlinewidth": 0,
             "ticks": ""
            },
            "colorscale": [
             [
              0,
              "#0d0887"
             ],
             [
              0.1111111111111111,
              "#46039f"
             ],
             [
              0.2222222222222222,
              "#7201a8"
             ],
             [
              0.3333333333333333,
              "#9c179e"
             ],
             [
              0.4444444444444444,
              "#bd3786"
             ],
             [
              0.5555555555555556,
              "#d8576b"
             ],
             [
              0.6666666666666666,
              "#ed7953"
             ],
             [
              0.7777777777777778,
              "#fb9f3a"
             ],
             [
              0.8888888888888888,
              "#fdca26"
             ],
             [
              1,
              "#f0f921"
             ]
            ],
            "type": "contour"
           }
          ],
          "contourcarpet": [
           {
            "colorbar": {
             "outlinewidth": 0,
             "ticks": ""
            },
            "type": "contourcarpet"
           }
          ],
          "heatmap": [
           {
            "colorbar": {
             "outlinewidth": 0,
             "ticks": ""
            },
            "colorscale": [
             [
              0,
              "#0d0887"
             ],
             [
              0.1111111111111111,
              "#46039f"
             ],
             [
              0.2222222222222222,
              "#7201a8"
             ],
             [
              0.3333333333333333,
              "#9c179e"
             ],
             [
              0.4444444444444444,
              "#bd3786"
             ],
             [
              0.5555555555555556,
              "#d8576b"
             ],
             [
              0.6666666666666666,
              "#ed7953"
             ],
             [
              0.7777777777777778,
              "#fb9f3a"
             ],
             [
              0.8888888888888888,
              "#fdca26"
             ],
             [
              1,
              "#f0f921"
             ]
            ],
            "type": "heatmap"
           }
          ],
          "heatmapgl": [
           {
            "colorbar": {
             "outlinewidth": 0,
             "ticks": ""
            },
            "colorscale": [
             [
              0,
              "#0d0887"
             ],
             [
              0.1111111111111111,
              "#46039f"
             ],
             [
              0.2222222222222222,
              "#7201a8"
             ],
             [
              0.3333333333333333,
              "#9c179e"
             ],
             [
              0.4444444444444444,
              "#bd3786"
             ],
             [
              0.5555555555555556,
              "#d8576b"
             ],
             [
              0.6666666666666666,
              "#ed7953"
             ],
             [
              0.7777777777777778,
              "#fb9f3a"
             ],
             [
              0.8888888888888888,
              "#fdca26"
             ],
             [
              1,
              "#f0f921"
             ]
            ],
            "type": "heatmapgl"
           }
          ],
          "histogram": [
           {
            "marker": {
             "colorbar": {
              "outlinewidth": 0,
              "ticks": ""
             }
            },
            "type": "histogram"
           }
          ],
          "histogram2d": [
           {
            "colorbar": {
             "outlinewidth": 0,
             "ticks": ""
            },
            "colorscale": [
             [
              0,
              "#0d0887"
             ],
             [
              0.1111111111111111,
              "#46039f"
             ],
             [
              0.2222222222222222,
              "#7201a8"
             ],
             [
              0.3333333333333333,
              "#9c179e"
             ],
             [
              0.4444444444444444,
              "#bd3786"
             ],
             [
              0.5555555555555556,
              "#d8576b"
             ],
             [
              0.6666666666666666,
              "#ed7953"
             ],
             [
              0.7777777777777778,
              "#fb9f3a"
             ],
             [
              0.8888888888888888,
              "#fdca26"
             ],
             [
              1,
              "#f0f921"
             ]
            ],
            "type": "histogram2d"
           }
          ],
          "histogram2dcontour": [
           {
            "colorbar": {
             "outlinewidth": 0,
             "ticks": ""
            },
            "colorscale": [
             [
              0,
              "#0d0887"
             ],
             [
              0.1111111111111111,
              "#46039f"
             ],
             [
              0.2222222222222222,
              "#7201a8"
             ],
             [
              0.3333333333333333,
              "#9c179e"
             ],
             [
              0.4444444444444444,
              "#bd3786"
             ],
             [
              0.5555555555555556,
              "#d8576b"
             ],
             [
              0.6666666666666666,
              "#ed7953"
             ],
             [
              0.7777777777777778,
              "#fb9f3a"
             ],
             [
              0.8888888888888888,
              "#fdca26"
             ],
             [
              1,
              "#f0f921"
             ]
            ],
            "type": "histogram2dcontour"
           }
          ],
          "mesh3d": [
           {
            "colorbar": {
             "outlinewidth": 0,
             "ticks": ""
            },
            "type": "mesh3d"
           }
          ],
          "parcoords": [
           {
            "line": {
             "colorbar": {
              "outlinewidth": 0,
              "ticks": ""
             }
            },
            "type": "parcoords"
           }
          ],
          "pie": [
           {
            "automargin": true,
            "type": "pie"
           }
          ],
          "scatter": [
           {
            "marker": {
             "colorbar": {
              "outlinewidth": 0,
              "ticks": ""
             }
            },
            "type": "scatter"
           }
          ],
          "scatter3d": [
           {
            "line": {
             "colorbar": {
              "outlinewidth": 0,
              "ticks": ""
             }
            },
            "marker": {
             "colorbar": {
              "outlinewidth": 0,
              "ticks": ""
             }
            },
            "type": "scatter3d"
           }
          ],
          "scattercarpet": [
           {
            "marker": {
             "colorbar": {
              "outlinewidth": 0,
              "ticks": ""
             }
            },
            "type": "scattercarpet"
           }
          ],
          "scattergeo": [
           {
            "marker": {
             "colorbar": {
              "outlinewidth": 0,
              "ticks": ""
             }
            },
            "type": "scattergeo"
           }
          ],
          "scattergl": [
           {
            "marker": {
             "colorbar": {
              "outlinewidth": 0,
              "ticks": ""
             }
            },
            "type": "scattergl"
           }
          ],
          "scattermapbox": [
           {
            "marker": {
             "colorbar": {
              "outlinewidth": 0,
              "ticks": ""
             }
            },
            "type": "scattermapbox"
           }
          ],
          "scatterpolar": [
           {
            "marker": {
             "colorbar": {
              "outlinewidth": 0,
              "ticks": ""
             }
            },
            "type": "scatterpolar"
           }
          ],
          "scatterpolargl": [
           {
            "marker": {
             "colorbar": {
              "outlinewidth": 0,
              "ticks": ""
             }
            },
            "type": "scatterpolargl"
           }
          ],
          "scatterternary": [
           {
            "marker": {
             "colorbar": {
              "outlinewidth": 0,
              "ticks": ""
             }
            },
            "type": "scatterternary"
           }
          ],
          "surface": [
           {
            "colorbar": {
             "outlinewidth": 0,
             "ticks": ""
            },
            "colorscale": [
             [
              0,
              "#0d0887"
             ],
             [
              0.1111111111111111,
              "#46039f"
             ],
             [
              0.2222222222222222,
              "#7201a8"
             ],
             [
              0.3333333333333333,
              "#9c179e"
             ],
             [
              0.4444444444444444,
              "#bd3786"
             ],
             [
              0.5555555555555556,
              "#d8576b"
             ],
             [
              0.6666666666666666,
              "#ed7953"
             ],
             [
              0.7777777777777778,
              "#fb9f3a"
             ],
             [
              0.8888888888888888,
              "#fdca26"
             ],
             [
              1,
              "#f0f921"
             ]
            ],
            "type": "surface"
           }
          ],
          "table": [
           {
            "cells": {
             "fill": {
              "color": "#EBF0F8"
             },
             "line": {
              "color": "white"
             }
            },
            "header": {
             "fill": {
              "color": "#C8D4E3"
             },
             "line": {
              "color": "white"
             }
            },
            "type": "table"
           }
          ]
         },
         "layout": {
          "annotationdefaults": {
           "arrowcolor": "#2a3f5f",
           "arrowhead": 0,
           "arrowwidth": 1
          },
          "coloraxis": {
           "colorbar": {
            "outlinewidth": 0,
            "ticks": ""
           }
          },
          "colorscale": {
           "diverging": [
            [
             0,
             "#8e0152"
            ],
            [
             0.1,
             "#c51b7d"
            ],
            [
             0.2,
             "#de77ae"
            ],
            [
             0.3,
             "#f1b6da"
            ],
            [
             0.4,
             "#fde0ef"
            ],
            [
             0.5,
             "#f7f7f7"
            ],
            [
             0.6,
             "#e6f5d0"
            ],
            [
             0.7,
             "#b8e186"
            ],
            [
             0.8,
             "#7fbc41"
            ],
            [
             0.9,
             "#4d9221"
            ],
            [
             1,
             "#276419"
            ]
           ],
           "sequential": [
            [
             0,
             "#0d0887"
            ],
            [
             0.1111111111111111,
             "#46039f"
            ],
            [
             0.2222222222222222,
             "#7201a8"
            ],
            [
             0.3333333333333333,
             "#9c179e"
            ],
            [
             0.4444444444444444,
             "#bd3786"
            ],
            [
             0.5555555555555556,
             "#d8576b"
            ],
            [
             0.6666666666666666,
             "#ed7953"
            ],
            [
             0.7777777777777778,
             "#fb9f3a"
            ],
            [
             0.8888888888888888,
             "#fdca26"
            ],
            [
             1,
             "#f0f921"
            ]
           ],
           "sequentialminus": [
            [
             0,
             "#0d0887"
            ],
            [
             0.1111111111111111,
             "#46039f"
            ],
            [
             0.2222222222222222,
             "#7201a8"
            ],
            [
             0.3333333333333333,
             "#9c179e"
            ],
            [
             0.4444444444444444,
             "#bd3786"
            ],
            [
             0.5555555555555556,
             "#d8576b"
            ],
            [
             0.6666666666666666,
             "#ed7953"
            ],
            [
             0.7777777777777778,
             "#fb9f3a"
            ],
            [
             0.8888888888888888,
             "#fdca26"
            ],
            [
             1,
             "#f0f921"
            ]
           ]
          },
          "colorway": [
           "#636efa",
           "#EF553B",
           "#00cc96",
           "#ab63fa",
           "#FFA15A",
           "#19d3f3",
           "#FF6692",
           "#B6E880",
           "#FF97FF",
           "#FECB52"
          ],
          "font": {
           "color": "#2a3f5f"
          },
          "geo": {
           "bgcolor": "white",
           "lakecolor": "white",
           "landcolor": "#E5ECF6",
           "showlakes": true,
           "showland": true,
           "subunitcolor": "white"
          },
          "hoverlabel": {
           "align": "left"
          },
          "hovermode": "closest",
          "mapbox": {
           "style": "light"
          },
          "paper_bgcolor": "white",
          "plot_bgcolor": "#E5ECF6",
          "polar": {
           "angularaxis": {
            "gridcolor": "white",
            "linecolor": "white",
            "ticks": ""
           },
           "bgcolor": "#E5ECF6",
           "radialaxis": {
            "gridcolor": "white",
            "linecolor": "white",
            "ticks": ""
           }
          },
          "scene": {
           "xaxis": {
            "backgroundcolor": "#E5ECF6",
            "gridcolor": "white",
            "gridwidth": 2,
            "linecolor": "white",
            "showbackground": true,
            "ticks": "",
            "zerolinecolor": "white"
           },
           "yaxis": {
            "backgroundcolor": "#E5ECF6",
            "gridcolor": "white",
            "gridwidth": 2,
            "linecolor": "white",
            "showbackground": true,
            "ticks": "",
            "zerolinecolor": "white"
           },
           "zaxis": {
            "backgroundcolor": "#E5ECF6",
            "gridcolor": "white",
            "gridwidth": 2,
            "linecolor": "white",
            "showbackground": true,
            "ticks": "",
            "zerolinecolor": "white"
           }
          },
          "shapedefaults": {
           "line": {
            "color": "#2a3f5f"
           }
          },
          "ternary": {
           "aaxis": {
            "gridcolor": "white",
            "linecolor": "white",
            "ticks": ""
           },
           "baxis": {
            "gridcolor": "white",
            "linecolor": "white",
            "ticks": ""
           },
           "bgcolor": "#E5ECF6",
           "caxis": {
            "gridcolor": "white",
            "linecolor": "white",
            "ticks": ""
           }
          },
          "title": {
           "x": 0.05
          },
          "xaxis": {
           "automargin": true,
           "gridcolor": "white",
           "linecolor": "white",
           "ticks": "",
           "title": {
            "standoff": 15
           },
           "zerolinecolor": "white",
           "zerolinewidth": 2
          },
          "yaxis": {
           "automargin": true,
           "gridcolor": "white",
           "linecolor": "white",
           "ticks": "",
           "title": {
            "standoff": 15
           },
           "zerolinecolor": "white",
           "zerolinewidth": 2
          }
         }
        },
        "xaxis": {
         "anchor": "y",
         "domain": [
          0,
          1
         ],
         "title": {
          "text": "Phones (per 1000)"
         }
        },
        "yaxis": {
         "anchor": "x",
         "domain": [
          0,
          1
         ],
         "title": {
          "text": "GDP ($ per capita)"
         }
        }
       }
      },
      "text/html": [
       "<div>\n",
       "        \n",
       "        \n",
       "            <div id=\"e8d9a02e-f6f7-41f5-9630-bc26d1dfa48a\" class=\"plotly-graph-div\" style=\"height:525px; width:100%;\"></div>\n",
       "            <script type=\"text/javascript\">\n",
       "                require([\"plotly\"], function(Plotly) {\n",
       "                    window.PLOTLYENV=window.PLOTLYENV || {};\n",
       "                    \n",
       "                if (document.getElementById(\"e8d9a02e-f6f7-41f5-9630-bc26d1dfa48a\")) {\n",
       "                    Plotly.newPlot(\n",
       "                        'e8d9a02e-f6f7-41f5-9630-bc26d1dfa48a',\n",
       "                        [{\"customdata\": [[\"Afghanistan \"], [\"Bangladesh \"], [\"Bhutan \"], [\"Brunei \"], [\"Burma \"], [\"Cambodia \"], [\"East Timor \"], [\"Hong Kong \"], [\"Indonesia \"], [\"Iran \"], [\"Japan \"], [\"Korea, North \"], [\"Korea, South \"], [\"Laos \"], [\"Macau \"], [\"Malaysia \"], [\"Maldives \"], [\"Mongolia \"], [\"Nepal \"], [\"Pakistan \"], [\"Philippines \"], [\"Singapore \"], [\"Sri Lanka \"], [\"Taiwan \"], [\"Thailand \"], [\"Vietnam \"]], \"hovertemplate\": \"Region=ASIA (EX. NEAR EAST)         <br>Phones (per 1000)=%{x}<br>GDP ($ per capita)=%{y}<br>Birthrate=%{marker.size}<br>Country=%{customdata[0]}<extra></extra>\", \"legendgroup\": \"ASIA (EX. NEAR EAST)         \", \"marker\": {\"color\": \"#636efa\", \"size\": [46.6, 29.8, 33.65, 18.79, 17.91, 26.9, 26.99, 7.29, 20.34, 17.0, 9.37, 15.54, 10.0, 35.49, 8.48, 22.86, 34.81, 21.59, 30.98, 29.74, 24.89, 9.34, 15.51, 12.56, 13.87, 16.86], \"sizemode\": \"area\", \"sizeref\": 0.126825, \"symbol\": \"circle\"}, \"mode\": \"markers\", \"name\": \"ASIA (EX. NEAR EAST)         \", \"orientation\": \"v\", \"showlegend\": true, \"type\": \"scatter\", \"x\": [3.2, 7.3, 14.3, 237.2, 10.1, 2.6, null, 546.7, 52.0, 276.4, 461.2, 42.4, 486.1, 14.1, 384.9, 179.0, 90.0, 55.1, 15.9, 31.8, 38.4, 411.4, 61.5, 591.0, 108.9, 187.7], \"xaxis\": \"x\", \"y\": [700.0, 1900.0, 1300.0, 18600.0, 1800.0, 1900.0, 500.0, 28800.0, 3200.0, 7000.0, 28200.0, 1300.0, 17800.0, 1700.0, 19400.0, 9000.0, 3900.0, 1800.0, 1400.0, 2100.0, 4600.0, 23700.0, 3700.0, 23400.0, 7400.0, 2500.0], \"yaxis\": \"y\"}, {\"customdata\": [[\"Albania \"], [\"Bosnia & Herzegovina \"], [\"Bulgaria \"], [\"Croatia \"], [\"Czech Republic \"], [\"Hungary \"], [\"Macedonia \"], [\"Poland \"], [\"Romania \"], [\"Serbia \"], [\"Slovakia \"], [\"Slovenia \"]], \"hovertemplate\": \"Region=EASTERN EUROPE                     <br>Phones (per 1000)=%{x}<br>GDP ($ per capita)=%{y}<br>Birthrate=%{marker.size}<br>Country=%{customdata[0]}<extra></extra>\", \"legendgroup\": \"EASTERN EUROPE                     \", \"marker\": {\"color\": \"#EF553B\", \"size\": [15.11, 8.77, 9.65, 9.61, 9.02, 9.72, 12.02, 9.85, 10.7, 18.79, 10.65, 8.98], \"sizemode\": \"area\", \"sizeref\": 0.126825, \"symbol\": \"circle\"}, \"mode\": \"markers\", \"name\": \"EASTERN EUROPE                     \", \"orientation\": \"v\", \"showlegend\": true, \"type\": \"scatter\", \"x\": [71.2, 215.4, 336.3, 420.4, 314.3, 336.2, 260.0, 306.3, 196.9, 285.8, 220.1, 406.1], \"xaxis\": \"x\", \"y\": [4500.0, 6100.0, 7600.0, 10600.0, 15700.0, 13900.0, 6700.0, 11100.0, 7000.0, 2200.0, 13300.0, 19000.0], \"yaxis\": \"y\"}, {\"customdata\": [[\"Algeria \"], [\"Egypt \"], [\"Libya \"], [\"Morocco \"], [\"Tunisia \"], [\"Western Sahara \"]], \"hovertemplate\": \"Region=NORTHERN AFRICA                    <br>Phones (per 1000)=%{x}<br>GDP ($ per capita)=%{y}<br>Birthrate=%{marker.size}<br>Country=%{customdata[0]}<extra></extra>\", \"legendgroup\": \"NORTHERN AFRICA                    \", \"marker\": {\"color\": \"#00cc96\", \"size\": [17.14, 22.94, 26.49, 21.98, 15.52, 18.79], \"sizemode\": \"area\", \"sizeref\": 0.126825, \"symbol\": \"circle\"}, \"mode\": \"markers\", \"name\": \"NORTHERN AFRICA                    \", \"orientation\": \"v\", \"showlegend\": true, \"type\": \"scatter\", \"x\": [78.1, 131.8, 127.1, 40.4, 123.6, null], \"xaxis\": \"x\", \"y\": [6000.0, 4000.0, 6400.0, 4000.0, 6900.0, null], \"yaxis\": \"y\"}, {\"customdata\": [[\"American Samoa \"], [\"Australia \"], [\"Cook Islands \"], [\"Fiji \"], [\"French Polynesia \"], [\"Guam \"], [\"Kiribati \"], [\"Marshall Islands \"], [\"Micronesia, Fed. St. \"], [\"Nauru \"], [\"New Caledonia \"], [\"New Zealand \"], [\"N. Mariana Islands \"], [\"Palau \"], [\"Papua New Guinea \"], [\"Samoa \"], [\"Solomon Islands \"], [\"Tonga \"], [\"Tuvalu \"], [\"Vanuatu \"], [\"Wallis and Futuna \"]], \"hovertemplate\": \"Region=OCEANIA                            <br>Phones (per 1000)=%{x}<br>GDP ($ per capita)=%{y}<br>Birthrate=%{marker.size}<br>Country=%{customdata[0]}<extra></extra>\", \"legendgroup\": \"OCEANIA                            \", \"marker\": {\"color\": \"#ab63fa\", \"size\": [22.46, 12.14, 21.0, 22.55, 16.68, 18.79, 30.65, 33.05, 24.68, 24.76, 18.11, 13.76, 19.43, 18.03, 29.36, 16.43, 30.01, 25.37, 22.18, 22.72, 18.79], \"sizemode\": \"area\", \"sizeref\": 0.126825, \"symbol\": \"circle\"}, \"mode\": \"markers\", \"name\": \"OCEANIA                            \", \"orientation\": \"v\", \"showlegend\": true, \"type\": \"scatter\", \"x\": [259.5, 565.5, 289.9, 112.6, 194.5, 492.0, 42.7, 91.2, 114.8, 143.0, 252.2, 441.7, 254.7, 325.6, 10.9, 75.2, 13.4, 97.7, 59.3, 32.6, 118.6], \"xaxis\": \"x\", \"y\": [8000.0, 29000.0, 5000.0, 5800.0, 17500.0, 21000.0, 800.0, 1600.0, 2000.0, 5000.0, 15000.0, 21600.0, 12500.0, 9000.0, 2200.0, 5600.0, 1700.0, 2200.0, 1100.0, 2900.0, 3700.0], \"yaxis\": \"y\"}, {\"customdata\": [[\"Andorra \"], [\"Austria \"], [\"Belgium \"], [\"Denmark \"], [\"Faroe Islands \"], [\"Finland \"], [\"France \"], [\"Germany \"], [\"Gibraltar \"], [\"Greece \"], [\"Guernsey \"], [\"Iceland \"], [\"Ireland \"], [\"Isle of Man \"], [\"Italy \"], [\"Jersey \"], [\"Liechtenstein \"], [\"Luxembourg \"], [\"Malta \"], [\"Monaco \"], [\"Netherlands \"], [\"Norway \"], [\"Portugal \"], [\"San Marino \"], [\"Spain \"], [\"Sweden \"], [\"Switzerland \"], [\"United Kingdom \"]], \"hovertemplate\": \"Region=WESTERN EUROPE                     <br>Phones (per 1000)=%{x}<br>GDP ($ per capita)=%{y}<br>Birthrate=%{marker.size}<br>Country=%{customdata[0]}<extra></extra>\", \"legendgroup\": \"WESTERN EUROPE                     \", \"marker\": {\"color\": \"#FFA15A\", \"size\": [8.71, 8.74, 10.38, 11.13, 14.05, 10.45, 11.99, 8.25, 10.74, 9.68, 8.81, 13.64, 14.45, 11.05, 8.72, 9.3, 10.21, 11.94, 10.22, 9.19, 10.9, 11.46, 10.72, 10.02, 10.06, 10.27, 9.71, 10.71], \"sizemode\": \"area\", \"sizeref\": 0.126825, \"symbol\": \"circle\"}, \"mode\": \"markers\", \"name\": \"WESTERN EUROPE                     \", \"orientation\": \"v\", \"showlegend\": true, \"type\": \"scatter\", \"x\": [497.2, 452.2, 462.6, 614.6, 503.8, 405.3, 586.4, 667.9, 877.7, 589.7, 842.4, 647.7, 500.5, 676.0, 430.9, 811.3, 585.5, 515.4, 505.0, 1035.6, 460.8, 461.7, 399.2, 704.3, 453.5, 715.0, 680.9, 543.5], \"xaxis\": \"x\", \"y\": [19000.0, 30000.0, 29100.0, 31100.0, 22000.0, 27400.0, 27600.0, 27600.0, 17500.0, 20000.0, 20000.0, 30900.0, 29600.0, 21000.0, 26700.0, 24800.0, 25000.0, 55100.0, 17700.0, 27000.0, 28600.0, 37800.0, 18000.0, 34600.0, 22000.0, 26800.0, 32700.0, 27700.0], \"yaxis\": \"y\"}, {\"customdata\": [[\"Angola \"], [\"Benin \"], [\"Botswana \"], [\"Burkina Faso \"], [\"Burundi \"], [\"Cameroon \"], [\"Cape Verde \"], [\"Central African Rep. \"], [\"Chad \"], [\"Comoros \"], [\"Congo, Dem. Rep. \"], [\"Congo, Repub. of the \"], [\"Cote d'Ivoire \"], [\"Djibouti \"], [\"Equatorial Guinea \"], [\"Eritrea \"], [\"Ethiopia \"], [\"Gabon \"], [\"Gambia, The \"], [\"Ghana \"], [\"Guinea \"], [\"Guinea-Bissau \"], [\"Kenya \"], [\"Lesotho \"], [\"Liberia \"], [\"Madagascar \"], [\"Malawi \"], [\"Mali \"], [\"Mauritania \"], [\"Mauritius \"], [\"Mayotte \"], [\"Mozambique \"], [\"Namibia \"], [\"Niger \"], [\"Nigeria \"], [\"Reunion \"], [\"Rwanda \"], [\"Saint Helena \"], [\"Sao Tome & Principe \"], [\"Senegal \"], [\"Seychelles \"], [\"Sierra Leone \"], [\"Somalia \"], [\"South Africa \"], [\"Sudan \"], [\"Swaziland \"], [\"Tanzania \"], [\"Togo \"], [\"Uganda \"], [\"Zambia \"], [\"Zimbabwe \"]], \"hovertemplate\": \"Region=SUB-SAHARAN AFRICA                 <br>Phones (per 1000)=%{x}<br>GDP ($ per capita)=%{y}<br>Birthrate=%{marker.size}<br>Country=%{customdata[0]}<extra></extra>\", \"legendgroup\": \"SUB-SAHARAN AFRICA                 \", \"marker\": {\"color\": \"#19d3f3\", \"size\": [45.11, 38.85, 23.08, 45.62, 42.22, 33.89, 24.87, 33.91, 45.73, 36.93, 43.69, 42.57, 35.11, 39.53, 35.59, 34.33, 37.98, 36.16, 39.37, 30.52, 41.76, 37.22, 39.72, 24.75, 44.77, 41.41, 43.13, 49.82, 40.99, 15.43, 40.95, 35.18, 24.32, 50.73, 40.43, 18.9, 40.37, 12.13, 40.25, 32.78, 16.03, 45.76, 45.13, 18.2, 34.53, 27.41, 37.71, 37.01, 47.35, 41.0, 28.01], \"sizemode\": \"area\", \"sizeref\": 0.126825, \"symbol\": \"circle\"}, \"mode\": \"markers\", \"name\": \"SUB-SAHARAN AFRICA                 \", \"orientation\": \"v\", \"showlegend\": true, \"type\": \"scatter\", \"x\": [7.8, 9.7, 80.5, 7.0, 3.4, 5.7, 169.6, 2.3, 1.3, 24.5, 0.2, 3.7, 14.6, 22.8, 18.5, 7.9, 8.2, 27.4, 26.8, 14.4, 2.7, 7.4, 8.1, 23.7, 2.3, 3.6, 7.9, 6.4, 12.9, 289.3, 49.7, 3.5, 62.6, 1.9, 9.3, 380.9, 2.7, 293.3, 36.2, 22.2, 262.4, 4.0, 11.3, 107.0, 16.3, 30.8, 4.0, 10.6, 3.6, 8.2, 26.8], \"xaxis\": \"x\", \"y\": [1900.0, 1100.0, 9000.0, 1100.0, 600.0, 1800.0, 1400.0, 1100.0, 1200.0, 700.0, 700.0, 700.0, 1400.0, 1300.0, 2700.0, 700.0, 700.0, 5500.0, 1700.0, 2200.0, 2100.0, 800.0, 1000.0, 3000.0, 1000.0, 800.0, 600.0, 900.0, 1800.0, 11400.0, 2600.0, 1200.0, 7200.0, 800.0, 900.0, 5800.0, 1300.0, 2500.0, 1200.0, 1600.0, 7800.0, 500.0, 500.0, 10700.0, 1900.0, 4900.0, 600.0, 1500.0, 1400.0, 800.0, 1900.0], \"yaxis\": \"y\"}, {\"customdata\": [[\"Anguilla \"], [\"Antigua & Barbuda \"], [\"Argentina \"], [\"Aruba \"], [\"Bahamas, The \"], [\"Barbados \"], [\"Belize \"], [\"Bolivia \"], [\"Brazil \"], [\"British Virgin Is. \"], [\"Cayman Islands \"], [\"Chile \"], [\"Colombia \"], [\"Costa Rica \"], [\"Cuba \"], [\"Dominica \"], [\"Dominican Republic \"], [\"Ecuador \"], [\"El Salvador \"], [\"French Guiana \"], [\"Grenada \"], [\"Guadeloupe \"], [\"Guatemala \"], [\"Guyana \"], [\"Haiti \"], [\"Honduras \"], [\"Jamaica \"], [\"Martinique \"], [\"Mexico \"], [\"Montserrat \"], [\"Netherlands Antilles \"], [\"Nicaragua \"], [\"Panama \"], [\"Paraguay \"], [\"Peru \"], [\"Puerto Rico \"], [\"Saint Kitts & Nevis \"], [\"Saint Lucia \"], [\"Saint Vincent and the Grenadines \"], [\"Suriname \"], [\"Trinidad & Tobago \"], [\"Turks & Caicos Is \"], [\"Uruguay \"], [\"Venezuela \"], [\"Virgin Islands \"]], \"hovertemplate\": \"Region=LATIN AMER. & CARIB    <br>Phones (per 1000)=%{x}<br>GDP ($ per capita)=%{y}<br>Birthrate=%{marker.size}<br>Country=%{customdata[0]}<extra></extra>\", \"legendgroup\": \"LATIN AMER. & CARIB    \", \"marker\": {\"color\": \"#FF6692\", \"size\": [14.17, 16.93, 16.73, 11.03, 17.57, 12.71, 28.84, 23.3, 16.56, 14.89, 12.74, 15.23, 20.48, 18.32, 11.89, 15.27, 23.22, 22.29, 26.61, 20.46, 22.08, 15.05, 29.88, 18.28, 36.44, 28.24, 20.82, 13.74, 20.69, 17.59, 14.78, 24.51, 21.74, 29.1, 20.48, 12.77, 18.02, 19.68, 16.18, 18.02, 12.9, 21.84, 13.91, 18.71, 13.96], \"sizemode\": \"area\", \"sizeref\": 0.126825, \"symbol\": \"circle\"}, \"mode\": \"markers\", \"name\": \"LATIN AMER. & CARIB    \", \"orientation\": \"v\", \"showlegend\": true, \"type\": \"scatter\", \"x\": [460.0, 549.9, 220.4, 516.1, 460.6, 481.9, 115.7, 71.9, 225.3, 506.5, 836.3, 213.0, 176.2, 340.7, 74.7, 304.8, 97.4, 125.6, 142.4, 255.6, 364.5, 463.8, 92.1, 143.5, 16.9, 67.5, 124.0, 394.4, 181.6, null, 365.3, 39.7, 137.9, 49.2, 79.5, 283.1, 638.9, 303.3, 190.9, 184.7, 303.5, 269.5, 291.4, 140.1, 652.8], \"xaxis\": \"x\", \"y\": [8600.0, 11000.0, 11200.0, 28000.0, 16700.0, 15700.0, 4900.0, 2400.0, 7600.0, 16000.0, 35000.0, 9900.0, 6300.0, 9100.0, 2900.0, 5400.0, 6000.0, 3300.0, 4800.0, 8300.0, 5000.0, 8000.0, 4100.0, 4000.0, 1600.0, 2600.0, 3900.0, 14400.0, 9000.0, 3400.0, 11400.0, 2300.0, 6300.0, 4700.0, 5100.0, 16800.0, 8800.0, 5400.0, 2900.0, 4000.0, 9500.0, 9600.0, 12800.0, 4800.0, 17200.0], \"yaxis\": \"y\"}, {\"customdata\": [[\"Armenia \"], [\"Azerbaijan \"], [\"Belarus \"], [\"Georgia \"], [\"Kazakhstan \"], [\"Kyrgyzstan \"], [\"Moldova \"], [\"Russia \"], [\"Tajikistan \"], [\"Turkmenistan \"], [\"Ukraine \"], [\"Uzbekistan \"]], \"hovertemplate\": \"Region=C.W. OF IND. STATES <br>Phones (per 1000)=%{x}<br>GDP ($ per capita)=%{y}<br>Birthrate=%{marker.size}<br>Country=%{customdata[0]}<extra></extra>\", \"legendgroup\": \"C.W. OF IND. STATES \", \"marker\": {\"color\": \"#B6E880\", \"size\": [12.07, 20.74, 11.16, 10.41, 16.0, 22.8, 15.7, 9.95, 32.65, 27.61, 8.82, 26.36], \"sizemode\": \"area\", \"sizeref\": 0.126825, \"symbol\": \"circle\"}, \"mode\": \"markers\", \"name\": \"C.W. OF IND. STATES \", \"orientation\": \"v\", \"showlegend\": true, \"type\": \"scatter\", \"x\": [195.7, 137.1, 319.1, 146.6, 164.1, 84.0, 208.1, 280.6, 33.5, 74.6, 259.9, 62.9], \"xaxis\": \"x\", \"y\": [3500.0, 3400.0, 6100.0, 2500.0, 6300.0, 1600.0, 1800.0, 8900.0, 1000.0, 5800.0, 5400.0, 1700.0], \"yaxis\": \"y\"}, {\"customdata\": [[\"Bahrain \"], [\"Cyprus \"], [\"Gaza Strip \"], [\"Iraq \"], [\"Israel \"], [\"Jordan \"], [\"Kuwait \"], [\"Lebanon \"], [\"Oman \"], [\"Qatar \"], [\"Saudi Arabia \"], [\"Syria \"], [\"Turkey \"], [\"United Arab Emirates \"], [\"West Bank \"], [\"Yemen \"]], \"hovertemplate\": \"Region=NEAR EAST                          <br>Phones (per 1000)=%{x}<br>GDP ($ per capita)=%{y}<br>Birthrate=%{marker.size}<br>Country=%{customdata[0]}<extra></extra>\", \"legendgroup\": \"NEAR EAST                          \", \"marker\": {\"color\": \"#FF97FF\", \"size\": [17.8, 12.56, 39.45, 31.98, 17.97, 21.25, 21.94, 18.52, 36.24, 15.56, 29.34, 27.76, 16.62, 18.96, 31.67, 42.89], \"sizemode\": \"area\", \"sizeref\": 0.126825, \"symbol\": \"circle\"}, \"mode\": \"markers\", \"name\": \"NEAR EAST                          \", \"orientation\": \"v\", \"showlegend\": true, \"type\": \"scatter\", \"x\": [281.3, null, 244.3, 38.6, 462.3, 104.5, 211.0, 255.6, 85.5, 232.0, 140.6, 153.8, 269.5, 475.3, 145.2, 37.2], \"xaxis\": \"x\", \"y\": [16900.0, 19200.0, 600.0, 1500.0, 19800.0, 4300.0, 19000.0, 4800.0, 13100.0, 21500.0, 11800.0, 3300.0, 6700.0, 23200.0, 800.0, 800.0], \"yaxis\": \"y\"}, {\"customdata\": [[\"Bermuda \"], [\"Canada \"], [\"Greenland \"], [\"St Pierre & Miquelon \"], [\"United States \"]], \"hovertemplate\": \"Region=NORTHERN AMERICA                   <br>Phones (per 1000)=%{x}<br>GDP ($ per capita)=%{y}<br>Birthrate=%{marker.size}<br>Country=%{customdata[0]}<extra></extra>\", \"legendgroup\": \"NORTHERN AMERICA                   \", \"marker\": {\"color\": \"#FECB52\", \"size\": [11.4, 10.78, 15.93, 13.52, 14.14], \"sizemode\": \"area\", \"sizeref\": 0.126825, \"symbol\": \"circle\"}, \"mode\": \"markers\", \"name\": \"NORTHERN AMERICA                   \", \"orientation\": \"v\", \"showlegend\": true, \"type\": \"scatter\", \"x\": [851.4, 552.2, 448.9, 683.2, 898.0], \"xaxis\": \"x\", \"y\": [36000.0, 29800.0, 20000.0, 6900.0, 37800.0], \"yaxis\": \"y\"}, {\"customdata\": [[\"Estonia \"], [\"Latvia \"], [\"Lithuania \"]], \"hovertemplate\": \"Region=BALTICS                            <br>Phones (per 1000)=%{x}<br>GDP ($ per capita)=%{y}<br>Birthrate=%{marker.size}<br>Country=%{customdata[0]}<extra></extra>\", \"legendgroup\": \"BALTICS                            \", \"marker\": {\"color\": \"#636efa\", \"size\": [10.04, 9.24, 8.75], \"sizemode\": \"area\", \"sizeref\": 0.126825, \"symbol\": \"circle\"}, \"mode\": \"markers\", \"name\": \"BALTICS                            \", \"orientation\": \"v\", \"showlegend\": true, \"type\": \"scatter\", \"x\": [333.8, 321.4, 223.4], \"xaxis\": \"x\", \"y\": [12300.0, 10200.0, 11400.0], \"yaxis\": \"y\"}],\n",
       "                        {\"legend\": {\"itemsizing\": \"constant\", \"title\": {\"text\": \"Region\"}, \"tracegroupgap\": 0}, \"margin\": {\"t\": 60}, \"template\": {\"data\": {\"bar\": [{\"error_x\": {\"color\": \"#2a3f5f\"}, \"error_y\": {\"color\": \"#2a3f5f\"}, \"marker\": {\"line\": {\"color\": \"#E5ECF6\", \"width\": 0.5}}, \"type\": \"bar\"}], \"barpolar\": [{\"marker\": {\"line\": {\"color\": \"#E5ECF6\", \"width\": 0.5}}, \"type\": \"barpolar\"}], \"carpet\": [{\"aaxis\": {\"endlinecolor\": \"#2a3f5f\", \"gridcolor\": \"white\", \"linecolor\": \"white\", \"minorgridcolor\": \"white\", \"startlinecolor\": \"#2a3f5f\"}, \"baxis\": {\"endlinecolor\": \"#2a3f5f\", \"gridcolor\": \"white\", \"linecolor\": \"white\", \"minorgridcolor\": \"white\", \"startlinecolor\": \"#2a3f5f\"}, \"type\": \"carpet\"}], \"choropleth\": [{\"colorbar\": {\"outlinewidth\": 0, \"ticks\": \"\"}, \"type\": \"choropleth\"}], \"contour\": [{\"colorbar\": {\"outlinewidth\": 0, \"ticks\": \"\"}, \"colorscale\": [[0.0, \"#0d0887\"], [0.1111111111111111, \"#46039f\"], [0.2222222222222222, \"#7201a8\"], [0.3333333333333333, \"#9c179e\"], [0.4444444444444444, \"#bd3786\"], [0.5555555555555556, \"#d8576b\"], [0.6666666666666666, \"#ed7953\"], [0.7777777777777778, \"#fb9f3a\"], [0.8888888888888888, \"#fdca26\"], [1.0, \"#f0f921\"]], \"type\": \"contour\"}], \"contourcarpet\": [{\"colorbar\": {\"outlinewidth\": 0, \"ticks\": \"\"}, \"type\": \"contourcarpet\"}], \"heatmap\": [{\"colorbar\": {\"outlinewidth\": 0, \"ticks\": \"\"}, \"colorscale\": [[0.0, \"#0d0887\"], [0.1111111111111111, \"#46039f\"], [0.2222222222222222, \"#7201a8\"], [0.3333333333333333, \"#9c179e\"], [0.4444444444444444, \"#bd3786\"], [0.5555555555555556, \"#d8576b\"], [0.6666666666666666, \"#ed7953\"], [0.7777777777777778, \"#fb9f3a\"], [0.8888888888888888, \"#fdca26\"], [1.0, \"#f0f921\"]], \"type\": \"heatmap\"}], \"heatmapgl\": [{\"colorbar\": {\"outlinewidth\": 0, \"ticks\": \"\"}, \"colorscale\": [[0.0, \"#0d0887\"], [0.1111111111111111, \"#46039f\"], [0.2222222222222222, \"#7201a8\"], [0.3333333333333333, \"#9c179e\"], [0.4444444444444444, \"#bd3786\"], [0.5555555555555556, \"#d8576b\"], [0.6666666666666666, \"#ed7953\"], [0.7777777777777778, \"#fb9f3a\"], [0.8888888888888888, \"#fdca26\"], [1.0, \"#f0f921\"]], \"type\": \"heatmapgl\"}], \"histogram\": [{\"marker\": {\"colorbar\": {\"outlinewidth\": 0, \"ticks\": \"\"}}, \"type\": \"histogram\"}], \"histogram2d\": [{\"colorbar\": {\"outlinewidth\": 0, \"ticks\": \"\"}, \"colorscale\": [[0.0, \"#0d0887\"], [0.1111111111111111, \"#46039f\"], [0.2222222222222222, \"#7201a8\"], [0.3333333333333333, \"#9c179e\"], [0.4444444444444444, \"#bd3786\"], [0.5555555555555556, \"#d8576b\"], [0.6666666666666666, \"#ed7953\"], [0.7777777777777778, \"#fb9f3a\"], [0.8888888888888888, \"#fdca26\"], [1.0, \"#f0f921\"]], \"type\": \"histogram2d\"}], \"histogram2dcontour\": [{\"colorbar\": {\"outlinewidth\": 0, \"ticks\": \"\"}, \"colorscale\": [[0.0, \"#0d0887\"], [0.1111111111111111, \"#46039f\"], [0.2222222222222222, \"#7201a8\"], [0.3333333333333333, \"#9c179e\"], [0.4444444444444444, \"#bd3786\"], [0.5555555555555556, \"#d8576b\"], [0.6666666666666666, \"#ed7953\"], [0.7777777777777778, \"#fb9f3a\"], [0.8888888888888888, \"#fdca26\"], [1.0, \"#f0f921\"]], \"type\": \"histogram2dcontour\"}], \"mesh3d\": [{\"colorbar\": {\"outlinewidth\": 0, \"ticks\": \"\"}, \"type\": \"mesh3d\"}], \"parcoords\": [{\"line\": {\"colorbar\": {\"outlinewidth\": 0, \"ticks\": \"\"}}, \"type\": \"parcoords\"}], \"pie\": [{\"automargin\": true, \"type\": \"pie\"}], \"scatter\": [{\"marker\": {\"colorbar\": {\"outlinewidth\": 0, \"ticks\": \"\"}}, \"type\": \"scatter\"}], \"scatter3d\": [{\"line\": {\"colorbar\": {\"outlinewidth\": 0, \"ticks\": \"\"}}, \"marker\": {\"colorbar\": {\"outlinewidth\": 0, \"ticks\": \"\"}}, \"type\": \"scatter3d\"}], \"scattercarpet\": [{\"marker\": {\"colorbar\": {\"outlinewidth\": 0, \"ticks\": \"\"}}, \"type\": \"scattercarpet\"}], \"scattergeo\": [{\"marker\": {\"colorbar\": {\"outlinewidth\": 0, \"ticks\": \"\"}}, \"type\": \"scattergeo\"}], \"scattergl\": [{\"marker\": {\"colorbar\": {\"outlinewidth\": 0, \"ticks\": \"\"}}, \"type\": \"scattergl\"}], \"scattermapbox\": [{\"marker\": {\"colorbar\": {\"outlinewidth\": 0, \"ticks\": \"\"}}, \"type\": \"scattermapbox\"}], \"scatterpolar\": [{\"marker\": {\"colorbar\": {\"outlinewidth\": 0, \"ticks\": \"\"}}, \"type\": \"scatterpolar\"}], \"scatterpolargl\": [{\"marker\": {\"colorbar\": {\"outlinewidth\": 0, \"ticks\": \"\"}}, \"type\": \"scatterpolargl\"}], \"scatterternary\": [{\"marker\": {\"colorbar\": {\"outlinewidth\": 0, \"ticks\": \"\"}}, \"type\": \"scatterternary\"}], \"surface\": [{\"colorbar\": {\"outlinewidth\": 0, \"ticks\": \"\"}, \"colorscale\": [[0.0, \"#0d0887\"], [0.1111111111111111, \"#46039f\"], [0.2222222222222222, \"#7201a8\"], [0.3333333333333333, \"#9c179e\"], [0.4444444444444444, \"#bd3786\"], [0.5555555555555556, \"#d8576b\"], [0.6666666666666666, \"#ed7953\"], [0.7777777777777778, \"#fb9f3a\"], [0.8888888888888888, \"#fdca26\"], [1.0, \"#f0f921\"]], \"type\": \"surface\"}], \"table\": [{\"cells\": {\"fill\": {\"color\": \"#EBF0F8\"}, \"line\": {\"color\": \"white\"}}, \"header\": {\"fill\": {\"color\": \"#C8D4E3\"}, \"line\": {\"color\": \"white\"}}, \"type\": \"table\"}]}, \"layout\": {\"annotationdefaults\": {\"arrowcolor\": \"#2a3f5f\", \"arrowhead\": 0, \"arrowwidth\": 1}, \"coloraxis\": {\"colorbar\": {\"outlinewidth\": 0, \"ticks\": \"\"}}, \"colorscale\": {\"diverging\": [[0, \"#8e0152\"], [0.1, \"#c51b7d\"], [0.2, \"#de77ae\"], [0.3, \"#f1b6da\"], [0.4, \"#fde0ef\"], [0.5, \"#f7f7f7\"], [0.6, \"#e6f5d0\"], [0.7, \"#b8e186\"], [0.8, \"#7fbc41\"], [0.9, \"#4d9221\"], [1, \"#276419\"]], \"sequential\": [[0.0, \"#0d0887\"], [0.1111111111111111, \"#46039f\"], [0.2222222222222222, \"#7201a8\"], [0.3333333333333333, \"#9c179e\"], [0.4444444444444444, \"#bd3786\"], [0.5555555555555556, \"#d8576b\"], [0.6666666666666666, \"#ed7953\"], [0.7777777777777778, \"#fb9f3a\"], [0.8888888888888888, \"#fdca26\"], [1.0, \"#f0f921\"]], \"sequentialminus\": [[0.0, \"#0d0887\"], [0.1111111111111111, \"#46039f\"], [0.2222222222222222, \"#7201a8\"], [0.3333333333333333, \"#9c179e\"], [0.4444444444444444, \"#bd3786\"], [0.5555555555555556, \"#d8576b\"], [0.6666666666666666, \"#ed7953\"], [0.7777777777777778, \"#fb9f3a\"], [0.8888888888888888, \"#fdca26\"], [1.0, \"#f0f921\"]]}, \"colorway\": [\"#636efa\", \"#EF553B\", \"#00cc96\", \"#ab63fa\", \"#FFA15A\", \"#19d3f3\", \"#FF6692\", \"#B6E880\", \"#FF97FF\", \"#FECB52\"], \"font\": {\"color\": \"#2a3f5f\"}, \"geo\": {\"bgcolor\": \"white\", \"lakecolor\": \"white\", \"landcolor\": \"#E5ECF6\", \"showlakes\": true, \"showland\": true, \"subunitcolor\": \"white\"}, \"hoverlabel\": {\"align\": \"left\"}, \"hovermode\": \"closest\", \"mapbox\": {\"style\": \"light\"}, \"paper_bgcolor\": \"white\", \"plot_bgcolor\": \"#E5ECF6\", \"polar\": {\"angularaxis\": {\"gridcolor\": \"white\", \"linecolor\": \"white\", \"ticks\": \"\"}, \"bgcolor\": \"#E5ECF6\", \"radialaxis\": {\"gridcolor\": \"white\", \"linecolor\": \"white\", \"ticks\": \"\"}}, \"scene\": {\"xaxis\": {\"backgroundcolor\": \"#E5ECF6\", \"gridcolor\": \"white\", \"gridwidth\": 2, \"linecolor\": \"white\", \"showbackground\": true, \"ticks\": \"\", \"zerolinecolor\": \"white\"}, \"yaxis\": {\"backgroundcolor\": \"#E5ECF6\", \"gridcolor\": \"white\", \"gridwidth\": 2, \"linecolor\": \"white\", \"showbackground\": true, \"ticks\": \"\", \"zerolinecolor\": \"white\"}, \"zaxis\": {\"backgroundcolor\": \"#E5ECF6\", \"gridcolor\": \"white\", \"gridwidth\": 2, \"linecolor\": \"white\", \"showbackground\": true, \"ticks\": \"\", \"zerolinecolor\": \"white\"}}, \"shapedefaults\": {\"line\": {\"color\": \"#2a3f5f\"}}, \"ternary\": {\"aaxis\": {\"gridcolor\": \"white\", \"linecolor\": \"white\", \"ticks\": \"\"}, \"baxis\": {\"gridcolor\": \"white\", \"linecolor\": \"white\", \"ticks\": \"\"}, \"bgcolor\": \"#E5ECF6\", \"caxis\": {\"gridcolor\": \"white\", \"linecolor\": \"white\", \"ticks\": \"\"}}, \"title\": {\"x\": 0.05}, \"xaxis\": {\"automargin\": true, \"gridcolor\": \"white\", \"linecolor\": \"white\", \"ticks\": \"\", \"title\": {\"standoff\": 15}, \"zerolinecolor\": \"white\", \"zerolinewidth\": 2}, \"yaxis\": {\"automargin\": true, \"gridcolor\": \"white\", \"linecolor\": \"white\", \"ticks\": \"\", \"title\": {\"standoff\": 15}, \"zerolinecolor\": \"white\", \"zerolinewidth\": 2}}}, \"xaxis\": {\"anchor\": \"y\", \"domain\": [0.0, 1.0], \"title\": {\"text\": \"Phones (per 1000)\"}}, \"yaxis\": {\"anchor\": \"x\", \"domain\": [0.0, 1.0], \"title\": {\"text\": \"GDP ($ per capita)\"}}},\n",
       "                        {\"responsive\": true}\n",
       "                    ).then(function(){\n",
       "                            \n",
       "var gd = document.getElementById('e8d9a02e-f6f7-41f5-9630-bc26d1dfa48a');\n",
       "var x = new MutationObserver(function (mutations, observer) {{\n",
       "        var display = window.getComputedStyle(gd).display;\n",
       "        if (!display || display === 'none') {{\n",
       "            console.log([gd, 'removed!']);\n",
       "            Plotly.purge(gd);\n",
       "            observer.disconnect();\n",
       "        }}\n",
       "}});\n",
       "\n",
       "// Listen for the removal of the full notebook cells\n",
       "var notebookContainer = gd.closest('#notebook-container');\n",
       "if (notebookContainer) {{\n",
       "    x.observe(notebookContainer, {childList: true});\n",
       "}}\n",
       "\n",
       "// Listen for the clearing of the current output cell\n",
       "var outputEl = gd.closest('.output');\n",
       "if (outputEl) {{\n",
       "    x.observe(outputEl, {childList: true});\n",
       "}}\n",
       "\n",
       "                        })\n",
       "                };\n",
       "                });\n",
       "            </script>\n",
       "        </div>"
      ]
     },
     "metadata": {},
     "output_type": "display_data"
    }
   ],
   "source": [
    "#countries['Birthrate2'] = round(100*countries['Birthrate'])\n",
    "fig = px.scatter(countries[countries.Population<500000000],x='Phones (per 1000)', y='GDP ($ per capita)',\n",
    "                color=\"Region\",size='Birthrate', hover_data=['Country'])\n",
    "fig.show()\n"
   ]
  },
  {
   "cell_type": "markdown",
   "metadata": {},
   "source": [
    "## scientists migration making Sankey Diagram\n",
    "\n",
    "From a free Scientific Researcher Migrations data base I defined a certain migration abit arbitraty.\n",
    "\n",
    "I will draw a Sankey diagram to better see the main sources and targets of these migrations."
   ]
  },
  {
   "cell_type": "code",
   "execution_count": 100,
   "metadata": {},
   "outputs": [],
   "source": [
    "path = \"c:\\\\datasets\\\\kaggle\\\\Scientific Researcher Migrations\\\\ORCID_migrations_2016_12_16_by_person.csv\";\n",
    "migration = pd.read_csv(path)"
   ]
  },
  {
   "cell_type": "code",
   "execution_count": 101,
   "metadata": {},
   "outputs": [
    {
     "data": {
      "text/html": [
       "<div>\n",
       "<style scoped>\n",
       "    .dataframe tbody tr th:only-of-type {\n",
       "        vertical-align: middle;\n",
       "    }\n",
       "\n",
       "    .dataframe tbody tr th {\n",
       "        vertical-align: top;\n",
       "    }\n",
       "\n",
       "    .dataframe thead th {\n",
       "        text-align: right;\n",
       "    }\n",
       "</style>\n",
       "<table border=\"1\" class=\"dataframe\">\n",
       "  <thead>\n",
       "    <tr style=\"text-align: right;\">\n",
       "      <th></th>\n",
       "      <th>orcid_id</th>\n",
       "      <th>phd_year</th>\n",
       "      <th>country_2016</th>\n",
       "      <th>earliest_year</th>\n",
       "      <th>earliest_country</th>\n",
       "      <th>has_phd</th>\n",
       "      <th>phd_country</th>\n",
       "      <th>has_migrated</th>\n",
       "    </tr>\n",
       "  </thead>\n",
       "  <tbody>\n",
       "    <tr>\n",
       "      <th>0</th>\n",
       "      <td>0000-0001-5000-0138</td>\n",
       "      <td>NaN</td>\n",
       "      <td>CO</td>\n",
       "      <td>2014.0</td>\n",
       "      <td>CO</td>\n",
       "      <td>False</td>\n",
       "      <td>NaN</td>\n",
       "      <td>False</td>\n",
       "    </tr>\n",
       "    <tr>\n",
       "      <th>1</th>\n",
       "      <td>0000-0001-5000-0736</td>\n",
       "      <td>2006.0</td>\n",
       "      <td>NaN</td>\n",
       "      <td>NaN</td>\n",
       "      <td>NaN</td>\n",
       "      <td>True</td>\n",
       "      <td>PT</td>\n",
       "      <td>False</td>\n",
       "    </tr>\n",
       "    <tr>\n",
       "      <th>2</th>\n",
       "      <td>0000-0001-5000-1018</td>\n",
       "      <td>2015.0</td>\n",
       "      <td>US</td>\n",
       "      <td>2005.0</td>\n",
       "      <td>US</td>\n",
       "      <td>True</td>\n",
       "      <td>US</td>\n",
       "      <td>False</td>\n",
       "    </tr>\n",
       "    <tr>\n",
       "      <th>3</th>\n",
       "      <td>0000-0001-5000-1181</td>\n",
       "      <td>NaN</td>\n",
       "      <td>RU</td>\n",
       "      <td>1978.0</td>\n",
       "      <td>RU</td>\n",
       "      <td>False</td>\n",
       "      <td>NaN</td>\n",
       "      <td>False</td>\n",
       "    </tr>\n",
       "    <tr>\n",
       "      <th>4</th>\n",
       "      <td>0000-0001-5000-1923</td>\n",
       "      <td>2016.0</td>\n",
       "      <td>GB</td>\n",
       "      <td>2004.0</td>\n",
       "      <td>GB</td>\n",
       "      <td>True</td>\n",
       "      <td>GB</td>\n",
       "      <td>False</td>\n",
       "    </tr>\n",
       "  </tbody>\n",
       "</table>\n",
       "</div>"
      ],
      "text/plain": [
       "              orcid_id  phd_year country_2016  earliest_year earliest_country  \\\n",
       "0  0000-0001-5000-0138       NaN           CO         2014.0               CO   \n",
       "1  0000-0001-5000-0736    2006.0          NaN            NaN              NaN   \n",
       "2  0000-0001-5000-1018    2015.0           US         2005.0               US   \n",
       "3  0000-0001-5000-1181       NaN           RU         1978.0               RU   \n",
       "4  0000-0001-5000-1923    2016.0           GB         2004.0               GB   \n",
       "\n",
       "   has_phd phd_country  has_migrated  \n",
       "0    False         NaN         False  \n",
       "1     True          PT         False  \n",
       "2     True          US         False  \n",
       "3    False         NaN         False  \n",
       "4     True          GB         False  "
      ]
     },
     "execution_count": 101,
     "metadata": {},
     "output_type": "execute_result"
    }
   ],
   "source": [
    "migration.head()"
   ]
  },
  {
   "cell_type": "code",
   "execution_count": 103,
   "metadata": {},
   "outputs": [
    {
     "data": {
      "text/plain": [
       "(741867, 8)"
      ]
     },
     "execution_count": 103,
     "metadata": {},
     "output_type": "execute_result"
    }
   ],
   "source": [
    "migration.shape"
   ]
  },
  {
   "cell_type": "code",
   "execution_count": 209,
   "metadata": {},
   "outputs": [
    {
     "data": {
      "text/plain": [
       "(499670, 8)"
      ]
     },
     "execution_count": 209,
     "metadata": {},
     "output_type": "execute_result"
    }
   ],
   "source": [
    "# drop where there is no country2016 and earliest country\n",
    "migration = migration.dropna(subset=['country_2016', 'earliest_country'])\n",
    "migration.shape"
   ]
  },
  {
   "cell_type": "code",
   "execution_count": 210,
   "metadata": {},
   "outputs": [
    {
     "data": {
      "text/plain": [
       "(75450, 8)"
      ]
     },
     "execution_count": 210,
     "metadata": {},
     "output_type": "execute_result"
    }
   ],
   "source": [
    "# drop where country2016=earliest country - no real migration\n",
    "migration = migration[migration.country_2016!=migration.earliest_country]\n",
    "migration.shape"
   ]
  },
  {
   "cell_type": "markdown",
   "metadata": {},
   "source": [
    "### top 10 out and inflow countries"
   ]
  },
  {
   "cell_type": "code",
   "execution_count": 215,
   "metadata": {},
   "outputs": [
    {
     "name": "stdout",
     "output_type": "stream",
     "text": [
      "early: US    9014\n",
      "CN    7162\n",
      "GB    6665\n",
      "IN    5610\n",
      "DE    3388\n",
      "IT    3037\n",
      "FR    2846\n",
      "CA    2702\n",
      "ES    2572\n",
      "RU    1538\n",
      "Name: earliest_country, dtype: int64\n",
      "final: US    17189\n",
      "GB     8350\n",
      "AU     4718\n",
      "DE     2857\n",
      "CA     2734\n",
      "ES     2332\n",
      "SE     2050\n",
      "FR     1803\n",
      "CH     1683\n",
      "KR     1583\n",
      "Name: country_2016, dtype: int64\n"
     ]
    }
   ],
   "source": [
    "CEarly = migration.earliest_country.value_counts()[:10]\n",
    "C2016 = migration.country_2016.value_counts()[:10]\n",
    "print(\"early:\",migration.earliest_country.value_counts()[:10])\n",
    "print(\"final:\",migration.country_2016.value_counts()[:10])"
   ]
  },
  {
   "cell_type": "code",
   "execution_count": 216,
   "metadata": {},
   "outputs": [
    {
     "data": {
      "text/html": [
       "<div>\n",
       "<style scoped>\n",
       "    .dataframe tbody tr th:only-of-type {\n",
       "        vertical-align: middle;\n",
       "    }\n",
       "\n",
       "    .dataframe tbody tr th {\n",
       "        vertical-align: top;\n",
       "    }\n",
       "\n",
       "    .dataframe thead th {\n",
       "        text-align: right;\n",
       "    }\n",
       "</style>\n",
       "<table border=\"1\" class=\"dataframe\">\n",
       "  <thead>\n",
       "    <tr style=\"text-align: right;\">\n",
       "      <th></th>\n",
       "      <th>early_index</th>\n",
       "      <th>country</th>\n",
       "      <th>volume</th>\n",
       "    </tr>\n",
       "  </thead>\n",
       "  <tbody>\n",
       "    <tr>\n",
       "      <th>0</th>\n",
       "      <td>0</td>\n",
       "      <td>US</td>\n",
       "      <td>9014</td>\n",
       "    </tr>\n",
       "    <tr>\n",
       "      <th>1</th>\n",
       "      <td>1</td>\n",
       "      <td>CN</td>\n",
       "      <td>7162</td>\n",
       "    </tr>\n",
       "    <tr>\n",
       "      <th>2</th>\n",
       "      <td>2</td>\n",
       "      <td>GB</td>\n",
       "      <td>6665</td>\n",
       "    </tr>\n",
       "    <tr>\n",
       "      <th>3</th>\n",
       "      <td>3</td>\n",
       "      <td>IN</td>\n",
       "      <td>5610</td>\n",
       "    </tr>\n",
       "    <tr>\n",
       "      <th>4</th>\n",
       "      <td>4</td>\n",
       "      <td>DE</td>\n",
       "      <td>3388</td>\n",
       "    </tr>\n",
       "    <tr>\n",
       "      <th>5</th>\n",
       "      <td>5</td>\n",
       "      <td>IT</td>\n",
       "      <td>3037</td>\n",
       "    </tr>\n",
       "    <tr>\n",
       "      <th>6</th>\n",
       "      <td>6</td>\n",
       "      <td>FR</td>\n",
       "      <td>2846</td>\n",
       "    </tr>\n",
       "    <tr>\n",
       "      <th>7</th>\n",
       "      <td>7</td>\n",
       "      <td>CA</td>\n",
       "      <td>2702</td>\n",
       "    </tr>\n",
       "    <tr>\n",
       "      <th>8</th>\n",
       "      <td>8</td>\n",
       "      <td>ES</td>\n",
       "      <td>2572</td>\n",
       "    </tr>\n",
       "    <tr>\n",
       "      <th>9</th>\n",
       "      <td>9</td>\n",
       "      <td>RU</td>\n",
       "      <td>1538</td>\n",
       "    </tr>\n",
       "  </tbody>\n",
       "</table>\n",
       "</div>"
      ],
      "text/plain": [
       "   early_index country  volume\n",
       "0            0      US    9014\n",
       "1            1      CN    7162\n",
       "2            2      GB    6665\n",
       "3            3      IN    5610\n",
       "4            4      DE    3388\n",
       "5            5      IT    3037\n",
       "6            6      FR    2846\n",
       "7            7      CA    2702\n",
       "8            8      ES    2572\n",
       "9            9      RU    1538"
      ]
     },
     "execution_count": 216,
     "metadata": {},
     "output_type": "execute_result"
    }
   ],
   "source": [
    "CEarly = CEarly.reset_index().reset_index()\n",
    "CEarly.columns = ['early_index', 'country','volume']\n",
    "CEarly"
   ]
  },
  {
   "cell_type": "code",
   "execution_count": 217,
   "metadata": {},
   "outputs": [
    {
     "data": {
      "text/html": [
       "<div>\n",
       "<style scoped>\n",
       "    .dataframe tbody tr th:only-of-type {\n",
       "        vertical-align: middle;\n",
       "    }\n",
       "\n",
       "    .dataframe tbody tr th {\n",
       "        vertical-align: top;\n",
       "    }\n",
       "\n",
       "    .dataframe thead th {\n",
       "        text-align: right;\n",
       "    }\n",
       "</style>\n",
       "<table border=\"1\" class=\"dataframe\">\n",
       "  <thead>\n",
       "    <tr style=\"text-align: right;\">\n",
       "      <th></th>\n",
       "      <th>late_index</th>\n",
       "      <th>country</th>\n",
       "      <th>volume</th>\n",
       "    </tr>\n",
       "  </thead>\n",
       "  <tbody>\n",
       "    <tr>\n",
       "      <th>0</th>\n",
       "      <td>0</td>\n",
       "      <td>US</td>\n",
       "      <td>17189</td>\n",
       "    </tr>\n",
       "    <tr>\n",
       "      <th>1</th>\n",
       "      <td>1</td>\n",
       "      <td>GB</td>\n",
       "      <td>8350</td>\n",
       "    </tr>\n",
       "    <tr>\n",
       "      <th>2</th>\n",
       "      <td>2</td>\n",
       "      <td>AU</td>\n",
       "      <td>4718</td>\n",
       "    </tr>\n",
       "    <tr>\n",
       "      <th>3</th>\n",
       "      <td>3</td>\n",
       "      <td>DE</td>\n",
       "      <td>2857</td>\n",
       "    </tr>\n",
       "    <tr>\n",
       "      <th>4</th>\n",
       "      <td>4</td>\n",
       "      <td>CA</td>\n",
       "      <td>2734</td>\n",
       "    </tr>\n",
       "    <tr>\n",
       "      <th>5</th>\n",
       "      <td>5</td>\n",
       "      <td>ES</td>\n",
       "      <td>2332</td>\n",
       "    </tr>\n",
       "    <tr>\n",
       "      <th>6</th>\n",
       "      <td>6</td>\n",
       "      <td>SE</td>\n",
       "      <td>2050</td>\n",
       "    </tr>\n",
       "    <tr>\n",
       "      <th>7</th>\n",
       "      <td>7</td>\n",
       "      <td>FR</td>\n",
       "      <td>1803</td>\n",
       "    </tr>\n",
       "    <tr>\n",
       "      <th>8</th>\n",
       "      <td>8</td>\n",
       "      <td>CH</td>\n",
       "      <td>1683</td>\n",
       "    </tr>\n",
       "    <tr>\n",
       "      <th>9</th>\n",
       "      <td>9</td>\n",
       "      <td>KR</td>\n",
       "      <td>1583</td>\n",
       "    </tr>\n",
       "  </tbody>\n",
       "</table>\n",
       "</div>"
      ],
      "text/plain": [
       "   late_index country  volume\n",
       "0           0      US   17189\n",
       "1           1      GB    8350\n",
       "2           2      AU    4718\n",
       "3           3      DE    2857\n",
       "4           4      CA    2734\n",
       "5           5      ES    2332\n",
       "6           6      SE    2050\n",
       "7           7      FR    1803\n",
       "8           8      CH    1683\n",
       "9           9      KR    1583"
      ]
     },
     "execution_count": 217,
     "metadata": {},
     "output_type": "execute_result"
    }
   ],
   "source": [
    "C2016 = C2016.reset_index().reset_index()\n",
    "#C2016['index']=C2016['index']+10\n",
    "C2016.columns = ['late_index','country','volume']\n",
    "C2016"
   ]
  },
  {
   "cell_type": "code",
   "execution_count": 221,
   "metadata": {},
   "outputs": [
    {
     "data": {
      "text/html": [
       "<div>\n",
       "<style scoped>\n",
       "    .dataframe tbody tr th:only-of-type {\n",
       "        vertical-align: middle;\n",
       "    }\n",
       "\n",
       "    .dataframe tbody tr th {\n",
       "        vertical-align: top;\n",
       "    }\n",
       "\n",
       "    .dataframe thead th {\n",
       "        text-align: right;\n",
       "    }\n",
       "</style>\n",
       "<table border=\"1\" class=\"dataframe\">\n",
       "  <thead>\n",
       "    <tr style=\"text-align: right;\">\n",
       "      <th></th>\n",
       "      <th>late_index</th>\n",
       "      <th>country</th>\n",
       "      <th>volume</th>\n",
       "    </tr>\n",
       "  </thead>\n",
       "  <tbody>\n",
       "    <tr>\n",
       "      <th>0</th>\n",
       "      <td>10</td>\n",
       "      <td>US</td>\n",
       "      <td>17189</td>\n",
       "    </tr>\n",
       "    <tr>\n",
       "      <th>1</th>\n",
       "      <td>11</td>\n",
       "      <td>GB</td>\n",
       "      <td>8350</td>\n",
       "    </tr>\n",
       "    <tr>\n",
       "      <th>2</th>\n",
       "      <td>12</td>\n",
       "      <td>AU</td>\n",
       "      <td>4718</td>\n",
       "    </tr>\n",
       "    <tr>\n",
       "      <th>3</th>\n",
       "      <td>13</td>\n",
       "      <td>DE</td>\n",
       "      <td>2857</td>\n",
       "    </tr>\n",
       "    <tr>\n",
       "      <th>4</th>\n",
       "      <td>14</td>\n",
       "      <td>CA</td>\n",
       "      <td>2734</td>\n",
       "    </tr>\n",
       "    <tr>\n",
       "      <th>5</th>\n",
       "      <td>15</td>\n",
       "      <td>ES</td>\n",
       "      <td>2332</td>\n",
       "    </tr>\n",
       "    <tr>\n",
       "      <th>6</th>\n",
       "      <td>16</td>\n",
       "      <td>SE</td>\n",
       "      <td>2050</td>\n",
       "    </tr>\n",
       "    <tr>\n",
       "      <th>7</th>\n",
       "      <td>17</td>\n",
       "      <td>FR</td>\n",
       "      <td>1803</td>\n",
       "    </tr>\n",
       "    <tr>\n",
       "      <th>8</th>\n",
       "      <td>18</td>\n",
       "      <td>CH</td>\n",
       "      <td>1683</td>\n",
       "    </tr>\n",
       "    <tr>\n",
       "      <th>9</th>\n",
       "      <td>19</td>\n",
       "      <td>KR</td>\n",
       "      <td>1583</td>\n",
       "    </tr>\n",
       "  </tbody>\n",
       "</table>\n",
       "</div>"
      ],
      "text/plain": [
       "   late_index country  volume\n",
       "0          10      US   17189\n",
       "1          11      GB    8350\n",
       "2          12      AU    4718\n",
       "3          13      DE    2857\n",
       "4          14      CA    2734\n",
       "5          15      ES    2332\n",
       "6          16      SE    2050\n",
       "7          17      FR    1803\n",
       "8          18      CH    1683\n",
       "9          19      KR    1583"
      ]
     },
     "execution_count": 221,
     "metadata": {},
     "output_type": "execute_result"
    }
   ],
   "source": [
    "C2016['late_index'] = C2016['late_index']+10\n",
    "C2016"
   ]
  },
  {
   "cell_type": "markdown",
   "metadata": {},
   "source": [
    "### join the early and late index to the data"
   ]
  },
  {
   "cell_type": "code",
   "execution_count": 223,
   "metadata": {},
   "outputs": [],
   "source": [
    "## filter the database by these countries\n",
    "migration_filter1 = pd.merge(migration, C2016, how='inner', left_on='country_2016', right_on='country')"
   ]
  },
  {
   "cell_type": "code",
   "execution_count": 224,
   "metadata": {},
   "outputs": [
    {
     "name": "stdout",
     "output_type": "stream",
     "text": [
      "(45299, 9)\n"
     ]
    },
    {
     "data": {
      "text/html": [
       "<div>\n",
       "<style scoped>\n",
       "    .dataframe tbody tr th:only-of-type {\n",
       "        vertical-align: middle;\n",
       "    }\n",
       "\n",
       "    .dataframe tbody tr th {\n",
       "        vertical-align: top;\n",
       "    }\n",
       "\n",
       "    .dataframe thead th {\n",
       "        text-align: right;\n",
       "    }\n",
       "</style>\n",
       "<table border=\"1\" class=\"dataframe\">\n",
       "  <thead>\n",
       "    <tr style=\"text-align: right;\">\n",
       "      <th></th>\n",
       "      <th>orcid_id</th>\n",
       "      <th>phd_year</th>\n",
       "      <th>country_2016</th>\n",
       "      <th>earliest_year</th>\n",
       "      <th>earliest_country</th>\n",
       "      <th>has_phd</th>\n",
       "      <th>phd_country</th>\n",
       "      <th>has_migrated</th>\n",
       "      <th>late_index</th>\n",
       "    </tr>\n",
       "  </thead>\n",
       "  <tbody>\n",
       "    <tr>\n",
       "      <th>0</th>\n",
       "      <td>0000-0001-5000-4542</td>\n",
       "      <td>NaN</td>\n",
       "      <td>DE</td>\n",
       "      <td>2001.0</td>\n",
       "      <td>CO</td>\n",
       "      <td>False</td>\n",
       "      <td>NaN</td>\n",
       "      <td>True</td>\n",
       "      <td>13</td>\n",
       "    </tr>\n",
       "    <tr>\n",
       "      <th>1</th>\n",
       "      <td>0000-0001-5014-5898</td>\n",
       "      <td>NaN</td>\n",
       "      <td>DE</td>\n",
       "      <td>2003.0</td>\n",
       "      <td>AT</td>\n",
       "      <td>False</td>\n",
       "      <td>NaN</td>\n",
       "      <td>False</td>\n",
       "      <td>13</td>\n",
       "    </tr>\n",
       "    <tr>\n",
       "      <th>2</th>\n",
       "      <td>0000-0001-5015-644X</td>\n",
       "      <td>2014.0</td>\n",
       "      <td>DE</td>\n",
       "      <td>2004.0</td>\n",
       "      <td>US</td>\n",
       "      <td>True</td>\n",
       "      <td>US</td>\n",
       "      <td>True</td>\n",
       "      <td>13</td>\n",
       "    </tr>\n",
       "    <tr>\n",
       "      <th>3</th>\n",
       "      <td>0000-0001-5016-5637</td>\n",
       "      <td>2016.0</td>\n",
       "      <td>DE</td>\n",
       "      <td>2004.0</td>\n",
       "      <td>IR</td>\n",
       "      <td>True</td>\n",
       "      <td>DE</td>\n",
       "      <td>True</td>\n",
       "      <td>13</td>\n",
       "    </tr>\n",
       "    <tr>\n",
       "      <th>4</th>\n",
       "      <td>0000-0001-5028-0571</td>\n",
       "      <td>2011.0</td>\n",
       "      <td>DE</td>\n",
       "      <td>1999.0</td>\n",
       "      <td>AT</td>\n",
       "      <td>True</td>\n",
       "      <td>DE</td>\n",
       "      <td>True</td>\n",
       "      <td>13</td>\n",
       "    </tr>\n",
       "  </tbody>\n",
       "</table>\n",
       "</div>"
      ],
      "text/plain": [
       "              orcid_id  phd_year country_2016  earliest_year earliest_country  \\\n",
       "0  0000-0001-5000-4542       NaN           DE         2001.0               CO   \n",
       "1  0000-0001-5014-5898       NaN           DE         2003.0               AT   \n",
       "2  0000-0001-5015-644X    2014.0           DE         2004.0               US   \n",
       "3  0000-0001-5016-5637    2016.0           DE         2004.0               IR   \n",
       "4  0000-0001-5028-0571    2011.0           DE         1999.0               AT   \n",
       "\n",
       "   has_phd phd_country  has_migrated  late_index  \n",
       "0    False         NaN          True          13  \n",
       "1    False         NaN         False          13  \n",
       "2     True          US          True          13  \n",
       "3     True          DE          True          13  \n",
       "4     True          DE          True          13  "
      ]
     },
     "execution_count": 224,
     "metadata": {},
     "output_type": "execute_result"
    }
   ],
   "source": [
    "migration_filter1 = migration_filter1.drop(['country','volume'], axis=1)\n",
    "print(migration_filter1.shape)\n",
    "migration_filter1.head()"
   ]
  },
  {
   "cell_type": "code",
   "execution_count": 225,
   "metadata": {},
   "outputs": [],
   "source": [
    "migration_filter2 = pd.merge(migration_filter1, CEarly, how='inner', left_on='earliest_country', right_on='country')"
   ]
  },
  {
   "cell_type": "code",
   "execution_count": 226,
   "metadata": {},
   "outputs": [
    {
     "name": "stdout",
     "output_type": "stream",
     "text": [
      "(26574, 10)\n"
     ]
    },
    {
     "data": {
      "text/html": [
       "<div>\n",
       "<style scoped>\n",
       "    .dataframe tbody tr th:only-of-type {\n",
       "        vertical-align: middle;\n",
       "    }\n",
       "\n",
       "    .dataframe tbody tr th {\n",
       "        vertical-align: top;\n",
       "    }\n",
       "\n",
       "    .dataframe thead th {\n",
       "        text-align: right;\n",
       "    }\n",
       "</style>\n",
       "<table border=\"1\" class=\"dataframe\">\n",
       "  <thead>\n",
       "    <tr style=\"text-align: right;\">\n",
       "      <th></th>\n",
       "      <th>orcid_id</th>\n",
       "      <th>phd_year</th>\n",
       "      <th>country_2016</th>\n",
       "      <th>earliest_year</th>\n",
       "      <th>earliest_country</th>\n",
       "      <th>has_phd</th>\n",
       "      <th>phd_country</th>\n",
       "      <th>has_migrated</th>\n",
       "      <th>late_index</th>\n",
       "      <th>early_index</th>\n",
       "    </tr>\n",
       "  </thead>\n",
       "  <tbody>\n",
       "    <tr>\n",
       "      <th>0</th>\n",
       "      <td>0000-0001-5015-644X</td>\n",
       "      <td>2014.0</td>\n",
       "      <td>DE</td>\n",
       "      <td>2004.0</td>\n",
       "      <td>US</td>\n",
       "      <td>True</td>\n",
       "      <td>US</td>\n",
       "      <td>True</td>\n",
       "      <td>13</td>\n",
       "      <td>0</td>\n",
       "    </tr>\n",
       "    <tr>\n",
       "      <th>1</th>\n",
       "      <td>0000-0001-5039-1183</td>\n",
       "      <td>2000.0</td>\n",
       "      <td>DE</td>\n",
       "      <td>1994.0</td>\n",
       "      <td>US</td>\n",
       "      <td>True</td>\n",
       "      <td>US</td>\n",
       "      <td>True</td>\n",
       "      <td>13</td>\n",
       "      <td>0</td>\n",
       "    </tr>\n",
       "    <tr>\n",
       "      <th>2</th>\n",
       "      <td>0000-0001-5052-2972</td>\n",
       "      <td>2016.0</td>\n",
       "      <td>DE</td>\n",
       "      <td>2010.0</td>\n",
       "      <td>US</td>\n",
       "      <td>True</td>\n",
       "      <td>US</td>\n",
       "      <td>False</td>\n",
       "      <td>13</td>\n",
       "      <td>0</td>\n",
       "    </tr>\n",
       "    <tr>\n",
       "      <th>3</th>\n",
       "      <td>0000-0001-5055-9644</td>\n",
       "      <td>1972.0</td>\n",
       "      <td>DE</td>\n",
       "      <td>1964.0</td>\n",
       "      <td>US</td>\n",
       "      <td>True</td>\n",
       "      <td>CA</td>\n",
       "      <td>True</td>\n",
       "      <td>13</td>\n",
       "      <td>0</td>\n",
       "    </tr>\n",
       "    <tr>\n",
       "      <th>4</th>\n",
       "      <td>0000-0001-5105-9596</td>\n",
       "      <td>1976.0</td>\n",
       "      <td>DE</td>\n",
       "      <td>1972.0</td>\n",
       "      <td>US</td>\n",
       "      <td>True</td>\n",
       "      <td>US</td>\n",
       "      <td>True</td>\n",
       "      <td>13</td>\n",
       "      <td>0</td>\n",
       "    </tr>\n",
       "  </tbody>\n",
       "</table>\n",
       "</div>"
      ],
      "text/plain": [
       "              orcid_id  phd_year country_2016  earliest_year earliest_country  \\\n",
       "0  0000-0001-5015-644X    2014.0           DE         2004.0               US   \n",
       "1  0000-0001-5039-1183    2000.0           DE         1994.0               US   \n",
       "2  0000-0001-5052-2972    2016.0           DE         2010.0               US   \n",
       "3  0000-0001-5055-9644    1972.0           DE         1964.0               US   \n",
       "4  0000-0001-5105-9596    1976.0           DE         1972.0               US   \n",
       "\n",
       "   has_phd phd_country  has_migrated  late_index  early_index  \n",
       "0     True          US          True          13            0  \n",
       "1     True          US          True          13            0  \n",
       "2     True          US         False          13            0  \n",
       "3     True          CA          True          13            0  \n",
       "4     True          US          True          13            0  "
      ]
     },
     "execution_count": 226,
     "metadata": {},
     "output_type": "execute_result"
    }
   ],
   "source": [
    "migration_filter2 = migration_filter2.drop(['country','volume'], axis=1)\n",
    "print(migration_filter2.shape)\n",
    "migration_filter2.head()"
   ]
  },
  {
   "cell_type": "code",
   "execution_count": 228,
   "metadata": {},
   "outputs": [
    {
     "data": {
      "text/plain": [
       "(20672, 10)"
      ]
     },
     "execution_count": 228,
     "metadata": {},
     "output_type": "execute_result"
    }
   ],
   "source": [
    "migration_filter3 = migration_filter2[pd.notna(migration_filter2.phd_country)]\n",
    "migration_filter3.shape"
   ]
  },
  {
   "cell_type": "code",
   "execution_count": 230,
   "metadata": {},
   "outputs": [
    {
     "data": {
      "text/html": [
       "<div>\n",
       "<style scoped>\n",
       "    .dataframe tbody tr th:only-of-type {\n",
       "        vertical-align: middle;\n",
       "    }\n",
       "\n",
       "    .dataframe tbody tr th {\n",
       "        vertical-align: top;\n",
       "    }\n",
       "\n",
       "    .dataframe thead th {\n",
       "        text-align: right;\n",
       "    }\n",
       "</style>\n",
       "<table border=\"1\" class=\"dataframe\">\n",
       "  <thead>\n",
       "    <tr style=\"text-align: right;\">\n",
       "      <th></th>\n",
       "      <th>earliest_country</th>\n",
       "      <th>country_2016</th>\n",
       "      <th>orcid_id</th>\n",
       "      <th>early_index</th>\n",
       "      <th>late_index</th>\n",
       "    </tr>\n",
       "  </thead>\n",
       "  <tbody>\n",
       "    <tr>\n",
       "      <th>0</th>\n",
       "      <td>CA</td>\n",
       "      <td>AU</td>\n",
       "      <td>197</td>\n",
       "      <td>7</td>\n",
       "      <td>12</td>\n",
       "    </tr>\n",
       "    <tr>\n",
       "      <th>1</th>\n",
       "      <td>CN</td>\n",
       "      <td>AU</td>\n",
       "      <td>504</td>\n",
       "      <td>1</td>\n",
       "      <td>12</td>\n",
       "    </tr>\n",
       "    <tr>\n",
       "      <th>2</th>\n",
       "      <td>DE</td>\n",
       "      <td>AU</td>\n",
       "      <td>173</td>\n",
       "      <td>4</td>\n",
       "      <td>12</td>\n",
       "    </tr>\n",
       "    <tr>\n",
       "      <th>3</th>\n",
       "      <td>ES</td>\n",
       "      <td>AU</td>\n",
       "      <td>44</td>\n",
       "      <td>8</td>\n",
       "      <td>12</td>\n",
       "    </tr>\n",
       "    <tr>\n",
       "      <th>4</th>\n",
       "      <td>FR</td>\n",
       "      <td>AU</td>\n",
       "      <td>134</td>\n",
       "      <td>6</td>\n",
       "      <td>12</td>\n",
       "    </tr>\n",
       "    <tr>\n",
       "      <th>5</th>\n",
       "      <td>GB</td>\n",
       "      <td>AU</td>\n",
       "      <td>876</td>\n",
       "      <td>2</td>\n",
       "      <td>12</td>\n",
       "    </tr>\n",
       "    <tr>\n",
       "      <th>6</th>\n",
       "      <td>IN</td>\n",
       "      <td>AU</td>\n",
       "      <td>238</td>\n",
       "      <td>3</td>\n",
       "      <td>12</td>\n",
       "    </tr>\n",
       "    <tr>\n",
       "      <th>7</th>\n",
       "      <td>IT</td>\n",
       "      <td>AU</td>\n",
       "      <td>72</td>\n",
       "      <td>5</td>\n",
       "      <td>12</td>\n",
       "    </tr>\n",
       "    <tr>\n",
       "      <th>8</th>\n",
       "      <td>RU</td>\n",
       "      <td>AU</td>\n",
       "      <td>41</td>\n",
       "      <td>9</td>\n",
       "      <td>12</td>\n",
       "    </tr>\n",
       "    <tr>\n",
       "      <th>9</th>\n",
       "      <td>US</td>\n",
       "      <td>AU</td>\n",
       "      <td>583</td>\n",
       "      <td>0</td>\n",
       "      <td>12</td>\n",
       "    </tr>\n",
       "  </tbody>\n",
       "</table>\n",
       "</div>"
      ],
      "text/plain": [
       "  earliest_country country_2016  orcid_id  early_index  late_index\n",
       "0               CA           AU       197            7          12\n",
       "1               CN           AU       504            1          12\n",
       "2               DE           AU       173            4          12\n",
       "3               ES           AU        44            8          12\n",
       "4               FR           AU       134            6          12\n",
       "5               GB           AU       876            2          12\n",
       "6               IN           AU       238            3          12\n",
       "7               IT           AU        72            5          12\n",
       "8               RU           AU        41            9          12\n",
       "9               US           AU       583            0          12"
      ]
     },
     "execution_count": 230,
     "metadata": {},
     "output_type": "execute_result"
    }
   ],
   "source": [
    "agg = migration_filter2.groupby(['earliest_country' ,'country_2016'], as_index=False)['orcid_id'].count()\n",
    "agg = pd.merge(agg, CEarly, how='inner', left_on='earliest_country', right_on='country')\n",
    "agg = agg.drop(['country','volume'], axis=1)\n",
    "agg = pd.merge(agg, C2016, how='inner', left_on='country_2016', right_on='country')\n",
    "agg = agg.drop(['country','volume'], axis=1)\n",
    "agg.head(10)\n",
    "\n",
    "#df.groupby(['col2', 'col3'], as_index=False).sum()"
   ]
  },
  {
   "cell_type": "code",
   "execution_count": 231,
   "metadata": {},
   "outputs": [],
   "source": [
    "source = list(agg.early_index)\n",
    "target = list(agg.late_index)\n",
    "value = list(agg.orcid_id)"
   ]
  },
  {
   "cell_type": "code",
   "execution_count": 232,
   "metadata": {},
   "outputs": [
    {
     "name": "stdout",
     "output_type": "stream",
     "text": [
      "Sankey({\n",
      "    'link': {'source': [7, 1, 4, 8, 6, 2, 3, 5, 9, 0, 7, 1, 4, 8, 6, 2, 3, 5, 9,\n",
      "                        0, 7, 1, 8, 6, 2, 3, 5, 9, 0, 7, 1, 4, 6, 2, 3, 5, 9, 0, 7,\n",
      "                        1, 4, 8, 2, 3, 5, 9, 0, 7, 1, 4, 8, 6, 3, 5, 9, 0, 7, 1, 4,\n",
      "                        8, 6, 2, 3, 5, 9, 0, 7, 1, 4, 8, 6, 2, 3, 5, 9, 0, 7, 1, 4,\n",
      "                        8, 6, 2, 3, 5, 9, 1, 4, 8, 6, 2, 3, 5, 9, 0],\n",
      "             'target': [12, 12, 12, 12, 12, 12, 12, 12, 12, 12, 18, 18, 18, 18,\n",
      "                        18, 18, 18, 18, 18, 18, 13, 13, 13, 13, 13, 13, 13, 13, 13,\n",
      "                        15, 15, 15, 15, 15, 15, 15, 15, 15, 17, 17, 17, 17, 17, 17,\n",
      "                        17, 17, 17, 11, 11, 11, 11, 11, 11, 11, 11, 11, 19, 19, 19,\n",
      "                        19, 19, 19, 19, 19, 19, 19, 16, 16, 16, 16, 16, 16, 16, 16,\n",
      "                        16, 16, 10, 10, 10, 10, 10, 10, 10, 10, 10, 14, 14, 14, 14,\n",
      "                        14, 14, 14, 14, 14],\n",
      "             'value': [197, 504, 173, 44, 134, 876, 238, 72, 41, 583, 34, 56, 304,\n",
      "                       69, 182, 115, 47, 199, 32, 174, 43, 212, 141, 120, 221, 180,\n",
      "                       223, 120, 291, 21, 37, 100, 117, 192, 37, 242, 32, 207, 60,\n",
      "                       74, 110, 140, 142, 75, 211, 43, 152, 321, 531, 479, 501,\n",
      "                       373, 389, 665, 111, 971, 28, 46, 24, 4, 15, 55, 216, 2, 12,\n",
      "                       765, 50, 139, 170, 78, 62, 157, 108, 108, 81, 169, 1217,\n",
      "                       3904, 570, 354, 434, 1136, 2267, 384, 327, 268, 72, 47, 163,\n",
      "                       217, 170, 49, 32, 716]}\n",
      "})\n"
     ]
    }
   ],
   "source": [
    "link = dict(source = source, target = target, value = value)\n",
    "data = go.Sankey(link = link)\n",
    "print(data)"
   ]
  },
  {
   "cell_type": "code",
   "execution_count": 234,
   "metadata": {},
   "outputs": [
    {
     "data": {
      "application/vnd.plotly.v1+json": {
       "config": {
        "plotlyServerURL": "https://plot.ly"
       },
       "data": [
        {
         "link": {
          "source": [
           7,
           1,
           4,
           8,
           6,
           2,
           3,
           5,
           9,
           0,
           7,
           1,
           4,
           8,
           6,
           2,
           3,
           5,
           9,
           0,
           7,
           1,
           8,
           6,
           2,
           3,
           5,
           9,
           0,
           7,
           1,
           4,
           6,
           2,
           3,
           5,
           9,
           0,
           7,
           1,
           4,
           8,
           2,
           3,
           5,
           9,
           0,
           7,
           1,
           4,
           8,
           6,
           3,
           5,
           9,
           0,
           7,
           1,
           4,
           8,
           6,
           2,
           3,
           5,
           9,
           0,
           7,
           1,
           4,
           8,
           6,
           2,
           3,
           5,
           9,
           0,
           7,
           1,
           4,
           8,
           6,
           2,
           3,
           5,
           9,
           1,
           4,
           8,
           6,
           2,
           3,
           5,
           9,
           0
          ],
          "target": [
           12,
           12,
           12,
           12,
           12,
           12,
           12,
           12,
           12,
           12,
           18,
           18,
           18,
           18,
           18,
           18,
           18,
           18,
           18,
           18,
           13,
           13,
           13,
           13,
           13,
           13,
           13,
           13,
           13,
           15,
           15,
           15,
           15,
           15,
           15,
           15,
           15,
           15,
           17,
           17,
           17,
           17,
           17,
           17,
           17,
           17,
           17,
           11,
           11,
           11,
           11,
           11,
           11,
           11,
           11,
           11,
           19,
           19,
           19,
           19,
           19,
           19,
           19,
           19,
           19,
           19,
           16,
           16,
           16,
           16,
           16,
           16,
           16,
           16,
           16,
           16,
           10,
           10,
           10,
           10,
           10,
           10,
           10,
           10,
           10,
           14,
           14,
           14,
           14,
           14,
           14,
           14,
           14,
           14
          ],
          "value": [
           197,
           504,
           173,
           44,
           134,
           876,
           238,
           72,
           41,
           583,
           34,
           56,
           304,
           69,
           182,
           115,
           47,
           199,
           32,
           174,
           43,
           212,
           141,
           120,
           221,
           180,
           223,
           120,
           291,
           21,
           37,
           100,
           117,
           192,
           37,
           242,
           32,
           207,
           60,
           74,
           110,
           140,
           142,
           75,
           211,
           43,
           152,
           321,
           531,
           479,
           501,
           373,
           389,
           665,
           111,
           971,
           28,
           46,
           24,
           4,
           15,
           55,
           216,
           2,
           12,
           765,
           50,
           139,
           170,
           78,
           62,
           157,
           108,
           108,
           81,
           169,
           1217,
           3904,
           570,
           354,
           434,
           1136,
           2267,
           384,
           327,
           268,
           72,
           47,
           163,
           217,
           170,
           49,
           32,
           716
          ]
         },
         "type": "sankey"
        }
       ],
       "layout": {
        "template": {
         "data": {
          "bar": [
           {
            "error_x": {
             "color": "#2a3f5f"
            },
            "error_y": {
             "color": "#2a3f5f"
            },
            "marker": {
             "line": {
              "color": "#E5ECF6",
              "width": 0.5
             }
            },
            "type": "bar"
           }
          ],
          "barpolar": [
           {
            "marker": {
             "line": {
              "color": "#E5ECF6",
              "width": 0.5
             }
            },
            "type": "barpolar"
           }
          ],
          "carpet": [
           {
            "aaxis": {
             "endlinecolor": "#2a3f5f",
             "gridcolor": "white",
             "linecolor": "white",
             "minorgridcolor": "white",
             "startlinecolor": "#2a3f5f"
            },
            "baxis": {
             "endlinecolor": "#2a3f5f",
             "gridcolor": "white",
             "linecolor": "white",
             "minorgridcolor": "white",
             "startlinecolor": "#2a3f5f"
            },
            "type": "carpet"
           }
          ],
          "choropleth": [
           {
            "colorbar": {
             "outlinewidth": 0,
             "ticks": ""
            },
            "type": "choropleth"
           }
          ],
          "contour": [
           {
            "colorbar": {
             "outlinewidth": 0,
             "ticks": ""
            },
            "colorscale": [
             [
              0,
              "#0d0887"
             ],
             [
              0.1111111111111111,
              "#46039f"
             ],
             [
              0.2222222222222222,
              "#7201a8"
             ],
             [
              0.3333333333333333,
              "#9c179e"
             ],
             [
              0.4444444444444444,
              "#bd3786"
             ],
             [
              0.5555555555555556,
              "#d8576b"
             ],
             [
              0.6666666666666666,
              "#ed7953"
             ],
             [
              0.7777777777777778,
              "#fb9f3a"
             ],
             [
              0.8888888888888888,
              "#fdca26"
             ],
             [
              1,
              "#f0f921"
             ]
            ],
            "type": "contour"
           }
          ],
          "contourcarpet": [
           {
            "colorbar": {
             "outlinewidth": 0,
             "ticks": ""
            },
            "type": "contourcarpet"
           }
          ],
          "heatmap": [
           {
            "colorbar": {
             "outlinewidth": 0,
             "ticks": ""
            },
            "colorscale": [
             [
              0,
              "#0d0887"
             ],
             [
              0.1111111111111111,
              "#46039f"
             ],
             [
              0.2222222222222222,
              "#7201a8"
             ],
             [
              0.3333333333333333,
              "#9c179e"
             ],
             [
              0.4444444444444444,
              "#bd3786"
             ],
             [
              0.5555555555555556,
              "#d8576b"
             ],
             [
              0.6666666666666666,
              "#ed7953"
             ],
             [
              0.7777777777777778,
              "#fb9f3a"
             ],
             [
              0.8888888888888888,
              "#fdca26"
             ],
             [
              1,
              "#f0f921"
             ]
            ],
            "type": "heatmap"
           }
          ],
          "heatmapgl": [
           {
            "colorbar": {
             "outlinewidth": 0,
             "ticks": ""
            },
            "colorscale": [
             [
              0,
              "#0d0887"
             ],
             [
              0.1111111111111111,
              "#46039f"
             ],
             [
              0.2222222222222222,
              "#7201a8"
             ],
             [
              0.3333333333333333,
              "#9c179e"
             ],
             [
              0.4444444444444444,
              "#bd3786"
             ],
             [
              0.5555555555555556,
              "#d8576b"
             ],
             [
              0.6666666666666666,
              "#ed7953"
             ],
             [
              0.7777777777777778,
              "#fb9f3a"
             ],
             [
              0.8888888888888888,
              "#fdca26"
             ],
             [
              1,
              "#f0f921"
             ]
            ],
            "type": "heatmapgl"
           }
          ],
          "histogram": [
           {
            "marker": {
             "colorbar": {
              "outlinewidth": 0,
              "ticks": ""
             }
            },
            "type": "histogram"
           }
          ],
          "histogram2d": [
           {
            "colorbar": {
             "outlinewidth": 0,
             "ticks": ""
            },
            "colorscale": [
             [
              0,
              "#0d0887"
             ],
             [
              0.1111111111111111,
              "#46039f"
             ],
             [
              0.2222222222222222,
              "#7201a8"
             ],
             [
              0.3333333333333333,
              "#9c179e"
             ],
             [
              0.4444444444444444,
              "#bd3786"
             ],
             [
              0.5555555555555556,
              "#d8576b"
             ],
             [
              0.6666666666666666,
              "#ed7953"
             ],
             [
              0.7777777777777778,
              "#fb9f3a"
             ],
             [
              0.8888888888888888,
              "#fdca26"
             ],
             [
              1,
              "#f0f921"
             ]
            ],
            "type": "histogram2d"
           }
          ],
          "histogram2dcontour": [
           {
            "colorbar": {
             "outlinewidth": 0,
             "ticks": ""
            },
            "colorscale": [
             [
              0,
              "#0d0887"
             ],
             [
              0.1111111111111111,
              "#46039f"
             ],
             [
              0.2222222222222222,
              "#7201a8"
             ],
             [
              0.3333333333333333,
              "#9c179e"
             ],
             [
              0.4444444444444444,
              "#bd3786"
             ],
             [
              0.5555555555555556,
              "#d8576b"
             ],
             [
              0.6666666666666666,
              "#ed7953"
             ],
             [
              0.7777777777777778,
              "#fb9f3a"
             ],
             [
              0.8888888888888888,
              "#fdca26"
             ],
             [
              1,
              "#f0f921"
             ]
            ],
            "type": "histogram2dcontour"
           }
          ],
          "mesh3d": [
           {
            "colorbar": {
             "outlinewidth": 0,
             "ticks": ""
            },
            "type": "mesh3d"
           }
          ],
          "parcoords": [
           {
            "line": {
             "colorbar": {
              "outlinewidth": 0,
              "ticks": ""
             }
            },
            "type": "parcoords"
           }
          ],
          "pie": [
           {
            "automargin": true,
            "type": "pie"
           }
          ],
          "scatter": [
           {
            "marker": {
             "colorbar": {
              "outlinewidth": 0,
              "ticks": ""
             }
            },
            "type": "scatter"
           }
          ],
          "scatter3d": [
           {
            "line": {
             "colorbar": {
              "outlinewidth": 0,
              "ticks": ""
             }
            },
            "marker": {
             "colorbar": {
              "outlinewidth": 0,
              "ticks": ""
             }
            },
            "type": "scatter3d"
           }
          ],
          "scattercarpet": [
           {
            "marker": {
             "colorbar": {
              "outlinewidth": 0,
              "ticks": ""
             }
            },
            "type": "scattercarpet"
           }
          ],
          "scattergeo": [
           {
            "marker": {
             "colorbar": {
              "outlinewidth": 0,
              "ticks": ""
             }
            },
            "type": "scattergeo"
           }
          ],
          "scattergl": [
           {
            "marker": {
             "colorbar": {
              "outlinewidth": 0,
              "ticks": ""
             }
            },
            "type": "scattergl"
           }
          ],
          "scattermapbox": [
           {
            "marker": {
             "colorbar": {
              "outlinewidth": 0,
              "ticks": ""
             }
            },
            "type": "scattermapbox"
           }
          ],
          "scatterpolar": [
           {
            "marker": {
             "colorbar": {
              "outlinewidth": 0,
              "ticks": ""
             }
            },
            "type": "scatterpolar"
           }
          ],
          "scatterpolargl": [
           {
            "marker": {
             "colorbar": {
              "outlinewidth": 0,
              "ticks": ""
             }
            },
            "type": "scatterpolargl"
           }
          ],
          "scatterternary": [
           {
            "marker": {
             "colorbar": {
              "outlinewidth": 0,
              "ticks": ""
             }
            },
            "type": "scatterternary"
           }
          ],
          "surface": [
           {
            "colorbar": {
             "outlinewidth": 0,
             "ticks": ""
            },
            "colorscale": [
             [
              0,
              "#0d0887"
             ],
             [
              0.1111111111111111,
              "#46039f"
             ],
             [
              0.2222222222222222,
              "#7201a8"
             ],
             [
              0.3333333333333333,
              "#9c179e"
             ],
             [
              0.4444444444444444,
              "#bd3786"
             ],
             [
              0.5555555555555556,
              "#d8576b"
             ],
             [
              0.6666666666666666,
              "#ed7953"
             ],
             [
              0.7777777777777778,
              "#fb9f3a"
             ],
             [
              0.8888888888888888,
              "#fdca26"
             ],
             [
              1,
              "#f0f921"
             ]
            ],
            "type": "surface"
           }
          ],
          "table": [
           {
            "cells": {
             "fill": {
              "color": "#EBF0F8"
             },
             "line": {
              "color": "white"
             }
            },
            "header": {
             "fill": {
              "color": "#C8D4E3"
             },
             "line": {
              "color": "white"
             }
            },
            "type": "table"
           }
          ]
         },
         "layout": {
          "annotationdefaults": {
           "arrowcolor": "#2a3f5f",
           "arrowhead": 0,
           "arrowwidth": 1
          },
          "coloraxis": {
           "colorbar": {
            "outlinewidth": 0,
            "ticks": ""
           }
          },
          "colorscale": {
           "diverging": [
            [
             0,
             "#8e0152"
            ],
            [
             0.1,
             "#c51b7d"
            ],
            [
             0.2,
             "#de77ae"
            ],
            [
             0.3,
             "#f1b6da"
            ],
            [
             0.4,
             "#fde0ef"
            ],
            [
             0.5,
             "#f7f7f7"
            ],
            [
             0.6,
             "#e6f5d0"
            ],
            [
             0.7,
             "#b8e186"
            ],
            [
             0.8,
             "#7fbc41"
            ],
            [
             0.9,
             "#4d9221"
            ],
            [
             1,
             "#276419"
            ]
           ],
           "sequential": [
            [
             0,
             "#0d0887"
            ],
            [
             0.1111111111111111,
             "#46039f"
            ],
            [
             0.2222222222222222,
             "#7201a8"
            ],
            [
             0.3333333333333333,
             "#9c179e"
            ],
            [
             0.4444444444444444,
             "#bd3786"
            ],
            [
             0.5555555555555556,
             "#d8576b"
            ],
            [
             0.6666666666666666,
             "#ed7953"
            ],
            [
             0.7777777777777778,
             "#fb9f3a"
            ],
            [
             0.8888888888888888,
             "#fdca26"
            ],
            [
             1,
             "#f0f921"
            ]
           ],
           "sequentialminus": [
            [
             0,
             "#0d0887"
            ],
            [
             0.1111111111111111,
             "#46039f"
            ],
            [
             0.2222222222222222,
             "#7201a8"
            ],
            [
             0.3333333333333333,
             "#9c179e"
            ],
            [
             0.4444444444444444,
             "#bd3786"
            ],
            [
             0.5555555555555556,
             "#d8576b"
            ],
            [
             0.6666666666666666,
             "#ed7953"
            ],
            [
             0.7777777777777778,
             "#fb9f3a"
            ],
            [
             0.8888888888888888,
             "#fdca26"
            ],
            [
             1,
             "#f0f921"
            ]
           ]
          },
          "colorway": [
           "#636efa",
           "#EF553B",
           "#00cc96",
           "#ab63fa",
           "#FFA15A",
           "#19d3f3",
           "#FF6692",
           "#B6E880",
           "#FF97FF",
           "#FECB52"
          ],
          "font": {
           "color": "#2a3f5f"
          },
          "geo": {
           "bgcolor": "white",
           "lakecolor": "white",
           "landcolor": "#E5ECF6",
           "showlakes": true,
           "showland": true,
           "subunitcolor": "white"
          },
          "hoverlabel": {
           "align": "left"
          },
          "hovermode": "closest",
          "mapbox": {
           "style": "light"
          },
          "paper_bgcolor": "white",
          "plot_bgcolor": "#E5ECF6",
          "polar": {
           "angularaxis": {
            "gridcolor": "white",
            "linecolor": "white",
            "ticks": ""
           },
           "bgcolor": "#E5ECF6",
           "radialaxis": {
            "gridcolor": "white",
            "linecolor": "white",
            "ticks": ""
           }
          },
          "scene": {
           "xaxis": {
            "backgroundcolor": "#E5ECF6",
            "gridcolor": "white",
            "gridwidth": 2,
            "linecolor": "white",
            "showbackground": true,
            "ticks": "",
            "zerolinecolor": "white"
           },
           "yaxis": {
            "backgroundcolor": "#E5ECF6",
            "gridcolor": "white",
            "gridwidth": 2,
            "linecolor": "white",
            "showbackground": true,
            "ticks": "",
            "zerolinecolor": "white"
           },
           "zaxis": {
            "backgroundcolor": "#E5ECF6",
            "gridcolor": "white",
            "gridwidth": 2,
            "linecolor": "white",
            "showbackground": true,
            "ticks": "",
            "zerolinecolor": "white"
           }
          },
          "shapedefaults": {
           "line": {
            "color": "#2a3f5f"
           }
          },
          "ternary": {
           "aaxis": {
            "gridcolor": "white",
            "linecolor": "white",
            "ticks": ""
           },
           "baxis": {
            "gridcolor": "white",
            "linecolor": "white",
            "ticks": ""
           },
           "bgcolor": "#E5ECF6",
           "caxis": {
            "gridcolor": "white",
            "linecolor": "white",
            "ticks": ""
           }
          },
          "title": {
           "x": 0.05
          },
          "xaxis": {
           "automargin": true,
           "gridcolor": "white",
           "linecolor": "white",
           "ticks": "",
           "title": {
            "standoff": 15
           },
           "zerolinecolor": "white",
           "zerolinewidth": 2
          },
          "yaxis": {
           "automargin": true,
           "gridcolor": "white",
           "linecolor": "white",
           "ticks": "",
           "title": {
            "standoff": 15
           },
           "zerolinecolor": "white",
           "zerolinewidth": 2
          }
         }
        }
       }
      },
      "text/html": [
       "<div>\n",
       "        \n",
       "        \n",
       "            <div id=\"65bb4a52-c1e3-4290-ab75-9a53e25486da\" class=\"plotly-graph-div\" style=\"height:525px; width:100%;\"></div>\n",
       "            <script type=\"text/javascript\">\n",
       "                require([\"plotly\"], function(Plotly) {\n",
       "                    window.PLOTLYENV=window.PLOTLYENV || {};\n",
       "                    \n",
       "                if (document.getElementById(\"65bb4a52-c1e3-4290-ab75-9a53e25486da\")) {\n",
       "                    Plotly.newPlot(\n",
       "                        '65bb4a52-c1e3-4290-ab75-9a53e25486da',\n",
       "                        [{\"link\": {\"source\": [7, 1, 4, 8, 6, 2, 3, 5, 9, 0, 7, 1, 4, 8, 6, 2, 3, 5, 9, 0, 7, 1, 8, 6, 2, 3, 5, 9, 0, 7, 1, 4, 6, 2, 3, 5, 9, 0, 7, 1, 4, 8, 2, 3, 5, 9, 0, 7, 1, 4, 8, 6, 3, 5, 9, 0, 7, 1, 4, 8, 6, 2, 3, 5, 9, 0, 7, 1, 4, 8, 6, 2, 3, 5, 9, 0, 7, 1, 4, 8, 6, 2, 3, 5, 9, 1, 4, 8, 6, 2, 3, 5, 9, 0], \"target\": [12, 12, 12, 12, 12, 12, 12, 12, 12, 12, 18, 18, 18, 18, 18, 18, 18, 18, 18, 18, 13, 13, 13, 13, 13, 13, 13, 13, 13, 15, 15, 15, 15, 15, 15, 15, 15, 15, 17, 17, 17, 17, 17, 17, 17, 17, 17, 11, 11, 11, 11, 11, 11, 11, 11, 11, 19, 19, 19, 19, 19, 19, 19, 19, 19, 19, 16, 16, 16, 16, 16, 16, 16, 16, 16, 16, 10, 10, 10, 10, 10, 10, 10, 10, 10, 14, 14, 14, 14, 14, 14, 14, 14, 14], \"value\": [197, 504, 173, 44, 134, 876, 238, 72, 41, 583, 34, 56, 304, 69, 182, 115, 47, 199, 32, 174, 43, 212, 141, 120, 221, 180, 223, 120, 291, 21, 37, 100, 117, 192, 37, 242, 32, 207, 60, 74, 110, 140, 142, 75, 211, 43, 152, 321, 531, 479, 501, 373, 389, 665, 111, 971, 28, 46, 24, 4, 15, 55, 216, 2, 12, 765, 50, 139, 170, 78, 62, 157, 108, 108, 81, 169, 1217, 3904, 570, 354, 434, 1136, 2267, 384, 327, 268, 72, 47, 163, 217, 170, 49, 32, 716]}, \"type\": \"sankey\"}],\n",
       "                        {\"template\": {\"data\": {\"bar\": [{\"error_x\": {\"color\": \"#2a3f5f\"}, \"error_y\": {\"color\": \"#2a3f5f\"}, \"marker\": {\"line\": {\"color\": \"#E5ECF6\", \"width\": 0.5}}, \"type\": \"bar\"}], \"barpolar\": [{\"marker\": {\"line\": {\"color\": \"#E5ECF6\", \"width\": 0.5}}, \"type\": \"barpolar\"}], \"carpet\": [{\"aaxis\": {\"endlinecolor\": \"#2a3f5f\", \"gridcolor\": \"white\", \"linecolor\": \"white\", \"minorgridcolor\": \"white\", \"startlinecolor\": \"#2a3f5f\"}, \"baxis\": {\"endlinecolor\": \"#2a3f5f\", \"gridcolor\": \"white\", \"linecolor\": \"white\", \"minorgridcolor\": \"white\", \"startlinecolor\": \"#2a3f5f\"}, \"type\": \"carpet\"}], \"choropleth\": [{\"colorbar\": {\"outlinewidth\": 0, \"ticks\": \"\"}, \"type\": \"choropleth\"}], \"contour\": [{\"colorbar\": {\"outlinewidth\": 0, \"ticks\": \"\"}, \"colorscale\": [[0.0, \"#0d0887\"], [0.1111111111111111, \"#46039f\"], [0.2222222222222222, \"#7201a8\"], [0.3333333333333333, \"#9c179e\"], [0.4444444444444444, \"#bd3786\"], [0.5555555555555556, \"#d8576b\"], [0.6666666666666666, \"#ed7953\"], [0.7777777777777778, \"#fb9f3a\"], [0.8888888888888888, \"#fdca26\"], [1.0, \"#f0f921\"]], \"type\": \"contour\"}], \"contourcarpet\": [{\"colorbar\": {\"outlinewidth\": 0, \"ticks\": \"\"}, \"type\": \"contourcarpet\"}], \"heatmap\": [{\"colorbar\": {\"outlinewidth\": 0, \"ticks\": \"\"}, \"colorscale\": [[0.0, \"#0d0887\"], [0.1111111111111111, \"#46039f\"], [0.2222222222222222, \"#7201a8\"], [0.3333333333333333, \"#9c179e\"], [0.4444444444444444, \"#bd3786\"], [0.5555555555555556, \"#d8576b\"], [0.6666666666666666, \"#ed7953\"], [0.7777777777777778, \"#fb9f3a\"], [0.8888888888888888, \"#fdca26\"], [1.0, \"#f0f921\"]], \"type\": \"heatmap\"}], \"heatmapgl\": [{\"colorbar\": {\"outlinewidth\": 0, \"ticks\": \"\"}, \"colorscale\": [[0.0, \"#0d0887\"], [0.1111111111111111, \"#46039f\"], [0.2222222222222222, \"#7201a8\"], [0.3333333333333333, \"#9c179e\"], [0.4444444444444444, \"#bd3786\"], [0.5555555555555556, \"#d8576b\"], [0.6666666666666666, \"#ed7953\"], [0.7777777777777778, \"#fb9f3a\"], [0.8888888888888888, \"#fdca26\"], [1.0, \"#f0f921\"]], \"type\": \"heatmapgl\"}], \"histogram\": [{\"marker\": {\"colorbar\": {\"outlinewidth\": 0, \"ticks\": \"\"}}, \"type\": \"histogram\"}], \"histogram2d\": [{\"colorbar\": {\"outlinewidth\": 0, \"ticks\": \"\"}, \"colorscale\": [[0.0, \"#0d0887\"], [0.1111111111111111, \"#46039f\"], [0.2222222222222222, \"#7201a8\"], [0.3333333333333333, \"#9c179e\"], [0.4444444444444444, \"#bd3786\"], [0.5555555555555556, \"#d8576b\"], [0.6666666666666666, \"#ed7953\"], [0.7777777777777778, \"#fb9f3a\"], [0.8888888888888888, \"#fdca26\"], [1.0, \"#f0f921\"]], \"type\": \"histogram2d\"}], \"histogram2dcontour\": [{\"colorbar\": {\"outlinewidth\": 0, \"ticks\": \"\"}, \"colorscale\": [[0.0, \"#0d0887\"], [0.1111111111111111, \"#46039f\"], [0.2222222222222222, \"#7201a8\"], [0.3333333333333333, \"#9c179e\"], [0.4444444444444444, \"#bd3786\"], [0.5555555555555556, \"#d8576b\"], [0.6666666666666666, \"#ed7953\"], [0.7777777777777778, \"#fb9f3a\"], [0.8888888888888888, \"#fdca26\"], [1.0, \"#f0f921\"]], \"type\": \"histogram2dcontour\"}], \"mesh3d\": [{\"colorbar\": {\"outlinewidth\": 0, \"ticks\": \"\"}, \"type\": \"mesh3d\"}], \"parcoords\": [{\"line\": {\"colorbar\": {\"outlinewidth\": 0, \"ticks\": \"\"}}, \"type\": \"parcoords\"}], \"pie\": [{\"automargin\": true, \"type\": \"pie\"}], \"scatter\": [{\"marker\": {\"colorbar\": {\"outlinewidth\": 0, \"ticks\": \"\"}}, \"type\": \"scatter\"}], \"scatter3d\": [{\"line\": {\"colorbar\": {\"outlinewidth\": 0, \"ticks\": \"\"}}, \"marker\": {\"colorbar\": {\"outlinewidth\": 0, \"ticks\": \"\"}}, \"type\": \"scatter3d\"}], \"scattercarpet\": [{\"marker\": {\"colorbar\": {\"outlinewidth\": 0, \"ticks\": \"\"}}, \"type\": \"scattercarpet\"}], \"scattergeo\": [{\"marker\": {\"colorbar\": {\"outlinewidth\": 0, \"ticks\": \"\"}}, \"type\": \"scattergeo\"}], \"scattergl\": [{\"marker\": {\"colorbar\": {\"outlinewidth\": 0, \"ticks\": \"\"}}, \"type\": \"scattergl\"}], \"scattermapbox\": [{\"marker\": {\"colorbar\": {\"outlinewidth\": 0, \"ticks\": \"\"}}, \"type\": \"scattermapbox\"}], \"scatterpolar\": [{\"marker\": {\"colorbar\": {\"outlinewidth\": 0, \"ticks\": \"\"}}, \"type\": \"scatterpolar\"}], \"scatterpolargl\": [{\"marker\": {\"colorbar\": {\"outlinewidth\": 0, \"ticks\": \"\"}}, \"type\": \"scatterpolargl\"}], \"scatterternary\": [{\"marker\": {\"colorbar\": {\"outlinewidth\": 0, \"ticks\": \"\"}}, \"type\": \"scatterternary\"}], \"surface\": [{\"colorbar\": {\"outlinewidth\": 0, \"ticks\": \"\"}, \"colorscale\": [[0.0, \"#0d0887\"], [0.1111111111111111, \"#46039f\"], [0.2222222222222222, \"#7201a8\"], [0.3333333333333333, \"#9c179e\"], [0.4444444444444444, \"#bd3786\"], [0.5555555555555556, \"#d8576b\"], [0.6666666666666666, \"#ed7953\"], [0.7777777777777778, \"#fb9f3a\"], [0.8888888888888888, \"#fdca26\"], [1.0, \"#f0f921\"]], \"type\": \"surface\"}], \"table\": [{\"cells\": {\"fill\": {\"color\": \"#EBF0F8\"}, \"line\": {\"color\": \"white\"}}, \"header\": {\"fill\": {\"color\": \"#C8D4E3\"}, \"line\": {\"color\": \"white\"}}, \"type\": \"table\"}]}, \"layout\": {\"annotationdefaults\": {\"arrowcolor\": \"#2a3f5f\", \"arrowhead\": 0, \"arrowwidth\": 1}, \"coloraxis\": {\"colorbar\": {\"outlinewidth\": 0, \"ticks\": \"\"}}, \"colorscale\": {\"diverging\": [[0, \"#8e0152\"], [0.1, \"#c51b7d\"], [0.2, \"#de77ae\"], [0.3, \"#f1b6da\"], [0.4, \"#fde0ef\"], [0.5, \"#f7f7f7\"], [0.6, \"#e6f5d0\"], [0.7, \"#b8e186\"], [0.8, \"#7fbc41\"], [0.9, \"#4d9221\"], [1, \"#276419\"]], \"sequential\": [[0.0, \"#0d0887\"], [0.1111111111111111, \"#46039f\"], [0.2222222222222222, \"#7201a8\"], [0.3333333333333333, \"#9c179e\"], [0.4444444444444444, \"#bd3786\"], [0.5555555555555556, \"#d8576b\"], [0.6666666666666666, \"#ed7953\"], [0.7777777777777778, \"#fb9f3a\"], [0.8888888888888888, \"#fdca26\"], [1.0, \"#f0f921\"]], \"sequentialminus\": [[0.0, \"#0d0887\"], [0.1111111111111111, \"#46039f\"], [0.2222222222222222, \"#7201a8\"], [0.3333333333333333, \"#9c179e\"], [0.4444444444444444, \"#bd3786\"], [0.5555555555555556, \"#d8576b\"], [0.6666666666666666, \"#ed7953\"], [0.7777777777777778, \"#fb9f3a\"], [0.8888888888888888, \"#fdca26\"], [1.0, \"#f0f921\"]]}, \"colorway\": [\"#636efa\", \"#EF553B\", \"#00cc96\", \"#ab63fa\", \"#FFA15A\", \"#19d3f3\", \"#FF6692\", \"#B6E880\", \"#FF97FF\", \"#FECB52\"], \"font\": {\"color\": \"#2a3f5f\"}, \"geo\": {\"bgcolor\": \"white\", \"lakecolor\": \"white\", \"landcolor\": \"#E5ECF6\", \"showlakes\": true, \"showland\": true, \"subunitcolor\": \"white\"}, \"hoverlabel\": {\"align\": \"left\"}, \"hovermode\": \"closest\", \"mapbox\": {\"style\": \"light\"}, \"paper_bgcolor\": \"white\", \"plot_bgcolor\": \"#E5ECF6\", \"polar\": {\"angularaxis\": {\"gridcolor\": \"white\", \"linecolor\": \"white\", \"ticks\": \"\"}, \"bgcolor\": \"#E5ECF6\", \"radialaxis\": {\"gridcolor\": \"white\", \"linecolor\": \"white\", \"ticks\": \"\"}}, \"scene\": {\"xaxis\": {\"backgroundcolor\": \"#E5ECF6\", \"gridcolor\": \"white\", \"gridwidth\": 2, \"linecolor\": \"white\", \"showbackground\": true, \"ticks\": \"\", \"zerolinecolor\": \"white\"}, \"yaxis\": {\"backgroundcolor\": \"#E5ECF6\", \"gridcolor\": \"white\", \"gridwidth\": 2, \"linecolor\": \"white\", \"showbackground\": true, \"ticks\": \"\", \"zerolinecolor\": \"white\"}, \"zaxis\": {\"backgroundcolor\": \"#E5ECF6\", \"gridcolor\": \"white\", \"gridwidth\": 2, \"linecolor\": \"white\", \"showbackground\": true, \"ticks\": \"\", \"zerolinecolor\": \"white\"}}, \"shapedefaults\": {\"line\": {\"color\": \"#2a3f5f\"}}, \"ternary\": {\"aaxis\": {\"gridcolor\": \"white\", \"linecolor\": \"white\", \"ticks\": \"\"}, \"baxis\": {\"gridcolor\": \"white\", \"linecolor\": \"white\", \"ticks\": \"\"}, \"bgcolor\": \"#E5ECF6\", \"caxis\": {\"gridcolor\": \"white\", \"linecolor\": \"white\", \"ticks\": \"\"}}, \"title\": {\"x\": 0.05}, \"xaxis\": {\"automargin\": true, \"gridcolor\": \"white\", \"linecolor\": \"white\", \"ticks\": \"\", \"title\": {\"standoff\": 15}, \"zerolinecolor\": \"white\", \"zerolinewidth\": 2}, \"yaxis\": {\"automargin\": true, \"gridcolor\": \"white\", \"linecolor\": \"white\", \"ticks\": \"\", \"title\": {\"standoff\": 15}, \"zerolinecolor\": \"white\", \"zerolinewidth\": 2}}}},\n",
       "                        {\"responsive\": true}\n",
       "                    ).then(function(){\n",
       "                            \n",
       "var gd = document.getElementById('65bb4a52-c1e3-4290-ab75-9a53e25486da');\n",
       "var x = new MutationObserver(function (mutations, observer) {{\n",
       "        var display = window.getComputedStyle(gd).display;\n",
       "        if (!display || display === 'none') {{\n",
       "            console.log([gd, 'removed!']);\n",
       "            Plotly.purge(gd);\n",
       "            observer.disconnect();\n",
       "        }}\n",
       "}});\n",
       "\n",
       "// Listen for the removal of the full notebook cells\n",
       "var notebookContainer = gd.closest('#notebook-container');\n",
       "if (notebookContainer) {{\n",
       "    x.observe(notebookContainer, {childList: true});\n",
       "}}\n",
       "\n",
       "// Listen for the clearing of the current output cell\n",
       "var outputEl = gd.closest('.output');\n",
       "if (outputEl) {{\n",
       "    x.observe(outputEl, {childList: true});\n",
       "}}\n",
       "\n",
       "                        })\n",
       "                };\n",
       "                });\n",
       "            </script>\n",
       "        </div>"
      ]
     },
     "metadata": {},
     "output_type": "display_data"
    }
   ],
   "source": [
    "fig = go.Figure(data)\n",
    "fig.show()"
   ]
  },
  {
   "cell_type": "markdown",
   "metadata": {},
   "source": [
    "### Let's give it sense"
   ]
  },
  {
   "cell_type": "code",
   "execution_count": 253,
   "metadata": {},
   "outputs": [],
   "source": [
    "# for colors: https://www.color-hex.com/color-palette/95961\n",
    "\n",
    "label1 = list(CEarly.country)\n",
    "label2 = list(C2016.country)\n",
    "\n",
    "ctries = pd.concat([CEarly.country, C2016.country]).reset_index()\n",
    "ctries = ctries.drop('index', axis=1).reset_index()\n",
    "label = label1+label2\n",
    "\n",
    "label_index = list(ctries.reset_index().iloc[:,0])\n",
    "\n",
    "customdata = [\"US\", \"China\", \"Great Britain\", \"India\",\"Germany\",\"Italy\",\"France\",\"Canada\", \"Spain\",\"Russia\",\n",
    "             \"US\", \"Great Britain\", \"Australia\",\"Germany\",\"Canada\", \"Spain\",\"Sweden\",  \"France\",\n",
    "              \"Switzerland\",\"South Korea\"]\n",
    "\n",
    "color_node = [\n",
    "'#808B96', \n",
    "'#EC7063', '#F7DC6F', '#48C9B0', '#AF7AC5',\n",
    "'#EC7063', '#EC7063',\n",
    "'#F7DC6F', '#F7DC6F',\n",
    "'#48C9B0', '#48C9B0', '#48C9B0', '#48C9B0', '#48C9B0', '#48C9B0',\n",
    "'#AF7AC5', '#AF7AC5', '#AF7AC5', '#264653', '#E9C46A']\n",
    "col = [\n",
    "'#EBBAB5', '#FEF3C7', '#A6E3D7', '#CBB4D5',\n",
    "'#EBBAB5', '#EBBAB5',\n",
    "'#FEF3C7', '#FEF3C7',\n",
    "'#A6E3D7', '#A6E3D7']\n",
    "color_link = col +col +col +col+col +col +col +col +col +col\n",
    "#, '#A6E3D7', '#A6E3D7', '#A6E3D7', '#A6E3D7','#CBB4D5', '#CBB4D5', '#CBB4D5']"
   ]
  },
  {
   "cell_type": "code",
   "execution_count": 238,
   "metadata": {},
   "outputs": [
    {
     "data": {
      "text/plain": [
       "[0, 1, 2, 3, 4, 5, 6, 7, 8, 9, 10, 11, 12, 13, 14, 15, 16, 17, 18, 19]"
      ]
     },
     "execution_count": 238,
     "metadata": {},
     "output_type": "execute_result"
    }
   ],
   "source": [
    "label_index"
   ]
  },
  {
   "cell_type": "code",
   "execution_count": 271,
   "metadata": {
    "scrolled": true
   },
   "outputs": [
    {
     "data": {
      "application/vnd.plotly.v1+json": {
       "config": {
        "plotlyServerURL": "https://plot.ly"
       },
       "data": [
        {
         "link": {
          "color": [
           "#EBBAB5",
           "#FEF3C7",
           "#A6E3D7",
           "#CBB4D5",
           "#EBBAB5",
           "#EBBAB5",
           "#FEF3C7",
           "#FEF3C7",
           "#A6E3D7",
           "#A6E3D7",
           "#EBBAB5",
           "#FEF3C7",
           "#A6E3D7",
           "#CBB4D5",
           "#EBBAB5",
           "#EBBAB5",
           "#FEF3C7",
           "#FEF3C7",
           "#A6E3D7",
           "#A6E3D7",
           "#EBBAB5",
           "#FEF3C7",
           "#A6E3D7",
           "#CBB4D5",
           "#EBBAB5",
           "#EBBAB5",
           "#FEF3C7",
           "#FEF3C7",
           "#A6E3D7",
           "#A6E3D7",
           "#EBBAB5",
           "#FEF3C7",
           "#A6E3D7",
           "#CBB4D5",
           "#EBBAB5",
           "#EBBAB5",
           "#FEF3C7",
           "#FEF3C7",
           "#A6E3D7",
           "#A6E3D7",
           "#EBBAB5",
           "#FEF3C7",
           "#A6E3D7",
           "#CBB4D5",
           "#EBBAB5",
           "#EBBAB5",
           "#FEF3C7",
           "#FEF3C7",
           "#A6E3D7",
           "#A6E3D7",
           "#EBBAB5",
           "#FEF3C7",
           "#A6E3D7",
           "#CBB4D5",
           "#EBBAB5",
           "#EBBAB5",
           "#FEF3C7",
           "#FEF3C7",
           "#A6E3D7",
           "#A6E3D7",
           "#EBBAB5",
           "#FEF3C7",
           "#A6E3D7",
           "#CBB4D5",
           "#EBBAB5",
           "#EBBAB5",
           "#FEF3C7",
           "#FEF3C7",
           "#A6E3D7",
           "#A6E3D7",
           "#EBBAB5",
           "#FEF3C7",
           "#A6E3D7",
           "#CBB4D5",
           "#EBBAB5",
           "#EBBAB5",
           "#FEF3C7",
           "#FEF3C7",
           "#A6E3D7",
           "#A6E3D7",
           "#EBBAB5",
           "#FEF3C7",
           "#A6E3D7",
           "#CBB4D5",
           "#EBBAB5",
           "#EBBAB5",
           "#FEF3C7",
           "#FEF3C7",
           "#A6E3D7",
           "#A6E3D7",
           "#EBBAB5",
           "#FEF3C7",
           "#A6E3D7",
           "#CBB4D5",
           "#EBBAB5",
           "#EBBAB5",
           "#FEF3C7",
           "#FEF3C7",
           "#A6E3D7",
           "#A6E3D7"
          ],
          "customdata": [
           "US",
           "China",
           "Great Britain",
           "India",
           "Germany",
           "Italy",
           "France",
           "Canada",
           "Spain",
           "Russia",
           "US",
           "Great Britain",
           "Australia",
           "Germany",
           "Canada",
           "Spain",
           "Sweden",
           "France",
           "Switzerland",
           "South Korea"
          ],
          "hovertemplate": "Link from node %{source.customdata}<br />to node%{target.customdata}<br />has value %{value}<br />",
          "source": [
           7,
           1,
           4,
           8,
           6,
           2,
           3,
           5,
           9,
           0,
           7,
           1,
           4,
           8,
           6,
           2,
           3,
           5,
           9,
           0,
           7,
           1,
           8,
           6,
           2,
           3,
           5,
           9,
           0,
           7,
           1,
           4,
           6,
           2,
           3,
           5,
           9,
           0,
           7,
           1,
           4,
           8,
           2,
           3,
           5,
           9,
           0,
           7,
           1,
           4,
           8,
           6,
           3,
           5,
           9,
           0,
           7,
           1,
           4,
           8,
           6,
           2,
           3,
           5,
           9,
           0,
           7,
           1,
           4,
           8,
           6,
           2,
           3,
           5,
           9,
           0,
           7,
           1,
           4,
           8,
           6,
           2,
           3,
           5,
           9,
           1,
           4,
           8,
           6,
           2,
           3,
           5,
           9,
           0
          ],
          "target": [
           12,
           12,
           12,
           12,
           12,
           12,
           12,
           12,
           12,
           12,
           18,
           18,
           18,
           18,
           18,
           18,
           18,
           18,
           18,
           18,
           13,
           13,
           13,
           13,
           13,
           13,
           13,
           13,
           13,
           15,
           15,
           15,
           15,
           15,
           15,
           15,
           15,
           15,
           17,
           17,
           17,
           17,
           17,
           17,
           17,
           17,
           17,
           11,
           11,
           11,
           11,
           11,
           11,
           11,
           11,
           11,
           19,
           19,
           19,
           19,
           19,
           19,
           19,
           19,
           19,
           19,
           16,
           16,
           16,
           16,
           16,
           16,
           16,
           16,
           16,
           16,
           10,
           10,
           10,
           10,
           10,
           10,
           10,
           10,
           10,
           14,
           14,
           14,
           14,
           14,
           14,
           14,
           14,
           14
          ],
          "value": [
           197,
           504,
           173,
           44,
           134,
           876,
           238,
           72,
           41,
           583,
           34,
           56,
           304,
           69,
           182,
           115,
           47,
           199,
           32,
           174,
           43,
           212,
           141,
           120,
           221,
           180,
           223,
           120,
           291,
           21,
           37,
           100,
           117,
           192,
           37,
           242,
           32,
           207,
           60,
           74,
           110,
           140,
           142,
           75,
           211,
           43,
           152,
           321,
           531,
           479,
           501,
           373,
           389,
           665,
           111,
           971,
           28,
           46,
           24,
           4,
           15,
           55,
           216,
           2,
           12,
           765,
           50,
           139,
           170,
           78,
           62,
           157,
           108,
           108,
           81,
           169,
           1217,
           3904,
           570,
           354,
           434,
           1136,
           2267,
           384,
           327,
           268,
           72,
           47,
           163,
           217,
           170,
           49,
           32,
           716
          ]
         },
         "node": {
          "color": [
           "#808B96",
           "#EC7063",
           "#F7DC6F",
           "#48C9B0",
           "#AF7AC5",
           "#EC7063",
           "#EC7063",
           "#F7DC6F",
           "#F7DC6F",
           "#48C9B0",
           "#48C9B0",
           "#48C9B0",
           "#48C9B0",
           "#48C9B0",
           "#48C9B0",
           "#AF7AC5",
           "#AF7AC5",
           "#AF7AC5",
           "#264653",
           "#E9C46A"
          ],
          "customdata": [
           "US",
           "China",
           "Great Britain",
           "India",
           "Germany",
           "Italy",
           "France",
           "Canada",
           "Spain",
           "Russia",
           "US",
           "Great Britain",
           "Australia",
           "Germany",
           "Canada",
           "Spain",
           "Sweden",
           "France",
           "Switzerland",
           "South Korea"
          ],
          "hovertemplate": "Node %{customdata} has total value %{value}<extra></extra>",
          "label": [
           "US",
           "CN",
           "GB",
           "IN",
           "DE",
           "IT",
           "FR",
           "CA",
           "ES",
           "RU",
           "US",
           "GB",
           "AU",
           "DE",
           "CA",
           "ES",
           "SE",
           "FR",
           "CH",
           "KR"
          ],
          "line": {
           "color": "black",
           "width": 0.5
          },
          "pad": 50,
          "thickness": 5
         },
         "type": "sankey"
        }
       ],
       "layout": {
        "font": {
         "size": 10
        },
        "paper_bgcolor": "white",
        "template": {
         "data": {
          "bar": [
           {
            "error_x": {
             "color": "#2a3f5f"
            },
            "error_y": {
             "color": "#2a3f5f"
            },
            "marker": {
             "line": {
              "color": "#E5ECF6",
              "width": 0.5
             }
            },
            "type": "bar"
           }
          ],
          "barpolar": [
           {
            "marker": {
             "line": {
              "color": "#E5ECF6",
              "width": 0.5
             }
            },
            "type": "barpolar"
           }
          ],
          "carpet": [
           {
            "aaxis": {
             "endlinecolor": "#2a3f5f",
             "gridcolor": "white",
             "linecolor": "white",
             "minorgridcolor": "white",
             "startlinecolor": "#2a3f5f"
            },
            "baxis": {
             "endlinecolor": "#2a3f5f",
             "gridcolor": "white",
             "linecolor": "white",
             "minorgridcolor": "white",
             "startlinecolor": "#2a3f5f"
            },
            "type": "carpet"
           }
          ],
          "choropleth": [
           {
            "colorbar": {
             "outlinewidth": 0,
             "ticks": ""
            },
            "type": "choropleth"
           }
          ],
          "contour": [
           {
            "colorbar": {
             "outlinewidth": 0,
             "ticks": ""
            },
            "colorscale": [
             [
              0,
              "#0d0887"
             ],
             [
              0.1111111111111111,
              "#46039f"
             ],
             [
              0.2222222222222222,
              "#7201a8"
             ],
             [
              0.3333333333333333,
              "#9c179e"
             ],
             [
              0.4444444444444444,
              "#bd3786"
             ],
             [
              0.5555555555555556,
              "#d8576b"
             ],
             [
              0.6666666666666666,
              "#ed7953"
             ],
             [
              0.7777777777777778,
              "#fb9f3a"
             ],
             [
              0.8888888888888888,
              "#fdca26"
             ],
             [
              1,
              "#f0f921"
             ]
            ],
            "type": "contour"
           }
          ],
          "contourcarpet": [
           {
            "colorbar": {
             "outlinewidth": 0,
             "ticks": ""
            },
            "type": "contourcarpet"
           }
          ],
          "heatmap": [
           {
            "colorbar": {
             "outlinewidth": 0,
             "ticks": ""
            },
            "colorscale": [
             [
              0,
              "#0d0887"
             ],
             [
              0.1111111111111111,
              "#46039f"
             ],
             [
              0.2222222222222222,
              "#7201a8"
             ],
             [
              0.3333333333333333,
              "#9c179e"
             ],
             [
              0.4444444444444444,
              "#bd3786"
             ],
             [
              0.5555555555555556,
              "#d8576b"
             ],
             [
              0.6666666666666666,
              "#ed7953"
             ],
             [
              0.7777777777777778,
              "#fb9f3a"
             ],
             [
              0.8888888888888888,
              "#fdca26"
             ],
             [
              1,
              "#f0f921"
             ]
            ],
            "type": "heatmap"
           }
          ],
          "heatmapgl": [
           {
            "colorbar": {
             "outlinewidth": 0,
             "ticks": ""
            },
            "colorscale": [
             [
              0,
              "#0d0887"
             ],
             [
              0.1111111111111111,
              "#46039f"
             ],
             [
              0.2222222222222222,
              "#7201a8"
             ],
             [
              0.3333333333333333,
              "#9c179e"
             ],
             [
              0.4444444444444444,
              "#bd3786"
             ],
             [
              0.5555555555555556,
              "#d8576b"
             ],
             [
              0.6666666666666666,
              "#ed7953"
             ],
             [
              0.7777777777777778,
              "#fb9f3a"
             ],
             [
              0.8888888888888888,
              "#fdca26"
             ],
             [
              1,
              "#f0f921"
             ]
            ],
            "type": "heatmapgl"
           }
          ],
          "histogram": [
           {
            "marker": {
             "colorbar": {
              "outlinewidth": 0,
              "ticks": ""
             }
            },
            "type": "histogram"
           }
          ],
          "histogram2d": [
           {
            "colorbar": {
             "outlinewidth": 0,
             "ticks": ""
            },
            "colorscale": [
             [
              0,
              "#0d0887"
             ],
             [
              0.1111111111111111,
              "#46039f"
             ],
             [
              0.2222222222222222,
              "#7201a8"
             ],
             [
              0.3333333333333333,
              "#9c179e"
             ],
             [
              0.4444444444444444,
              "#bd3786"
             ],
             [
              0.5555555555555556,
              "#d8576b"
             ],
             [
              0.6666666666666666,
              "#ed7953"
             ],
             [
              0.7777777777777778,
              "#fb9f3a"
             ],
             [
              0.8888888888888888,
              "#fdca26"
             ],
             [
              1,
              "#f0f921"
             ]
            ],
            "type": "histogram2d"
           }
          ],
          "histogram2dcontour": [
           {
            "colorbar": {
             "outlinewidth": 0,
             "ticks": ""
            },
            "colorscale": [
             [
              0,
              "#0d0887"
             ],
             [
              0.1111111111111111,
              "#46039f"
             ],
             [
              0.2222222222222222,
              "#7201a8"
             ],
             [
              0.3333333333333333,
              "#9c179e"
             ],
             [
              0.4444444444444444,
              "#bd3786"
             ],
             [
              0.5555555555555556,
              "#d8576b"
             ],
             [
              0.6666666666666666,
              "#ed7953"
             ],
             [
              0.7777777777777778,
              "#fb9f3a"
             ],
             [
              0.8888888888888888,
              "#fdca26"
             ],
             [
              1,
              "#f0f921"
             ]
            ],
            "type": "histogram2dcontour"
           }
          ],
          "mesh3d": [
           {
            "colorbar": {
             "outlinewidth": 0,
             "ticks": ""
            },
            "type": "mesh3d"
           }
          ],
          "parcoords": [
           {
            "line": {
             "colorbar": {
              "outlinewidth": 0,
              "ticks": ""
             }
            },
            "type": "parcoords"
           }
          ],
          "pie": [
           {
            "automargin": true,
            "type": "pie"
           }
          ],
          "scatter": [
           {
            "marker": {
             "colorbar": {
              "outlinewidth": 0,
              "ticks": ""
             }
            },
            "type": "scatter"
           }
          ],
          "scatter3d": [
           {
            "line": {
             "colorbar": {
              "outlinewidth": 0,
              "ticks": ""
             }
            },
            "marker": {
             "colorbar": {
              "outlinewidth": 0,
              "ticks": ""
             }
            },
            "type": "scatter3d"
           }
          ],
          "scattercarpet": [
           {
            "marker": {
             "colorbar": {
              "outlinewidth": 0,
              "ticks": ""
             }
            },
            "type": "scattercarpet"
           }
          ],
          "scattergeo": [
           {
            "marker": {
             "colorbar": {
              "outlinewidth": 0,
              "ticks": ""
             }
            },
            "type": "scattergeo"
           }
          ],
          "scattergl": [
           {
            "marker": {
             "colorbar": {
              "outlinewidth": 0,
              "ticks": ""
             }
            },
            "type": "scattergl"
           }
          ],
          "scattermapbox": [
           {
            "marker": {
             "colorbar": {
              "outlinewidth": 0,
              "ticks": ""
             }
            },
            "type": "scattermapbox"
           }
          ],
          "scatterpolar": [
           {
            "marker": {
             "colorbar": {
              "outlinewidth": 0,
              "ticks": ""
             }
            },
            "type": "scatterpolar"
           }
          ],
          "scatterpolargl": [
           {
            "marker": {
             "colorbar": {
              "outlinewidth": 0,
              "ticks": ""
             }
            },
            "type": "scatterpolargl"
           }
          ],
          "scatterternary": [
           {
            "marker": {
             "colorbar": {
              "outlinewidth": 0,
              "ticks": ""
             }
            },
            "type": "scatterternary"
           }
          ],
          "surface": [
           {
            "colorbar": {
             "outlinewidth": 0,
             "ticks": ""
            },
            "colorscale": [
             [
              0,
              "#0d0887"
             ],
             [
              0.1111111111111111,
              "#46039f"
             ],
             [
              0.2222222222222222,
              "#7201a8"
             ],
             [
              0.3333333333333333,
              "#9c179e"
             ],
             [
              0.4444444444444444,
              "#bd3786"
             ],
             [
              0.5555555555555556,
              "#d8576b"
             ],
             [
              0.6666666666666666,
              "#ed7953"
             ],
             [
              0.7777777777777778,
              "#fb9f3a"
             ],
             [
              0.8888888888888888,
              "#fdca26"
             ],
             [
              1,
              "#f0f921"
             ]
            ],
            "type": "surface"
           }
          ],
          "table": [
           {
            "cells": {
             "fill": {
              "color": "#EBF0F8"
             },
             "line": {
              "color": "white"
             }
            },
            "header": {
             "fill": {
              "color": "#C8D4E3"
             },
             "line": {
              "color": "white"
             }
            },
            "type": "table"
           }
          ]
         },
         "layout": {
          "annotationdefaults": {
           "arrowcolor": "#2a3f5f",
           "arrowhead": 0,
           "arrowwidth": 1
          },
          "coloraxis": {
           "colorbar": {
            "outlinewidth": 0,
            "ticks": ""
           }
          },
          "colorscale": {
           "diverging": [
            [
             0,
             "#8e0152"
            ],
            [
             0.1,
             "#c51b7d"
            ],
            [
             0.2,
             "#de77ae"
            ],
            [
             0.3,
             "#f1b6da"
            ],
            [
             0.4,
             "#fde0ef"
            ],
            [
             0.5,
             "#f7f7f7"
            ],
            [
             0.6,
             "#e6f5d0"
            ],
            [
             0.7,
             "#b8e186"
            ],
            [
             0.8,
             "#7fbc41"
            ],
            [
             0.9,
             "#4d9221"
            ],
            [
             1,
             "#276419"
            ]
           ],
           "sequential": [
            [
             0,
             "#0d0887"
            ],
            [
             0.1111111111111111,
             "#46039f"
            ],
            [
             0.2222222222222222,
             "#7201a8"
            ],
            [
             0.3333333333333333,
             "#9c179e"
            ],
            [
             0.4444444444444444,
             "#bd3786"
            ],
            [
             0.5555555555555556,
             "#d8576b"
            ],
            [
             0.6666666666666666,
             "#ed7953"
            ],
            [
             0.7777777777777778,
             "#fb9f3a"
            ],
            [
             0.8888888888888888,
             "#fdca26"
            ],
            [
             1,
             "#f0f921"
            ]
           ],
           "sequentialminus": [
            [
             0,
             "#0d0887"
            ],
            [
             0.1111111111111111,
             "#46039f"
            ],
            [
             0.2222222222222222,
             "#7201a8"
            ],
            [
             0.3333333333333333,
             "#9c179e"
            ],
            [
             0.4444444444444444,
             "#bd3786"
            ],
            [
             0.5555555555555556,
             "#d8576b"
            ],
            [
             0.6666666666666666,
             "#ed7953"
            ],
            [
             0.7777777777777778,
             "#fb9f3a"
            ],
            [
             0.8888888888888888,
             "#fdca26"
            ],
            [
             1,
             "#f0f921"
            ]
           ]
          },
          "colorway": [
           "#636efa",
           "#EF553B",
           "#00cc96",
           "#ab63fa",
           "#FFA15A",
           "#19d3f3",
           "#FF6692",
           "#B6E880",
           "#FF97FF",
           "#FECB52"
          ],
          "font": {
           "color": "#2a3f5f"
          },
          "geo": {
           "bgcolor": "white",
           "lakecolor": "white",
           "landcolor": "#E5ECF6",
           "showlakes": true,
           "showland": true,
           "subunitcolor": "white"
          },
          "hoverlabel": {
           "align": "left"
          },
          "hovermode": "closest",
          "mapbox": {
           "style": "light"
          },
          "paper_bgcolor": "white",
          "plot_bgcolor": "#E5ECF6",
          "polar": {
           "angularaxis": {
            "gridcolor": "white",
            "linecolor": "white",
            "ticks": ""
           },
           "bgcolor": "#E5ECF6",
           "radialaxis": {
            "gridcolor": "white",
            "linecolor": "white",
            "ticks": ""
           }
          },
          "scene": {
           "xaxis": {
            "backgroundcolor": "#E5ECF6",
            "gridcolor": "white",
            "gridwidth": 2,
            "linecolor": "white",
            "showbackground": true,
            "ticks": "",
            "zerolinecolor": "white"
           },
           "yaxis": {
            "backgroundcolor": "#E5ECF6",
            "gridcolor": "white",
            "gridwidth": 2,
            "linecolor": "white",
            "showbackground": true,
            "ticks": "",
            "zerolinecolor": "white"
           },
           "zaxis": {
            "backgroundcolor": "#E5ECF6",
            "gridcolor": "white",
            "gridwidth": 2,
            "linecolor": "white",
            "showbackground": true,
            "ticks": "",
            "zerolinecolor": "white"
           }
          },
          "shapedefaults": {
           "line": {
            "color": "#2a3f5f"
           }
          },
          "ternary": {
           "aaxis": {
            "gridcolor": "white",
            "linecolor": "white",
            "ticks": ""
           },
           "baxis": {
            "gridcolor": "white",
            "linecolor": "white",
            "ticks": ""
           },
           "bgcolor": "#E5ECF6",
           "caxis": {
            "gridcolor": "white",
            "linecolor": "white",
            "ticks": ""
           }
          },
          "title": {
           "x": 0.05
          },
          "xaxis": {
           "automargin": true,
           "gridcolor": "white",
           "linecolor": "white",
           "ticks": "",
           "title": {
            "standoff": 15
           },
           "zerolinecolor": "white",
           "zerolinewidth": 2
          },
          "yaxis": {
           "automargin": true,
           "gridcolor": "white",
           "linecolor": "white",
           "ticks": "",
           "title": {
            "standoff": 15
           },
           "zerolinecolor": "white",
           "zerolinewidth": 2
          }
         }
        },
        "title": {
         "text": "Sankey Diagram of scientists migration"
        }
       }
      },
      "text/html": [
       "<div>\n",
       "        \n",
       "        \n",
       "            <div id=\"66689356-8d80-4e83-ad10-98e4639b84af\" class=\"plotly-graph-div\" style=\"height:525px; width:100%;\"></div>\n",
       "            <script type=\"text/javascript\">\n",
       "                require([\"plotly\"], function(Plotly) {\n",
       "                    window.PLOTLYENV=window.PLOTLYENV || {};\n",
       "                    \n",
       "                if (document.getElementById(\"66689356-8d80-4e83-ad10-98e4639b84af\")) {\n",
       "                    Plotly.newPlot(\n",
       "                        '66689356-8d80-4e83-ad10-98e4639b84af',\n",
       "                        [{\"link\": {\"color\": [\"#EBBAB5\", \"#FEF3C7\", \"#A6E3D7\", \"#CBB4D5\", \"#EBBAB5\", \"#EBBAB5\", \"#FEF3C7\", \"#FEF3C7\", \"#A6E3D7\", \"#A6E3D7\", \"#EBBAB5\", \"#FEF3C7\", \"#A6E3D7\", \"#CBB4D5\", \"#EBBAB5\", \"#EBBAB5\", \"#FEF3C7\", \"#FEF3C7\", \"#A6E3D7\", \"#A6E3D7\", \"#EBBAB5\", \"#FEF3C7\", \"#A6E3D7\", \"#CBB4D5\", \"#EBBAB5\", \"#EBBAB5\", \"#FEF3C7\", \"#FEF3C7\", \"#A6E3D7\", \"#A6E3D7\", \"#EBBAB5\", \"#FEF3C7\", \"#A6E3D7\", \"#CBB4D5\", \"#EBBAB5\", \"#EBBAB5\", \"#FEF3C7\", \"#FEF3C7\", \"#A6E3D7\", \"#A6E3D7\", \"#EBBAB5\", \"#FEF3C7\", \"#A6E3D7\", \"#CBB4D5\", \"#EBBAB5\", \"#EBBAB5\", \"#FEF3C7\", \"#FEF3C7\", \"#A6E3D7\", \"#A6E3D7\", \"#EBBAB5\", \"#FEF3C7\", \"#A6E3D7\", \"#CBB4D5\", \"#EBBAB5\", \"#EBBAB5\", \"#FEF3C7\", \"#FEF3C7\", \"#A6E3D7\", \"#A6E3D7\", \"#EBBAB5\", \"#FEF3C7\", \"#A6E3D7\", \"#CBB4D5\", \"#EBBAB5\", \"#EBBAB5\", \"#FEF3C7\", \"#FEF3C7\", \"#A6E3D7\", \"#A6E3D7\", \"#EBBAB5\", \"#FEF3C7\", \"#A6E3D7\", \"#CBB4D5\", \"#EBBAB5\", \"#EBBAB5\", \"#FEF3C7\", \"#FEF3C7\", \"#A6E3D7\", \"#A6E3D7\", \"#EBBAB5\", \"#FEF3C7\", \"#A6E3D7\", \"#CBB4D5\", \"#EBBAB5\", \"#EBBAB5\", \"#FEF3C7\", \"#FEF3C7\", \"#A6E3D7\", \"#A6E3D7\", \"#EBBAB5\", \"#FEF3C7\", \"#A6E3D7\", \"#CBB4D5\", \"#EBBAB5\", \"#EBBAB5\", \"#FEF3C7\", \"#FEF3C7\", \"#A6E3D7\", \"#A6E3D7\"], \"customdata\": [\"US\", \"China\", \"Great Britain\", \"India\", \"Germany\", \"Italy\", \"France\", \"Canada\", \"Spain\", \"Russia\", \"US\", \"Great Britain\", \"Australia\", \"Germany\", \"Canada\", \"Spain\", \"Sweden\", \"France\", \"Switzerland\", \"South Korea\"], \"hovertemplate\": \"Link from node %{source.customdata}<br />to node%{target.customdata}<br />has value %{value}<br />\", \"source\": [7, 1, 4, 8, 6, 2, 3, 5, 9, 0, 7, 1, 4, 8, 6, 2, 3, 5, 9, 0, 7, 1, 8, 6, 2, 3, 5, 9, 0, 7, 1, 4, 6, 2, 3, 5, 9, 0, 7, 1, 4, 8, 2, 3, 5, 9, 0, 7, 1, 4, 8, 6, 3, 5, 9, 0, 7, 1, 4, 8, 6, 2, 3, 5, 9, 0, 7, 1, 4, 8, 6, 2, 3, 5, 9, 0, 7, 1, 4, 8, 6, 2, 3, 5, 9, 1, 4, 8, 6, 2, 3, 5, 9, 0], \"target\": [12, 12, 12, 12, 12, 12, 12, 12, 12, 12, 18, 18, 18, 18, 18, 18, 18, 18, 18, 18, 13, 13, 13, 13, 13, 13, 13, 13, 13, 15, 15, 15, 15, 15, 15, 15, 15, 15, 17, 17, 17, 17, 17, 17, 17, 17, 17, 11, 11, 11, 11, 11, 11, 11, 11, 11, 19, 19, 19, 19, 19, 19, 19, 19, 19, 19, 16, 16, 16, 16, 16, 16, 16, 16, 16, 16, 10, 10, 10, 10, 10, 10, 10, 10, 10, 14, 14, 14, 14, 14, 14, 14, 14, 14], \"value\": [197, 504, 173, 44, 134, 876, 238, 72, 41, 583, 34, 56, 304, 69, 182, 115, 47, 199, 32, 174, 43, 212, 141, 120, 221, 180, 223, 120, 291, 21, 37, 100, 117, 192, 37, 242, 32, 207, 60, 74, 110, 140, 142, 75, 211, 43, 152, 321, 531, 479, 501, 373, 389, 665, 111, 971, 28, 46, 24, 4, 15, 55, 216, 2, 12, 765, 50, 139, 170, 78, 62, 157, 108, 108, 81, 169, 1217, 3904, 570, 354, 434, 1136, 2267, 384, 327, 268, 72, 47, 163, 217, 170, 49, 32, 716]}, \"node\": {\"color\": [\"#808B96\", \"#EC7063\", \"#F7DC6F\", \"#48C9B0\", \"#AF7AC5\", \"#EC7063\", \"#EC7063\", \"#F7DC6F\", \"#F7DC6F\", \"#48C9B0\", \"#48C9B0\", \"#48C9B0\", \"#48C9B0\", \"#48C9B0\", \"#48C9B0\", \"#AF7AC5\", \"#AF7AC5\", \"#AF7AC5\", \"#264653\", \"#E9C46A\"], \"customdata\": [\"US\", \"China\", \"Great Britain\", \"India\", \"Germany\", \"Italy\", \"France\", \"Canada\", \"Spain\", \"Russia\", \"US\", \"Great Britain\", \"Australia\", \"Germany\", \"Canada\", \"Spain\", \"Sweden\", \"France\", \"Switzerland\", \"South Korea\"], \"hovertemplate\": \"Node %{customdata} has total value %{value}<extra></extra>\", \"label\": [\"US\", \"CN\", \"GB\", \"IN\", \"DE\", \"IT\", \"FR\", \"CA\", \"ES\", \"RU\", \"US\", \"GB\", \"AU\", \"DE\", \"CA\", \"ES\", \"SE\", \"FR\", \"CH\", \"KR\"], \"line\": {\"color\": \"black\", \"width\": 0.5}, \"pad\": 50, \"thickness\": 5}, \"type\": \"sankey\"}],\n",
       "                        {\"font\": {\"size\": 10}, \"paper_bgcolor\": \"white\", \"template\": {\"data\": {\"bar\": [{\"error_x\": {\"color\": \"#2a3f5f\"}, \"error_y\": {\"color\": \"#2a3f5f\"}, \"marker\": {\"line\": {\"color\": \"#E5ECF6\", \"width\": 0.5}}, \"type\": \"bar\"}], \"barpolar\": [{\"marker\": {\"line\": {\"color\": \"#E5ECF6\", \"width\": 0.5}}, \"type\": \"barpolar\"}], \"carpet\": [{\"aaxis\": {\"endlinecolor\": \"#2a3f5f\", \"gridcolor\": \"white\", \"linecolor\": \"white\", \"minorgridcolor\": \"white\", \"startlinecolor\": \"#2a3f5f\"}, \"baxis\": {\"endlinecolor\": \"#2a3f5f\", \"gridcolor\": \"white\", \"linecolor\": \"white\", \"minorgridcolor\": \"white\", \"startlinecolor\": \"#2a3f5f\"}, \"type\": \"carpet\"}], \"choropleth\": [{\"colorbar\": {\"outlinewidth\": 0, \"ticks\": \"\"}, \"type\": \"choropleth\"}], \"contour\": [{\"colorbar\": {\"outlinewidth\": 0, \"ticks\": \"\"}, \"colorscale\": [[0.0, \"#0d0887\"], [0.1111111111111111, \"#46039f\"], [0.2222222222222222, \"#7201a8\"], [0.3333333333333333, \"#9c179e\"], [0.4444444444444444, \"#bd3786\"], [0.5555555555555556, \"#d8576b\"], [0.6666666666666666, \"#ed7953\"], [0.7777777777777778, \"#fb9f3a\"], [0.8888888888888888, \"#fdca26\"], [1.0, \"#f0f921\"]], \"type\": \"contour\"}], \"contourcarpet\": [{\"colorbar\": {\"outlinewidth\": 0, \"ticks\": \"\"}, \"type\": \"contourcarpet\"}], \"heatmap\": [{\"colorbar\": {\"outlinewidth\": 0, \"ticks\": \"\"}, \"colorscale\": [[0.0, \"#0d0887\"], [0.1111111111111111, \"#46039f\"], [0.2222222222222222, \"#7201a8\"], [0.3333333333333333, \"#9c179e\"], [0.4444444444444444, \"#bd3786\"], [0.5555555555555556, \"#d8576b\"], [0.6666666666666666, \"#ed7953\"], [0.7777777777777778, \"#fb9f3a\"], [0.8888888888888888, \"#fdca26\"], [1.0, \"#f0f921\"]], \"type\": \"heatmap\"}], \"heatmapgl\": [{\"colorbar\": {\"outlinewidth\": 0, \"ticks\": \"\"}, \"colorscale\": [[0.0, \"#0d0887\"], [0.1111111111111111, \"#46039f\"], [0.2222222222222222, \"#7201a8\"], [0.3333333333333333, \"#9c179e\"], [0.4444444444444444, \"#bd3786\"], [0.5555555555555556, \"#d8576b\"], [0.6666666666666666, \"#ed7953\"], [0.7777777777777778, \"#fb9f3a\"], [0.8888888888888888, \"#fdca26\"], [1.0, \"#f0f921\"]], \"type\": \"heatmapgl\"}], \"histogram\": [{\"marker\": {\"colorbar\": {\"outlinewidth\": 0, \"ticks\": \"\"}}, \"type\": \"histogram\"}], \"histogram2d\": [{\"colorbar\": {\"outlinewidth\": 0, \"ticks\": \"\"}, \"colorscale\": [[0.0, \"#0d0887\"], [0.1111111111111111, \"#46039f\"], [0.2222222222222222, \"#7201a8\"], [0.3333333333333333, \"#9c179e\"], [0.4444444444444444, \"#bd3786\"], [0.5555555555555556, \"#d8576b\"], [0.6666666666666666, \"#ed7953\"], [0.7777777777777778, \"#fb9f3a\"], [0.8888888888888888, \"#fdca26\"], [1.0, \"#f0f921\"]], \"type\": \"histogram2d\"}], \"histogram2dcontour\": [{\"colorbar\": {\"outlinewidth\": 0, \"ticks\": \"\"}, \"colorscale\": [[0.0, \"#0d0887\"], [0.1111111111111111, \"#46039f\"], [0.2222222222222222, \"#7201a8\"], [0.3333333333333333, \"#9c179e\"], [0.4444444444444444, \"#bd3786\"], [0.5555555555555556, \"#d8576b\"], [0.6666666666666666, \"#ed7953\"], [0.7777777777777778, \"#fb9f3a\"], [0.8888888888888888, \"#fdca26\"], [1.0, \"#f0f921\"]], \"type\": \"histogram2dcontour\"}], \"mesh3d\": [{\"colorbar\": {\"outlinewidth\": 0, \"ticks\": \"\"}, \"type\": \"mesh3d\"}], \"parcoords\": [{\"line\": {\"colorbar\": {\"outlinewidth\": 0, \"ticks\": \"\"}}, \"type\": \"parcoords\"}], \"pie\": [{\"automargin\": true, \"type\": \"pie\"}], \"scatter\": [{\"marker\": {\"colorbar\": {\"outlinewidth\": 0, \"ticks\": \"\"}}, \"type\": \"scatter\"}], \"scatter3d\": [{\"line\": {\"colorbar\": {\"outlinewidth\": 0, \"ticks\": \"\"}}, \"marker\": {\"colorbar\": {\"outlinewidth\": 0, \"ticks\": \"\"}}, \"type\": \"scatter3d\"}], \"scattercarpet\": [{\"marker\": {\"colorbar\": {\"outlinewidth\": 0, \"ticks\": \"\"}}, \"type\": \"scattercarpet\"}], \"scattergeo\": [{\"marker\": {\"colorbar\": {\"outlinewidth\": 0, \"ticks\": \"\"}}, \"type\": \"scattergeo\"}], \"scattergl\": [{\"marker\": {\"colorbar\": {\"outlinewidth\": 0, \"ticks\": \"\"}}, \"type\": \"scattergl\"}], \"scattermapbox\": [{\"marker\": {\"colorbar\": {\"outlinewidth\": 0, \"ticks\": \"\"}}, \"type\": \"scattermapbox\"}], \"scatterpolar\": [{\"marker\": {\"colorbar\": {\"outlinewidth\": 0, \"ticks\": \"\"}}, \"type\": \"scatterpolar\"}], \"scatterpolargl\": [{\"marker\": {\"colorbar\": {\"outlinewidth\": 0, \"ticks\": \"\"}}, \"type\": \"scatterpolargl\"}], \"scatterternary\": [{\"marker\": {\"colorbar\": {\"outlinewidth\": 0, \"ticks\": \"\"}}, \"type\": \"scatterternary\"}], \"surface\": [{\"colorbar\": {\"outlinewidth\": 0, \"ticks\": \"\"}, \"colorscale\": [[0.0, \"#0d0887\"], [0.1111111111111111, \"#46039f\"], [0.2222222222222222, \"#7201a8\"], [0.3333333333333333, \"#9c179e\"], [0.4444444444444444, \"#bd3786\"], [0.5555555555555556, \"#d8576b\"], [0.6666666666666666, \"#ed7953\"], [0.7777777777777778, \"#fb9f3a\"], [0.8888888888888888, \"#fdca26\"], [1.0, \"#f0f921\"]], \"type\": \"surface\"}], \"table\": [{\"cells\": {\"fill\": {\"color\": \"#EBF0F8\"}, \"line\": {\"color\": \"white\"}}, \"header\": {\"fill\": {\"color\": \"#C8D4E3\"}, \"line\": {\"color\": \"white\"}}, \"type\": \"table\"}]}, \"layout\": {\"annotationdefaults\": {\"arrowcolor\": \"#2a3f5f\", \"arrowhead\": 0, \"arrowwidth\": 1}, \"coloraxis\": {\"colorbar\": {\"outlinewidth\": 0, \"ticks\": \"\"}}, \"colorscale\": {\"diverging\": [[0, \"#8e0152\"], [0.1, \"#c51b7d\"], [0.2, \"#de77ae\"], [0.3, \"#f1b6da\"], [0.4, \"#fde0ef\"], [0.5, \"#f7f7f7\"], [0.6, \"#e6f5d0\"], [0.7, \"#b8e186\"], [0.8, \"#7fbc41\"], [0.9, \"#4d9221\"], [1, \"#276419\"]], \"sequential\": [[0.0, \"#0d0887\"], [0.1111111111111111, \"#46039f\"], [0.2222222222222222, \"#7201a8\"], [0.3333333333333333, \"#9c179e\"], [0.4444444444444444, \"#bd3786\"], [0.5555555555555556, \"#d8576b\"], [0.6666666666666666, \"#ed7953\"], [0.7777777777777778, \"#fb9f3a\"], [0.8888888888888888, \"#fdca26\"], [1.0, \"#f0f921\"]], \"sequentialminus\": [[0.0, \"#0d0887\"], [0.1111111111111111, \"#46039f\"], [0.2222222222222222, \"#7201a8\"], [0.3333333333333333, \"#9c179e\"], [0.4444444444444444, \"#bd3786\"], [0.5555555555555556, \"#d8576b\"], [0.6666666666666666, \"#ed7953\"], [0.7777777777777778, \"#fb9f3a\"], [0.8888888888888888, \"#fdca26\"], [1.0, \"#f0f921\"]]}, \"colorway\": [\"#636efa\", \"#EF553B\", \"#00cc96\", \"#ab63fa\", \"#FFA15A\", \"#19d3f3\", \"#FF6692\", \"#B6E880\", \"#FF97FF\", \"#FECB52\"], \"font\": {\"color\": \"#2a3f5f\"}, \"geo\": {\"bgcolor\": \"white\", \"lakecolor\": \"white\", \"landcolor\": \"#E5ECF6\", \"showlakes\": true, \"showland\": true, \"subunitcolor\": \"white\"}, \"hoverlabel\": {\"align\": \"left\"}, \"hovermode\": \"closest\", \"mapbox\": {\"style\": \"light\"}, \"paper_bgcolor\": \"white\", \"plot_bgcolor\": \"#E5ECF6\", \"polar\": {\"angularaxis\": {\"gridcolor\": \"white\", \"linecolor\": \"white\", \"ticks\": \"\"}, \"bgcolor\": \"#E5ECF6\", \"radialaxis\": {\"gridcolor\": \"white\", \"linecolor\": \"white\", \"ticks\": \"\"}}, \"scene\": {\"xaxis\": {\"backgroundcolor\": \"#E5ECF6\", \"gridcolor\": \"white\", \"gridwidth\": 2, \"linecolor\": \"white\", \"showbackground\": true, \"ticks\": \"\", \"zerolinecolor\": \"white\"}, \"yaxis\": {\"backgroundcolor\": \"#E5ECF6\", \"gridcolor\": \"white\", \"gridwidth\": 2, \"linecolor\": \"white\", \"showbackground\": true, \"ticks\": \"\", \"zerolinecolor\": \"white\"}, \"zaxis\": {\"backgroundcolor\": \"#E5ECF6\", \"gridcolor\": \"white\", \"gridwidth\": 2, \"linecolor\": \"white\", \"showbackground\": true, \"ticks\": \"\", \"zerolinecolor\": \"white\"}}, \"shapedefaults\": {\"line\": {\"color\": \"#2a3f5f\"}}, \"ternary\": {\"aaxis\": {\"gridcolor\": \"white\", \"linecolor\": \"white\", \"ticks\": \"\"}, \"baxis\": {\"gridcolor\": \"white\", \"linecolor\": \"white\", \"ticks\": \"\"}, \"bgcolor\": \"#E5ECF6\", \"caxis\": {\"gridcolor\": \"white\", \"linecolor\": \"white\", \"ticks\": \"\"}}, \"title\": {\"x\": 0.05}, \"xaxis\": {\"automargin\": true, \"gridcolor\": \"white\", \"linecolor\": \"white\", \"ticks\": \"\", \"title\": {\"standoff\": 15}, \"zerolinecolor\": \"white\", \"zerolinewidth\": 2}, \"yaxis\": {\"automargin\": true, \"gridcolor\": \"white\", \"linecolor\": \"white\", \"ticks\": \"\", \"title\": {\"standoff\": 15}, \"zerolinecolor\": \"white\", \"zerolinewidth\": 2}}}, \"title\": {\"text\": \"Sankey Diagram of scientists migration\"}},\n",
       "                        {\"responsive\": true}\n",
       "                    ).then(function(){\n",
       "                            \n",
       "var gd = document.getElementById('66689356-8d80-4e83-ad10-98e4639b84af');\n",
       "var x = new MutationObserver(function (mutations, observer) {{\n",
       "        var display = window.getComputedStyle(gd).display;\n",
       "        if (!display || display === 'none') {{\n",
       "            console.log([gd, 'removed!']);\n",
       "            Plotly.purge(gd);\n",
       "            observer.disconnect();\n",
       "        }}\n",
       "}});\n",
       "\n",
       "// Listen for the removal of the full notebook cells\n",
       "var notebookContainer = gd.closest('#notebook-container');\n",
       "if (notebookContainer) {{\n",
       "    x.observe(notebookContainer, {childList: true});\n",
       "}}\n",
       "\n",
       "// Listen for the clearing of the current output cell\n",
       "var outputEl = gd.closest('.output');\n",
       "if (outputEl) {{\n",
       "    x.observe(outputEl, {childList: true});\n",
       "}}\n",
       "\n",
       "                        })\n",
       "                };\n",
       "                });\n",
       "            </script>\n",
       "        </div>"
      ]
     },
     "metadata": {},
     "output_type": "display_data"
    }
   ],
   "source": [
    "\n",
    "\n",
    "fig = go.Figure(data=[go.Sankey(\n",
    "    node = dict(\n",
    "      pad = 50,\n",
    "      thickness = 5,\n",
    "      line = dict(color = \"black\", width = 0.5),\n",
    "      label = label,\n",
    "      customdata = customdata,\n",
    "      hovertemplate='Node %{customdata} has total value %{value}<extra></extra>',  \n",
    "      color = color_node\n",
    "    ),\n",
    "    link = dict(\n",
    "      source = source, # indices correspond to labels, eg A1, A2, A2, B1, ...\n",
    "      target = target,\n",
    "      value = value,\n",
    "      customdata = customdata,\n",
    "      hovertemplate='Link from node %{source.customdata}<br />'+\n",
    "        'to node%{target.customdata}<br />has value %{value}'+\n",
    "        '<br />', color = color_link \n",
    "  ))])\n",
    "\n",
    "fig.update_layout(title_text=\"Sankey Diagram of scientists migration\", font_size=10, paper_bgcolor ='white' )\n",
    "fig.show()"
   ]
  },
  {
   "cell_type": "markdown",
   "metadata": {},
   "source": [
    "### Can seen very nicely that the main source is China and the target is the US\n",
    "If you move your mouse above the path, you can see the exact description of the migration channel"
   ]
  },
  {
   "cell_type": "code",
   "execution_count": 241,
   "metadata": {},
   "outputs": [
    {
     "data": {
      "text/html": [
       "<div>\n",
       "<style scoped>\n",
       "    .dataframe tbody tr th:only-of-type {\n",
       "        vertical-align: middle;\n",
       "    }\n",
       "\n",
       "    .dataframe tbody tr th {\n",
       "        vertical-align: top;\n",
       "    }\n",
       "\n",
       "    .dataframe thead th {\n",
       "        text-align: right;\n",
       "    }\n",
       "</style>\n",
       "<table border=\"1\" class=\"dataframe\">\n",
       "  <thead>\n",
       "    <tr style=\"text-align: right;\">\n",
       "      <th></th>\n",
       "      <th>earliest_country</th>\n",
       "      <th>orcid_id</th>\n",
       "    </tr>\n",
       "  </thead>\n",
       "  <tbody>\n",
       "    <tr>\n",
       "      <th>0</th>\n",
       "      <td>CA</td>\n",
       "      <td>1971</td>\n",
       "    </tr>\n",
       "    <tr>\n",
       "      <th>1</th>\n",
       "      <td>CN</td>\n",
       "      <td>5771</td>\n",
       "    </tr>\n",
       "    <tr>\n",
       "      <th>2</th>\n",
       "      <td>DE</td>\n",
       "      <td>2002</td>\n",
       "    </tr>\n",
       "    <tr>\n",
       "      <th>3</th>\n",
       "      <td>ES</td>\n",
       "      <td>1378</td>\n",
       "    </tr>\n",
       "    <tr>\n",
       "      <th>4</th>\n",
       "      <td>FR</td>\n",
       "      <td>1600</td>\n",
       "    </tr>\n",
       "    <tr>\n",
       "      <th>5</th>\n",
       "      <td>GB</td>\n",
       "      <td>3111</td>\n",
       "    </tr>\n",
       "    <tr>\n",
       "      <th>6</th>\n",
       "      <td>IN</td>\n",
       "      <td>3727</td>\n",
       "    </tr>\n",
       "    <tr>\n",
       "      <th>7</th>\n",
       "      <td>IT</td>\n",
       "      <td>2155</td>\n",
       "    </tr>\n",
       "    <tr>\n",
       "      <th>8</th>\n",
       "      <td>RU</td>\n",
       "      <td>831</td>\n",
       "    </tr>\n",
       "    <tr>\n",
       "      <th>9</th>\n",
       "      <td>US</td>\n",
       "      <td>4028</td>\n",
       "    </tr>\n",
       "  </tbody>\n",
       "</table>\n",
       "</div>"
      ],
      "text/plain": [
       "  earliest_country  orcid_id\n",
       "0               CA      1971\n",
       "1               CN      5771\n",
       "2               DE      2002\n",
       "3               ES      1378\n",
       "4               FR      1600\n",
       "5               GB      3111\n",
       "6               IN      3727\n",
       "7               IT      2155\n",
       "8               RU       831\n",
       "9               US      4028"
      ]
     },
     "execution_count": 241,
     "metadata": {},
     "output_type": "execute_result"
    }
   ],
   "source": [
    "agg.groupby(['earliest_country'], as_index=False)['orcid_id'].sum()"
   ]
  },
  {
   "cell_type": "code",
   "execution_count": 245,
   "metadata": {},
   "outputs": [
    {
     "data": {
      "text/plain": [
       "<matplotlib.collections.PathCollection at 0x24ca94a4518>"
      ]
     },
     "execution_count": 245,
     "metadata": {},
     "output_type": "execute_result"
    },
    {
     "data": {
      "image/png": "[encoded data removed]",
      "text/plain": [
       "<Figure size 432x288 with 1 Axes>"
      ]
     },
     "metadata": {
      "needs_background": "light"
     },
     "output_type": "display_data"
    }
   ],
   "source": [
    "\n",
    "# create data\n",
    "x = np.random.rand(15)\n",
    "y = x+np.random.rand(15)\n",
    "z = x+np.random.rand(15)\n",
    "z=z*z\n",
    " \n",
    "# Use it with a call in cmap\n",
    "plt.scatter(x, y, s=z*2000, c=x, cmap=\"BuPu\", alpha=0.4, edgecolors=\"grey\", linewidth=2)\n",
    " \n",
    "# You can reverse it:\n",
    "#plt.scatter(x, y, s=z*2000, c=x, cmap=\"BuPu_r\", alpha=0.4, edgecolors=\"grey\", linewidth=2)\n",
    " \n",
    "# OTHER: viridis / inferno / plasma / magma\n",
    "#plt.scatter(x, y, s=z*2000, c=x, cmap=\"plasma\", alpha=0.4, edgecolors=\"grey\", linewidth=2)\n"
   ]
  }
 ],
 "metadata": {
  "kernelspec": {
   "display_name": "Python 3",
   "language": "python",
   "name": "python3"
  },
  "language_info": {
   "codemirror_mode": {
    "name": "ipython",
    "version": 3
   },
   "file_extension": ".py",
   "mimetype": "text/x-python",
   "name": "python",
   "nbconvert_exporter": "python",
   "pygments_lexer": "ipython3",
   "version": "3.6.10"
  }
 },
 "nbformat": 4,
 "nbformat_minor": 4
}
